{
 "cells": [
  {
   "cell_type": "code",
   "execution_count": 1,
   "id": "bef3981c",
   "metadata": {
    "execution": {
     "iopub.execute_input": "2023-01-27T14:25:08.330138Z",
     "iopub.status.busy": "2023-01-27T14:25:08.329187Z",
     "iopub.status.idle": "2023-01-27T14:26:45.836856Z",
     "shell.execute_reply": "2023-01-27T14:26:45.835396Z",
     "shell.execute_reply.started": "2023-01-27T13:30:56.005899Z"
    },
    "papermill": {
     "duration": 97.563753,
     "end_time": "2023-01-27T14:26:45.837099",
     "exception": false,
     "start_time": "2023-01-27T14:25:08.273346",
     "status": "completed"
    },
    "tags": []
   },
   "outputs": [],
   "source": [
    "import random\n",
    "import time\n",
    "import numpy as np\n",
    "import pandas as pd\n",
    "import matplotlib.pyplot as plt\n",
    "\n",
    "from matplotlib.pyplot import figure\n",
    "from collections import Counter\n",
    "\n",
    "transactions = pd.read_csv('/kaggle/input/h-and-m-personalized-fashion-recommendations/transactions_train.csv')\n",
    "sample_submission = pd.read_csv('/kaggle/input/h-and-m-personalized-fashion-recommendations/sample_submission.csv')\n",
    "# /kaggle/input/h-and-m-personalized-fashion-recommendations/sample_submission.csv\n",
    "# /kaggle/input/h-and-m-personalized-fashion-recommendations/articles.csv\n",
    "# /kaggle/input/h-and-m-personalized-fashion-recommendations/transactions_train.csv\n",
    "# /kaggle/input/h-and-m-personalized-fashion-recommendations/customers.csv\n",
    "\n",
    "# FIXME : does not work\n",
    "plt.rcParams[\"figure.figsize\"] = (15,5)"
   ]
  },
  {
   "cell_type": "code",
   "execution_count": 2,
   "id": "ae15f761",
   "metadata": {
    "execution": {
     "iopub.execute_input": "2023-01-27T14:26:45.928538Z",
     "iopub.status.busy": "2023-01-27T14:26:45.927689Z",
     "iopub.status.idle": "2023-01-27T14:26:45.951921Z",
     "shell.execute_reply": "2023-01-27T14:26:45.952505Z",
     "shell.execute_reply.started": "2023-01-27T13:31:43.901731Z"
    },
    "papermill": {
     "duration": 0.072357,
     "end_time": "2023-01-27T14:26:45.952713",
     "exception": false,
     "start_time": "2023-01-27T14:26:45.880356",
     "status": "completed"
    },
    "tags": []
   },
   "outputs": [
    {
     "data": {
      "text/html": [
       "<div>\n",
       "<style scoped>\n",
       "    .dataframe tbody tr th:only-of-type {\n",
       "        vertical-align: middle;\n",
       "    }\n",
       "\n",
       "    .dataframe tbody tr th {\n",
       "        vertical-align: top;\n",
       "    }\n",
       "\n",
       "    .dataframe thead th {\n",
       "        text-align: right;\n",
       "    }\n",
       "</style>\n",
       "<table border=\"1\" class=\"dataframe\">\n",
       "  <thead>\n",
       "    <tr style=\"text-align: right;\">\n",
       "      <th></th>\n",
       "      <th>t_dat</th>\n",
       "      <th>customer_id</th>\n",
       "      <th>article_id</th>\n",
       "      <th>price</th>\n",
       "      <th>sales_channel_id</th>\n",
       "    </tr>\n",
       "  </thead>\n",
       "  <tbody>\n",
       "    <tr>\n",
       "      <th>0</th>\n",
       "      <td>2018-09-20</td>\n",
       "      <td>000058a12d5b43e67d225668fa1f8d618c13dc232df0ca...</td>\n",
       "      <td>663713001</td>\n",
       "      <td>0.050831</td>\n",
       "      <td>2</td>\n",
       "    </tr>\n",
       "    <tr>\n",
       "      <th>1</th>\n",
       "      <td>2018-09-20</td>\n",
       "      <td>000058a12d5b43e67d225668fa1f8d618c13dc232df0ca...</td>\n",
       "      <td>541518023</td>\n",
       "      <td>0.030492</td>\n",
       "      <td>2</td>\n",
       "    </tr>\n",
       "    <tr>\n",
       "      <th>2</th>\n",
       "      <td>2018-09-20</td>\n",
       "      <td>00007d2de826758b65a93dd24ce629ed66842531df6699...</td>\n",
       "      <td>505221004</td>\n",
       "      <td>0.015237</td>\n",
       "      <td>2</td>\n",
       "    </tr>\n",
       "    <tr>\n",
       "      <th>3</th>\n",
       "      <td>2018-09-20</td>\n",
       "      <td>00007d2de826758b65a93dd24ce629ed66842531df6699...</td>\n",
       "      <td>685687003</td>\n",
       "      <td>0.016932</td>\n",
       "      <td>2</td>\n",
       "    </tr>\n",
       "    <tr>\n",
       "      <th>4</th>\n",
       "      <td>2018-09-20</td>\n",
       "      <td>00007d2de826758b65a93dd24ce629ed66842531df6699...</td>\n",
       "      <td>685687004</td>\n",
       "      <td>0.016932</td>\n",
       "      <td>2</td>\n",
       "    </tr>\n",
       "  </tbody>\n",
       "</table>\n",
       "</div>"
      ],
      "text/plain": [
       "        t_dat                                        customer_id  article_id  \\\n",
       "0  2018-09-20  000058a12d5b43e67d225668fa1f8d618c13dc232df0ca...   663713001   \n",
       "1  2018-09-20  000058a12d5b43e67d225668fa1f8d618c13dc232df0ca...   541518023   \n",
       "2  2018-09-20  00007d2de826758b65a93dd24ce629ed66842531df6699...   505221004   \n",
       "3  2018-09-20  00007d2de826758b65a93dd24ce629ed66842531df6699...   685687003   \n",
       "4  2018-09-20  00007d2de826758b65a93dd24ce629ed66842531df6699...   685687004   \n",
       "\n",
       "      price  sales_channel_id  \n",
       "0  0.050831                 2  \n",
       "1  0.030492                 2  \n",
       "2  0.015237                 2  \n",
       "3  0.016932                 2  \n",
       "4  0.016932                 2  "
      ]
     },
     "execution_count": 2,
     "metadata": {},
     "output_type": "execute_result"
    }
   ],
   "source": [
    "transactions.head()"
   ]
  },
  {
   "cell_type": "code",
   "execution_count": 3,
   "id": "c89720b0",
   "metadata": {
    "execution": {
     "iopub.execute_input": "2023-01-27T14:26:46.056795Z",
     "iopub.status.busy": "2023-01-27T14:26:46.055478Z",
     "iopub.status.idle": "2023-01-27T14:26:46.059563Z",
     "shell.execute_reply": "2023-01-27T14:26:46.060117Z",
     "shell.execute_reply.started": "2023-01-27T13:31:43.934127Z"
    },
    "papermill": {
     "duration": 0.061474,
     "end_time": "2023-01-27T14:26:46.060328",
     "exception": false,
     "start_time": "2023-01-27T14:26:45.998854",
     "status": "completed"
    },
    "tags": []
   },
   "outputs": [
    {
     "data": {
      "text/html": [
       "<div>\n",
       "<style scoped>\n",
       "    .dataframe tbody tr th:only-of-type {\n",
       "        vertical-align: middle;\n",
       "    }\n",
       "\n",
       "    .dataframe tbody tr th {\n",
       "        vertical-align: top;\n",
       "    }\n",
       "\n",
       "    .dataframe thead th {\n",
       "        text-align: right;\n",
       "    }\n",
       "</style>\n",
       "<table border=\"1\" class=\"dataframe\">\n",
       "  <thead>\n",
       "    <tr style=\"text-align: right;\">\n",
       "      <th></th>\n",
       "      <th>customer_id</th>\n",
       "      <th>prediction</th>\n",
       "    </tr>\n",
       "  </thead>\n",
       "  <tbody>\n",
       "    <tr>\n",
       "      <th>0</th>\n",
       "      <td>00000dbacae5abe5e23885899a1fa44253a17956c6d1c3...</td>\n",
       "      <td>0706016001 0706016002 0372860001 0610776002 07...</td>\n",
       "    </tr>\n",
       "    <tr>\n",
       "      <th>1</th>\n",
       "      <td>0000423b00ade91418cceaf3b26c6af3dd342b51fd051e...</td>\n",
       "      <td>0706016001 0706016002 0372860001 0610776002 07...</td>\n",
       "    </tr>\n",
       "    <tr>\n",
       "      <th>2</th>\n",
       "      <td>000058a12d5b43e67d225668fa1f8d618c13dc232df0ca...</td>\n",
       "      <td>0706016001 0706016002 0372860001 0610776002 07...</td>\n",
       "    </tr>\n",
       "    <tr>\n",
       "      <th>3</th>\n",
       "      <td>00005ca1c9ed5f5146b52ac8639a40ca9d57aeff4d1bd2...</td>\n",
       "      <td>0706016001 0706016002 0372860001 0610776002 07...</td>\n",
       "    </tr>\n",
       "    <tr>\n",
       "      <th>4</th>\n",
       "      <td>00006413d8573cd20ed7128e53b7b13819fe5cfc2d801f...</td>\n",
       "      <td>0706016001 0706016002 0372860001 0610776002 07...</td>\n",
       "    </tr>\n",
       "  </tbody>\n",
       "</table>\n",
       "</div>"
      ],
      "text/plain": [
       "                                         customer_id  \\\n",
       "0  00000dbacae5abe5e23885899a1fa44253a17956c6d1c3...   \n",
       "1  0000423b00ade91418cceaf3b26c6af3dd342b51fd051e...   \n",
       "2  000058a12d5b43e67d225668fa1f8d618c13dc232df0ca...   \n",
       "3  00005ca1c9ed5f5146b52ac8639a40ca9d57aeff4d1bd2...   \n",
       "4  00006413d8573cd20ed7128e53b7b13819fe5cfc2d801f...   \n",
       "\n",
       "                                          prediction  \n",
       "0  0706016001 0706016002 0372860001 0610776002 07...  \n",
       "1  0706016001 0706016002 0372860001 0610776002 07...  \n",
       "2  0706016001 0706016002 0372860001 0610776002 07...  \n",
       "3  0706016001 0706016002 0372860001 0610776002 07...  \n",
       "4  0706016001 0706016002 0372860001 0610776002 07...  "
      ]
     },
     "execution_count": 3,
     "metadata": {},
     "output_type": "execute_result"
    }
   ],
   "source": [
    "sample_submission.head()"
   ]
  },
  {
   "cell_type": "markdown",
   "id": "3cd4463a",
   "metadata": {
    "papermill": {
     "duration": 0.041813,
     "end_time": "2023-01-27T14:26:46.145419",
     "exception": false,
     "start_time": "2023-01-27T14:26:46.103606",
     "status": "completed"
    },
    "tags": []
   },
   "source": [
    "# Data analysis"
   ]
  },
  {
   "cell_type": "code",
   "execution_count": 4,
   "id": "b7a73d2a",
   "metadata": {
    "execution": {
     "iopub.execute_input": "2023-01-27T14:26:46.242226Z",
     "iopub.status.busy": "2023-01-27T14:26:46.241415Z",
     "iopub.status.idle": "2023-01-27T14:27:25.532601Z",
     "shell.execute_reply": "2023-01-27T14:27:25.533221Z",
     "shell.execute_reply.started": "2023-01-27T13:31:43.953548Z"
    },
    "papermill": {
     "duration": 39.345865,
     "end_time": "2023-01-27T14:27:25.533444",
     "exception": false,
     "start_time": "2023-01-27T14:26:46.187579",
     "status": "completed"
    },
    "tags": []
   },
   "outputs": [
    {
     "data": {
      "image/png": "[encoded data removed]",
      "text/plain": [
       "<Figure size 1080x360 with 1 Axes>"
      ]
     },
     "metadata": {
      "needs_background": "light"
     },
     "output_type": "display_data"
    }
   ],
   "source": [
    "# Sold products over the years\n",
    "df = transactions\n",
    "df['year_month'] = df['t_dat'].apply(lambda x : x.split('-')[0]+'-'+x.split('-')[1])\n",
    "df = df.groupby(['year_month']).count().reset_index()\n",
    "_ = plt.plot(df['year_month'], df['t_dat'])\n",
    "_ = plt.xticks(rotation=90)"
   ]
  },
  {
   "cell_type": "code",
   "execution_count": 5,
   "id": "80f2a250",
   "metadata": {
    "execution": {
     "iopub.execute_input": "2023-01-27T14:27:26.127151Z",
     "iopub.status.busy": "2023-01-27T14:27:26.126321Z",
     "iopub.status.idle": "2023-01-27T14:27:59.514115Z",
     "shell.execute_reply": "2023-01-27T14:27:59.514703Z",
     "shell.execute_reply.started": "2023-01-27T13:32:14.296735Z"
    },
    "papermill": {
     "duration": 33.938682,
     "end_time": "2023-01-27T14:27:59.514926",
     "exception": false,
     "start_time": "2023-01-27T14:27:25.576244",
     "status": "completed"
    },
    "tags": []
   },
   "outputs": [
    {
     "data": {
      "image/png": "[encoded data removed]",
      "text/plain": [
       "<Figure size 1080x360 with 1 Axes>"
      ]
     },
     "metadata": {
      "needs_background": "light"
     },
     "output_type": "display_data"
    }
   ],
   "source": [
    "# Sold product each month\n",
    "df = transactions\n",
    "df['month'] = df['t_dat'].apply(lambda x : x.split('-')[1])\n",
    "df = df.groupby(['month']).count().reset_index()\n",
    "_ = plt.bar(df['month'], df['t_dat'], align='center')"
   ]
  },
  {
   "cell_type": "code",
   "execution_count": 6,
   "id": "84bde666",
   "metadata": {
    "execution": {
     "iopub.execute_input": "2023-01-27T14:28:00.523959Z",
     "iopub.status.busy": "2023-01-27T14:27:59.608668Z",
     "iopub.status.idle": "2023-01-27T14:31:39.139574Z",
     "shell.execute_reply": "2023-01-27T14:31:39.140295Z",
     "shell.execute_reply.started": "2023-01-27T13:53:15.066537Z"
    },
    "papermill": {
     "duration": 219.583141,
     "end_time": "2023-01-27T14:31:39.140907",
     "exception": false,
     "start_time": "2023-01-27T14:27:59.557766",
     "status": "completed"
    },
    "tags": []
   },
   "outputs": [
    {
     "name": "stdout",
     "output_type": "stream",
     "text": [
      "       article_id  customer_id\n",
      "53832   706016001        50287\n",
      "53833   706016002        35043\n",
      "1711    372860001        31718\n",
      "24808   610776002        30199\n",
      "70124   759871002        26329\n",
      "...           ...          ...\n",
      "8205    521266001            1\n",
      "36666   651538001            1\n",
      "8211    521302001            1\n",
      "36710   651645003            1\n",
      "13340   557727001            1\n",
      "\n",
      "[104547 rows x 2 columns]\n"
     ]
    },
    {
     "data": {
      "image/png": "[encoded data removed]",
      "text/plain": [
       "<Figure size 1080x360 with 1 Axes>"
      ]
     },
     "metadata": {
      "needs_background": "light"
     },
     "output_type": "display_data"
    }
   ],
   "source": [
    "# Top products\n",
    "df = transactions.groupby(['article_id']).count().reset_index()[[\"article_id\", \"customer_id\"]].sort_values([\"customer_id\"], ascending=False)\n",
    "print(df)\n",
    "_ = plt.bar(df['article_id'], df['customer_id'], align='center')"
   ]
  },
  {
   "cell_type": "code",
   "execution_count": 7,
   "id": "6619b510",
   "metadata": {
    "execution": {
     "iopub.execute_input": "2023-01-27T14:31:39.236670Z",
     "iopub.status.busy": "2023-01-27T14:31:39.235785Z",
     "iopub.status.idle": "2023-01-27T14:31:39.473398Z",
     "shell.execute_reply": "2023-01-27T14:31:39.472609Z",
     "shell.execute_reply.started": "2023-01-27T13:32:53.205035Z"
    },
    "papermill": {
     "duration": 0.287058,
     "end_time": "2023-01-27T14:31:39.473592",
     "exception": false,
     "start_time": "2023-01-27T14:31:39.186534",
     "status": "completed"
    },
    "tags": []
   },
   "outputs": [
    {
     "data": {
      "image/png": "[encoded data removed]",
      "text/plain": [
       "<Figure size 1080x360 with 1 Axes>"
      ]
     },
     "metadata": {
      "needs_background": "light"
     },
     "output_type": "display_data"
    }
   ],
   "source": [
    "_ = plt.boxplot(df['customer_id'])"
   ]
  },
  {
   "cell_type": "code",
   "execution_count": 8,
   "id": "5ad1ba18",
   "metadata": {
    "execution": {
     "iopub.execute_input": "2023-01-27T14:31:39.570175Z",
     "iopub.status.busy": "2023-01-27T14:31:39.568705Z",
     "iopub.status.idle": "2023-01-27T14:31:39.589023Z",
     "shell.execute_reply": "2023-01-27T14:31:39.589643Z",
     "shell.execute_reply.started": "2023-01-27T13:32:53.360742Z"
    },
    "papermill": {
     "duration": 0.070609,
     "end_time": "2023-01-27T14:31:39.589882",
     "exception": false,
     "start_time": "2023-01-27T14:31:39.519273",
     "status": "completed"
    },
    "tags": []
   },
   "outputs": [
    {
     "data": {
      "text/html": [
       "<div>\n",
       "<style scoped>\n",
       "    .dataframe tbody tr th:only-of-type {\n",
       "        vertical-align: middle;\n",
       "    }\n",
       "\n",
       "    .dataframe tbody tr th {\n",
       "        vertical-align: top;\n",
       "    }\n",
       "\n",
       "    .dataframe thead th {\n",
       "        text-align: right;\n",
       "    }\n",
       "</style>\n",
       "<table border=\"1\" class=\"dataframe\">\n",
       "  <thead>\n",
       "    <tr style=\"text-align: right;\">\n",
       "      <th></th>\n",
       "      <th>t_dat</th>\n",
       "      <th>customer_id</th>\n",
       "      <th>article_id</th>\n",
       "      <th>price</th>\n",
       "      <th>sales_channel_id</th>\n",
       "      <th>year_month</th>\n",
       "      <th>month</th>\n",
       "    </tr>\n",
       "  </thead>\n",
       "  <tbody>\n",
       "    <tr>\n",
       "      <th>0</th>\n",
       "      <td>2018-09-20</td>\n",
       "      <td>000058a12d5b43e67d225668fa1f8d618c13dc232df0ca...</td>\n",
       "      <td>663713001</td>\n",
       "      <td>0.050831</td>\n",
       "      <td>2</td>\n",
       "      <td>2018-09</td>\n",
       "      <td>09</td>\n",
       "    </tr>\n",
       "    <tr>\n",
       "      <th>1</th>\n",
       "      <td>2018-09-20</td>\n",
       "      <td>000058a12d5b43e67d225668fa1f8d618c13dc232df0ca...</td>\n",
       "      <td>541518023</td>\n",
       "      <td>0.030492</td>\n",
       "      <td>2</td>\n",
       "      <td>2018-09</td>\n",
       "      <td>09</td>\n",
       "    </tr>\n",
       "    <tr>\n",
       "      <th>2</th>\n",
       "      <td>2018-09-20</td>\n",
       "      <td>00007d2de826758b65a93dd24ce629ed66842531df6699...</td>\n",
       "      <td>505221004</td>\n",
       "      <td>0.015237</td>\n",
       "      <td>2</td>\n",
       "      <td>2018-09</td>\n",
       "      <td>09</td>\n",
       "    </tr>\n",
       "    <tr>\n",
       "      <th>3</th>\n",
       "      <td>2018-09-20</td>\n",
       "      <td>00007d2de826758b65a93dd24ce629ed66842531df6699...</td>\n",
       "      <td>685687003</td>\n",
       "      <td>0.016932</td>\n",
       "      <td>2</td>\n",
       "      <td>2018-09</td>\n",
       "      <td>09</td>\n",
       "    </tr>\n",
       "    <tr>\n",
       "      <th>4</th>\n",
       "      <td>2018-09-20</td>\n",
       "      <td>00007d2de826758b65a93dd24ce629ed66842531df6699...</td>\n",
       "      <td>685687004</td>\n",
       "      <td>0.016932</td>\n",
       "      <td>2</td>\n",
       "      <td>2018-09</td>\n",
       "      <td>09</td>\n",
       "    </tr>\n",
       "    <tr>\n",
       "      <th>...</th>\n",
       "      <td>...</td>\n",
       "      <td>...</td>\n",
       "      <td>...</td>\n",
       "      <td>...</td>\n",
       "      <td>...</td>\n",
       "      <td>...</td>\n",
       "      <td>...</td>\n",
       "    </tr>\n",
       "    <tr>\n",
       "      <th>31788319</th>\n",
       "      <td>2020-09-22</td>\n",
       "      <td>fff2282977442e327b45d8c89afde25617d00124d0f999...</td>\n",
       "      <td>929511001</td>\n",
       "      <td>0.059305</td>\n",
       "      <td>2</td>\n",
       "      <td>2020-09</td>\n",
       "      <td>09</td>\n",
       "    </tr>\n",
       "    <tr>\n",
       "      <th>31788320</th>\n",
       "      <td>2020-09-22</td>\n",
       "      <td>fff2282977442e327b45d8c89afde25617d00124d0f999...</td>\n",
       "      <td>891322004</td>\n",
       "      <td>0.042356</td>\n",
       "      <td>2</td>\n",
       "      <td>2020-09</td>\n",
       "      <td>09</td>\n",
       "    </tr>\n",
       "    <tr>\n",
       "      <th>31788321</th>\n",
       "      <td>2020-09-22</td>\n",
       "      <td>fff380805474b287b05cb2a7507b9a013482f7dd0bce0e...</td>\n",
       "      <td>918325001</td>\n",
       "      <td>0.043203</td>\n",
       "      <td>1</td>\n",
       "      <td>2020-09</td>\n",
       "      <td>09</td>\n",
       "    </tr>\n",
       "    <tr>\n",
       "      <th>31788322</th>\n",
       "      <td>2020-09-22</td>\n",
       "      <td>fff4d3a8b1f3b60af93e78c30a7cb4cf75edaf2590d3e5...</td>\n",
       "      <td>833459002</td>\n",
       "      <td>0.006763</td>\n",
       "      <td>1</td>\n",
       "      <td>2020-09</td>\n",
       "      <td>09</td>\n",
       "    </tr>\n",
       "    <tr>\n",
       "      <th>31788323</th>\n",
       "      <td>2020-09-22</td>\n",
       "      <td>fffef3b6b73545df065b521e19f64bf6fe93bfd450ab20...</td>\n",
       "      <td>898573003</td>\n",
       "      <td>0.033881</td>\n",
       "      <td>2</td>\n",
       "      <td>2020-09</td>\n",
       "      <td>09</td>\n",
       "    </tr>\n",
       "  </tbody>\n",
       "</table>\n",
       "<p>31788324 rows × 7 columns</p>\n",
       "</div>"
      ],
      "text/plain": [
       "               t_dat                                        customer_id  \\\n",
       "0         2018-09-20  000058a12d5b43e67d225668fa1f8d618c13dc232df0ca...   \n",
       "1         2018-09-20  000058a12d5b43e67d225668fa1f8d618c13dc232df0ca...   \n",
       "2         2018-09-20  00007d2de826758b65a93dd24ce629ed66842531df6699...   \n",
       "3         2018-09-20  00007d2de826758b65a93dd24ce629ed66842531df6699...   \n",
       "4         2018-09-20  00007d2de826758b65a93dd24ce629ed66842531df6699...   \n",
       "...              ...                                                ...   \n",
       "31788319  2020-09-22  fff2282977442e327b45d8c89afde25617d00124d0f999...   \n",
       "31788320  2020-09-22  fff2282977442e327b45d8c89afde25617d00124d0f999...   \n",
       "31788321  2020-09-22  fff380805474b287b05cb2a7507b9a013482f7dd0bce0e...   \n",
       "31788322  2020-09-22  fff4d3a8b1f3b60af93e78c30a7cb4cf75edaf2590d3e5...   \n",
       "31788323  2020-09-22  fffef3b6b73545df065b521e19f64bf6fe93bfd450ab20...   \n",
       "\n",
       "          article_id     price  sales_channel_id year_month month  \n",
       "0          663713001  0.050831                 2    2018-09    09  \n",
       "1          541518023  0.030492                 2    2018-09    09  \n",
       "2          505221004  0.015237                 2    2018-09    09  \n",
       "3          685687003  0.016932                 2    2018-09    09  \n",
       "4          685687004  0.016932                 2    2018-09    09  \n",
       "...              ...       ...               ...        ...   ...  \n",
       "31788319   929511001  0.059305                 2    2020-09    09  \n",
       "31788320   891322004  0.042356                 2    2020-09    09  \n",
       "31788321   918325001  0.043203                 1    2020-09    09  \n",
       "31788322   833459002  0.006763                 1    2020-09    09  \n",
       "31788323   898573003  0.033881                 2    2020-09    09  \n",
       "\n",
       "[31788324 rows x 7 columns]"
      ]
     },
     "execution_count": 8,
     "metadata": {},
     "output_type": "execute_result"
    }
   ],
   "source": [
    "transactions"
   ]
  },
  {
   "cell_type": "code",
   "execution_count": 9,
   "id": "d7aa65c2",
   "metadata": {
    "execution": {
     "iopub.execute_input": "2023-01-27T14:31:39.701911Z",
     "iopub.status.busy": "2023-01-27T14:31:39.700600Z",
     "iopub.status.idle": "2023-01-27T14:36:19.061948Z",
     "shell.execute_reply": "2023-01-27T14:36:19.062683Z",
     "shell.execute_reply.started": "2023-01-27T13:45:54.357694Z"
    },
    "papermill": {
     "duration": 279.426539,
     "end_time": "2023-01-27T14:36:19.063029",
     "exception": false,
     "start_time": "2023-01-27T14:31:39.636490",
     "status": "completed"
    },
    "tags": []
   },
   "outputs": [
    {
     "data": {
      "image/png": "[encoded data removed]",
      "text/plain": [
       "<Figure size 1080x360 with 1 Axes>"
      ]
     },
     "metadata": {
      "needs_background": "light"
     },
     "output_type": "display_data"
    }
   ],
   "source": [
    "# Number of products by basket (considering one day = one basket as we do not have order_id)\n",
    "transactions_gb = transactions.groupby(['t_dat', 'customer_id'])['article_id'].apply(list).reset_index()  \n",
    "transactions_gb[\"len_basket\"] = transactions_gb[\"article_id\"].apply(lambda x: len(x))\n",
    "transactions_gb = transactions_gb.sort_values([\"len_basket\"])\n",
    "\n",
    "# Taking off outliers\n",
    "transactions_gb_t = transactions_gb[:len(transactions_gb['len_basket'])-2000]\n",
    "\n",
    "# Plot\n",
    "_ = plt.hist(transactions_gb_t['len_basket'], density=True, bins=range(max(list(set(transactions_gb_t['len_basket'])))), rwidth=0.8)\n",
    "_ = plt.xticks(list(set(transactions_gb_t['len_basket'])))"
   ]
  },
  {
   "cell_type": "markdown",
   "id": "0568a883",
   "metadata": {
    "papermill": {
     "duration": 0.050083,
     "end_time": "2023-01-27T14:36:19.166003",
     "exception": false,
     "start_time": "2023-01-27T14:36:19.115920",
     "status": "completed"
    },
    "tags": []
   },
   "source": [
    "# Cleaning + create train and test dataset"
   ]
  },
  {
   "cell_type": "code",
   "execution_count": 10,
   "id": "cd3f6585",
   "metadata": {
    "execution": {
     "iopub.execute_input": "2023-01-27T14:36:21.602526Z",
     "iopub.status.busy": "2023-01-27T14:36:21.601101Z",
     "iopub.status.idle": "2023-01-27T14:36:22.606799Z",
     "shell.execute_reply": "2023-01-27T14:36:22.605804Z",
     "shell.execute_reply.started": "2023-01-27T13:03:53.977675Z"
    },
    "papermill": {
     "duration": 3.390477,
     "end_time": "2023-01-27T14:36:22.607077",
     "exception": false,
     "start_time": "2023-01-27T14:36:19.216600",
     "status": "completed"
    },
    "tags": []
   },
   "outputs": [],
   "source": [
    "# Truncate transactions since the data is too large for Kaggle cluster\n",
    "transactions = transactions[transactions[\"t_dat\"]>='2020-07-01']"
   ]
  },
  {
   "cell_type": "code",
   "execution_count": 11,
   "id": "e13fdbcf",
   "metadata": {
    "execution": {
     "iopub.execute_input": "2023-01-27T14:36:23.098321Z",
     "iopub.status.busy": "2023-01-27T14:36:23.097480Z",
     "iopub.status.idle": "2023-01-27T14:36:25.296350Z",
     "shell.execute_reply": "2023-01-27T14:36:25.297478Z",
     "shell.execute_reply.started": "2023-01-27T13:03:55.566052Z"
    },
    "papermill": {
     "duration": 2.46482,
     "end_time": "2023-01-27T14:36:25.297755",
     "exception": false,
     "start_time": "2023-01-27T14:36:22.832935",
     "status": "completed"
    },
    "tags": []
   },
   "outputs": [
    {
     "name": "stderr",
     "output_type": "stream",
     "text": [
      "/opt/conda/lib/python3.7/site-packages/ipykernel_launcher.py:2: SettingWithCopyWarning: \n",
      "A value is trying to be set on a copy of a slice from a DataFrame.\n",
      "Try using .loc[row_indexer,col_indexer] = value instead\n",
      "\n",
      "See the caveats in the documentation: https://pandas.pydata.org/pandas-docs/stable/user_guide/indexing.html#returning-a-view-versus-a-copy\n",
      "  \n"
     ]
    }
   ],
   "source": [
    "# Considering each article_id as str\n",
    "transactions['article_id'] = transactions['article_id'].astype(str)"
   ]
  },
  {
   "cell_type": "code",
   "execution_count": 12,
   "id": "293f6199",
   "metadata": {
    "execution": {
     "iopub.execute_input": "2023-01-27T14:36:25.541230Z",
     "iopub.status.busy": "2023-01-27T14:36:25.540209Z",
     "iopub.status.idle": "2023-01-27T14:36:30.805635Z",
     "shell.execute_reply": "2023-01-27T14:36:30.806414Z",
     "shell.execute_reply.started": "2023-01-27T13:03:57.177240Z"
    },
    "papermill": {
     "duration": 5.459718,
     "end_time": "2023-01-27T14:36:30.806712",
     "exception": false,
     "start_time": "2023-01-27T14:36:25.346994",
     "status": "completed"
    },
    "tags": []
   },
   "outputs": [
    {
     "name": "stdout",
     "output_type": "stream",
     "text": [
      "Train set size : 2370874\n",
      "Test set size : 1016089\n"
     ]
    }
   ],
   "source": [
    "# Splitting train and test as 30%\n",
    "test_set = 0.3\n",
    "train_set = (1-test_set)\n",
    "split = int(transactions.shape[0]*train_set)\n",
    "\n",
    "transactions_train = transactions.sort_values('t_dat').iloc[:split]\n",
    "transactions_test = transactions.sort_values('t_dat').iloc[split:]\n",
    "print(\"Train set size :\", transactions_train.shape[0])\n",
    "print(\"Test set size :\", transactions_test.shape[0])"
   ]
  },
  {
   "cell_type": "markdown",
   "id": "817b14d0",
   "metadata": {
    "papermill": {
     "duration": 0.048435,
     "end_time": "2023-01-27T14:36:30.904088",
     "exception": false,
     "start_time": "2023-01-27T14:36:30.855653",
     "status": "completed"
    },
    "tags": []
   },
   "source": [
    "# Baseline : Best sellers recommender\n",
    "\n",
    "Our Baseline will be the well known best sellers."
   ]
  },
  {
   "cell_type": "code",
   "execution_count": 13,
   "id": "8b9a7bdb",
   "metadata": {
    "execution": {
     "iopub.execute_input": "2023-01-27T14:36:31.011053Z",
     "iopub.status.busy": "2023-01-27T14:36:31.010290Z",
     "iopub.status.idle": "2023-01-27T14:36:31.013915Z",
     "shell.execute_reply": "2023-01-27T14:36:31.013347Z",
     "shell.execute_reply.started": "2023-01-27T13:04:01.257094Z"
    },
    "papermill": {
     "duration": 0.062293,
     "end_time": "2023-01-27T14:36:31.014090",
     "exception": false,
     "start_time": "2023-01-27T14:36:30.951797",
     "status": "completed"
    },
    "tags": []
   },
   "outputs": [],
   "source": [
    "class BestSeller():\n",
    "    \"\"\"FIXME\"\"\"\n",
    "    def __init__(self):\n",
    "        \"\"\"FIXME\"\"\"\n",
    "        pass\n",
    "    \n",
    "    def fit(self, X):\n",
    "        \"\"\"FIXME\"\"\"\n",
    "        self.X_occur = Counter(list(X['article_id']))\n",
    "        self.best_sellers_10 = [article_id for (article_id, occ) in self.X_occur.most_common(10)]\n",
    "        return self\n",
    "    \n",
    "    def predict(self, basket, k=10):\n",
    "        \"\"\"FIXME\"\"\"\n",
    "        if k==10:\n",
    "            return self.best_sellers_10\n",
    "        else:\n",
    "            best_sellers = [article_id for (article_id, occ) in self.X_occur.most_common(k)]\n",
    "            return best_sellers"
   ]
  },
  {
   "cell_type": "code",
   "execution_count": 14,
   "id": "8e0372e3",
   "metadata": {
    "execution": {
     "iopub.execute_input": "2023-01-27T14:36:31.876255Z",
     "iopub.status.busy": "2023-01-27T14:36:31.875409Z",
     "iopub.status.idle": "2023-01-27T14:36:31.881586Z",
     "shell.execute_reply": "2023-01-27T14:36:31.880787Z",
     "shell.execute_reply.started": "2023-01-27T13:04:01.270673Z"
    },
    "papermill": {
     "duration": 0.820771,
     "end_time": "2023-01-27T14:36:31.881761",
     "exception": false,
     "start_time": "2023-01-27T14:36:31.060990",
     "status": "completed"
    },
    "tags": []
   },
   "outputs": [
    {
     "data": {
      "text/plain": [
       "<__main__.BestSeller at 0x7f3f66455ed0>"
      ]
     },
     "execution_count": 14,
     "metadata": {},
     "output_type": "execute_result"
    }
   ],
   "source": [
    "bs_model = BestSeller()\n",
    "bs_model.fit(transactions_train)"
   ]
  },
  {
   "cell_type": "code",
   "execution_count": 15,
   "id": "72699089",
   "metadata": {
    "execution": {
     "iopub.execute_input": "2023-01-27T14:36:31.986401Z",
     "iopub.status.busy": "2023-01-27T14:36:31.985627Z",
     "iopub.status.idle": "2023-01-27T14:36:31.989131Z",
     "shell.execute_reply": "2023-01-27T14:36:31.988453Z",
     "shell.execute_reply.started": "2023-01-27T13:04:02.082449Z"
    },
    "papermill": {
     "duration": 0.057337,
     "end_time": "2023-01-27T14:36:31.989297",
     "exception": false,
     "start_time": "2023-01-27T14:36:31.931960",
     "status": "completed"
    },
    "tags": []
   },
   "outputs": [
    {
     "data": {
      "text/plain": [
       "['706016001',\n",
       " '372860002',\n",
       " '610776002',\n",
       " '751471001',\n",
       " '730683050',\n",
       " '760084003',\n",
       " '759871002',\n",
       " '866383006',\n",
       " '464297007',\n",
       " '610776001']"
      ]
     },
     "execution_count": 15,
     "metadata": {},
     "output_type": "execute_result"
    }
   ],
   "source": [
    "bs_model.predict([])"
   ]
  },
  {
   "cell_type": "markdown",
   "id": "82e045d6",
   "metadata": {
    "papermill": {
     "duration": 0.046859,
     "end_time": "2023-01-27T14:36:32.083803",
     "exception": false,
     "start_time": "2023-01-27T14:36:32.036944",
     "status": "completed"
    },
    "tags": []
   },
   "source": [
    "# Cosine Similarity\n",
    "\n",
    "Cosine similarity is a measure of similarity that can be used to get the similarity of two objects. It uses the cosine value between two vectors to compute the similarity of two data points. As the distances between the vectors increases, the similiraty reduces."
   ]
  },
  {
   "cell_type": "code",
   "execution_count": 16,
   "id": "9d963a9c",
   "metadata": {
    "execution": {
     "iopub.execute_input": "2023-01-27T14:36:32.208915Z",
     "iopub.status.busy": "2023-01-27T14:36:32.199116Z",
     "iopub.status.idle": "2023-01-27T14:36:32.211253Z",
     "shell.execute_reply": "2023-01-27T14:36:32.211796Z",
     "shell.execute_reply.started": "2023-01-27T13:04:02.096131Z"
    },
    "papermill": {
     "duration": 0.08079,
     "end_time": "2023-01-27T14:36:32.212091",
     "exception": false,
     "start_time": "2023-01-27T14:36:32.131301",
     "status": "completed"
    },
    "tags": []
   },
   "outputs": [],
   "source": [
    "from math import sqrt\n",
    "\n",
    "class CosineSim():\n",
    "    \"\"\"FIXME\"\"\"\n",
    "    def __init__(self):\n",
    "        \"\"\"FIXME\"\"\"\n",
    "        pass\n",
    "    \n",
    "    def _get_l_of_two_from_l(self, l):\n",
    "        \"\"\"FIXME\"\"\"\n",
    "        # Dropping duplicates to avoid having more co-occur than occur\n",
    "        l = list(set(l))\n",
    "        if len(l)>1:\n",
    "            l_of_two = []\n",
    "            for i in range(0,len(l)):\n",
    "                for j in range(i+1,len(l)):\n",
    "                    if int(l[i])<int(l[j]):\n",
    "                        l_of_two.append(f\"{l[i]}|{l[j]}\")\n",
    "                    else:\n",
    "                        l_of_two.append(f\"{l[j]}|{l[i]}\")\n",
    "            return l_of_two\n",
    "        return None\n",
    "    \n",
    "    def _get_frequency(self, article_id, counter_occur_article_id):\n",
    "        \"\"\"FIXME\"\"\"\n",
    "        return counter_occur_article_id[article_id]\n",
    "    \n",
    "    def _get_co_occ_frequency(self, article_id_a, article_id_b, counter_co_occ_article_id):\n",
    "        \"\"\"FIXME\"\"\"\n",
    "        if int(article_id_a) < int(article_id_b):\n",
    "            str_co_occ = article_id_a + '|' + article_id_b\n",
    "        else:\n",
    "            str_co_occ = article_id_b + '|' + article_id_a\n",
    "        return counter_co_occ_article_id[str_co_occ]\n",
    "    \n",
    "    def _get_cosine_sim(self, freq_a, freq_b, co_occ_freq):\n",
    "        \"\"\"FIXME\"\"\"\n",
    "        return (co_occ_freq/sqrt(freq_a*freq_b))\n",
    "        \n",
    "    def fit(self, X, top_n=200, threshold=0.005):\n",
    "        \"\"\"FIXME\"\"\"        \n",
    "        # Keeping only top N articles\n",
    "        start_time = time.time()\n",
    "        counter_article_id = Counter(X['article_id'])\n",
    "        list_top_n = sorted(counter_article_id, key=counter_article_id.get, reverse=True)[:top_n]\n",
    "        X = X[X['article_id'].isin(list_top_n)]\n",
    "        print(\"--- %s seconds ---\" % (time.time() - start_time))\n",
    "        \n",
    "        # Getting baskets\n",
    "        start_time = time.time()\n",
    "        X_grouped = X.groupby(['t_dat', 'customer_id'])['article_id'].apply(list).reset_index()\n",
    "        print(\"--- %s seconds ---\" % (time.time() - start_time))\n",
    "        \n",
    "        # Getting frequencies of article_ids\n",
    "        start_time = time.time()\n",
    "        l_baskets_len2 = list(X_grouped[X_grouped['article_id'].map(len) >1]['article_id'])\n",
    "        l_baskets_len2_flat_list = [x for xs in l_baskets_len2 for x in xs]\n",
    "        counter_occur_article_id = Counter(l_baskets_len2_flat_list)\n",
    "        print(\"--- %s seconds ---\" % (time.time() - start_time))\n",
    "\n",
    "        # Getting co-occur frequencies of article_ids\n",
    "        start_time = time.time()\n",
    "        l_co_occur_article_id = []\n",
    "        for basket in l_baskets_len2:\n",
    "            l_of_two = self._get_l_of_two_from_l(basket)\n",
    "            if l_of_two:\n",
    "                l_co_occur_article_id += l_of_two\n",
    "\n",
    "        counter_co_occ_article_id = Counter(l_co_occur_article_id)\n",
    "        print(\"--- %s seconds ---\" % (time.time() - start_time))\n",
    "        \n",
    "        # Creating pandas dataframe\n",
    "        start_time = time.time()\n",
    "        l_article_id_a = [i.split('|', 1)[0] for i in l_co_occur_article_id]\n",
    "        l_article_id_b = [i.split('|', 1)[1] for i in l_co_occur_article_id]\n",
    "        df_cosine = pd.DataFrame()\n",
    "        df_cosine['article_id_a'] = l_article_id_a\n",
    "        df_cosine['article_id_b'] = l_article_id_b\n",
    "        print(\"--- %s seconds ---\" % (time.time() - start_time))\n",
    "        \n",
    "        start_time = time.time()\n",
    "        df_cosine['freq_a'] = df_cosine['article_id_a'].apply(lambda x : self._get_frequency(x, counter_occur_article_id))\n",
    "        print(\"--- %s seconds ---\" % (time.time() - start_time))\n",
    "        \n",
    "        start_time = time.time()\n",
    "        df_cosine['freq_b'] = df_cosine['article_id_b'].apply(lambda x : self._get_frequency(x, counter_occur_article_id))\n",
    "        print(\"--- %s seconds ---\" % (time.time() - start_time))\n",
    "        \n",
    "        start_time = time.time()\n",
    "        df_cosine['co_occ_freq'] = df_cosine.apply(lambda x: self._get_co_occ_frequency(x.article_id_a, x.article_id_b, counter_co_occ_article_id), axis=1)\n",
    "        print(\"--- %s seconds ---\" % (time.time() - start_time))\n",
    "        \n",
    "        start_time = time.time()\n",
    "        df_cosine['cosine_sim'] = df_cosine.apply(lambda x: self._get_cosine_sim(x.freq_a, x.freq_b, x.co_occ_freq), axis=1)\n",
    "        print(\"--- %s seconds ---\" % (time.time() - start_time))\n",
    "        \n",
    "        df_cosine = df_cosine.sort_values('cosine_sim', ascending=False)\n",
    "        \n",
    "        # Filtering with threshold\n",
    "        self.df_cosine = df_cosine[df_cosine[\"cosine_sim\"]>threshold]\n",
    "\n",
    "        return self\n",
    "    \n",
    "    def predict(self, basket, k=10, strat='mean'):\n",
    "        \"\"\"FIXME\"\"\"\n",
    "        df = self.df_cosine[(self.df_cosine['article_id_a'].isin(basket)) & (~self.df_cosine['article_id_b'].isin(basket))]\n",
    "        \n",
    "        if strat=='mean':\n",
    "            result = list(df[['article_id_b', 'cosine_sim']].groupby(['article_id_b']).mean().reset_index()['article_id_b'])[:k]\n",
    "        elif strat=='max':\n",
    "            result = list(df[['article_id_b', 'cosine_sim']].groupby(['article_id_b']).max().reset_index()['article_id_b'])[:k]\n",
    "        else:\n",
    "            result = []\n",
    "        return result"
   ]
  },
  {
   "cell_type": "code",
   "execution_count": 17,
   "id": "a4ef0a0c",
   "metadata": {
    "execution": {
     "iopub.execute_input": "2023-01-27T14:36:33.226377Z",
     "iopub.status.busy": "2023-01-27T14:36:33.225536Z",
     "iopub.status.idle": "2023-01-27T14:36:59.411696Z",
     "shell.execute_reply": "2023-01-27T14:36:59.410875Z",
     "shell.execute_reply.started": "2023-01-27T13:04:02.123535Z"
    },
    "papermill": {
     "duration": 27.151602,
     "end_time": "2023-01-27T14:36:59.411889",
     "exception": false,
     "start_time": "2023-01-27T14:36:32.260287",
     "status": "completed"
    },
    "tags": []
   },
   "outputs": [
    {
     "name": "stdout",
     "output_type": "stream",
     "text": [
      "--- 1.7116584777832031 seconds ---\n",
      "--- 7.496165752410889 seconds ---\n",
      "--- 0.23682165145874023 seconds ---\n",
      "--- 0.5799398422241211 seconds ---\n",
      "--- 0.28242945671081543 seconds ---\n",
      "--- 0.19006919860839844 seconds ---\n",
      "--- 0.18467950820922852 seconds ---\n",
      "--- 6.993905782699585 seconds ---\n",
      "--- 9.155237197875977 seconds ---\n"
     ]
    }
   ],
   "source": [
    "# FIXME : Optimize for loops, taking ages to run\n",
    "cs_model = CosineSim().fit(transactions_train, top_n=500)"
   ]
  },
  {
   "cell_type": "code",
   "execution_count": 18,
   "id": "0ee95800",
   "metadata": {
    "execution": {
     "iopub.execute_input": "2023-01-27T14:36:59.561943Z",
     "iopub.status.busy": "2023-01-27T14:36:59.561163Z",
     "iopub.status.idle": "2023-01-27T14:36:59.577434Z",
     "shell.execute_reply": "2023-01-27T14:36:59.576738Z",
     "shell.execute_reply.started": "2023-01-27T13:04:30.359088Z"
    },
    "papermill": {
     "duration": 0.116042,
     "end_time": "2023-01-27T14:36:59.577619",
     "exception": false,
     "start_time": "2023-01-27T14:36:59.461577",
     "status": "completed"
    },
    "tags": []
   },
   "outputs": [
    {
     "data": {
      "text/plain": [
       "['610776002',\n",
       " '610776068',\n",
       " '610776071',\n",
       " '610776072',\n",
       " '610776074',\n",
       " '610776083',\n",
       " '624486001',\n",
       " '624486064',\n",
       " '673396002',\n",
       " '678942001']"
      ]
     },
     "execution_count": 18,
     "metadata": {},
     "output_type": "execute_result"
    }
   ],
   "source": [
    "cs_model.predict(['610776001'])"
   ]
  },
  {
   "cell_type": "markdown",
   "id": "019577d5",
   "metadata": {
    "papermill": {
     "duration": 0.052325,
     "end_time": "2023-01-27T14:36:59.682138",
     "exception": false,
     "start_time": "2023-01-27T14:36:59.629813",
     "status": "completed"
    },
    "tags": []
   },
   "source": [
    "# ALS"
   ]
  },
  {
   "cell_type": "code",
   "execution_count": 19,
   "id": "79ed3d14",
   "metadata": {
    "execution": {
     "iopub.execute_input": "2023-01-27T14:36:59.788999Z",
     "iopub.status.busy": "2023-01-27T14:36:59.788197Z",
     "iopub.status.idle": "2023-01-27T14:36:59.790693Z",
     "shell.execute_reply": "2023-01-27T14:36:59.790017Z",
     "shell.execute_reply.started": "2023-01-27T13:04:30.428784Z"
    },
    "papermill": {
     "duration": 0.058545,
     "end_time": "2023-01-27T14:36:59.790887",
     "exception": false,
     "start_time": "2023-01-27T14:36:59.732342",
     "status": "completed"
    },
    "tags": []
   },
   "outputs": [],
   "source": [
    "# !pip install pyspark > /dev/null"
   ]
  },
  {
   "cell_type": "code",
   "execution_count": 20,
   "id": "4eec2aa9",
   "metadata": {
    "execution": {
     "iopub.execute_input": "2023-01-27T14:36:59.896866Z",
     "iopub.status.busy": "2023-01-27T14:36:59.896025Z",
     "iopub.status.idle": "2023-01-27T14:36:59.898762Z",
     "shell.execute_reply": "2023-01-27T14:36:59.898219Z",
     "shell.execute_reply.started": "2023-01-27T13:04:30.435162Z"
    },
    "papermill": {
     "duration": 0.057877,
     "end_time": "2023-01-27T14:36:59.898943",
     "exception": false,
     "start_time": "2023-01-27T14:36:59.841066",
     "status": "completed"
    },
    "tags": []
   },
   "outputs": [],
   "source": [
    "# import pyspark\n",
    "\n",
    "# from pyspark import SparkContext, SparkConf\n",
    "# from pyspark.sql import SQLContext, SparkSession"
   ]
  },
  {
   "cell_type": "code",
   "execution_count": 21,
   "id": "f1f9cd23",
   "metadata": {
    "execution": {
     "iopub.execute_input": "2023-01-27T14:37:00.007101Z",
     "iopub.status.busy": "2023-01-27T14:37:00.006332Z",
     "iopub.status.idle": "2023-01-27T14:37:00.009618Z",
     "shell.execute_reply": "2023-01-27T14:37:00.008983Z",
     "shell.execute_reply.started": "2023-01-27T13:04:30.452809Z"
    },
    "papermill": {
     "duration": 0.060465,
     "end_time": "2023-01-27T14:37:00.009803",
     "exception": false,
     "start_time": "2023-01-27T14:36:59.949338",
     "status": "completed"
    },
    "tags": []
   },
   "outputs": [],
   "source": [
    "# conf = SparkConf().set(\"spark.ui.port\", \"4050\") \\\n",
    "#                   .set('spark.executor.memory', '9G') \\\n",
    "#                   .set('spark.driver.memory', '7G') \\\n",
    "#                   .set('spark.sql.autoBroadcastJoinThreshold', '-1')\n",
    "\n",
    "# sc = pyspark.SparkContext(conf=conf)\n",
    "# spark = SparkSession.builder.getOrCreate()"
   ]
  },
  {
   "cell_type": "code",
   "execution_count": 22,
   "id": "cc187a55",
   "metadata": {
    "execution": {
     "iopub.execute_input": "2023-01-27T14:37:00.117440Z",
     "iopub.status.busy": "2023-01-27T14:37:00.116615Z",
     "iopub.status.idle": "2023-01-27T14:37:00.119648Z",
     "shell.execute_reply": "2023-01-27T14:37:00.119052Z",
     "shell.execute_reply.started": "2023-01-27T13:04:30.464540Z"
    },
    "papermill": {
     "duration": 0.059976,
     "end_time": "2023-01-27T14:37:00.119834",
     "exception": false,
     "start_time": "2023-01-27T14:37:00.059858",
     "status": "completed"
    },
    "tags": []
   },
   "outputs": [],
   "source": [
    "# from pyspark.ml.recommendation import ALS, ALSModel"
   ]
  },
  {
   "cell_type": "code",
   "execution_count": 23,
   "id": "b88fe5db",
   "metadata": {
    "execution": {
     "iopub.execute_input": "2023-01-27T14:37:00.229176Z",
     "iopub.status.busy": "2023-01-27T14:37:00.228041Z",
     "iopub.status.idle": "2023-01-27T14:37:00.231178Z",
     "shell.execute_reply": "2023-01-27T14:37:00.230465Z",
     "shell.execute_reply.started": "2023-01-27T13:04:30.477099Z"
    },
    "papermill": {
     "duration": 0.059937,
     "end_time": "2023-01-27T14:37:00.231349",
     "exception": false,
     "start_time": "2023-01-27T14:37:00.171412",
     "status": "completed"
    },
    "tags": []
   },
   "outputs": [],
   "source": [
    "# customer_map = transactions[[\"customer_id\"]].drop_duplicates().reset_index(drop=True)\n",
    "# customer_map[\"USER\"] = customer_map.index\n",
    "\n",
    "# item_map = df[[\"article_id\"]].drop_duplicates().reset_index(drop=True)\n",
    "# item_map[\"ITEM\"] = item_map.index\n",
    "\n",
    "# customer_map_dict = dict(zip(customer_map['USER'].values, customer_map['customer_id'].values))\n",
    "# item_map_dict = dict(zip(item_map['ITEM'].values, item_map['article_id'].values))"
   ]
  },
  {
   "cell_type": "code",
   "execution_count": 24,
   "id": "2cfe1dfe",
   "metadata": {
    "execution": {
     "iopub.execute_input": "2023-01-27T14:37:00.347587Z",
     "iopub.status.busy": "2023-01-27T14:37:00.345894Z",
     "iopub.status.idle": "2023-01-27T14:37:00.348674Z",
     "shell.execute_reply": "2023-01-27T14:37:00.349300Z",
     "shell.execute_reply.started": "2023-01-27T13:04:30.491001Z"
    },
    "papermill": {
     "duration": 0.066111,
     "end_time": "2023-01-27T14:37:00.349539",
     "exception": false,
     "start_time": "2023-01-27T14:37:00.283428",
     "status": "completed"
    },
    "tags": []
   },
   "outputs": [],
   "source": [
    "# transactions_train['article_id'] = transactions_train['article_id'].astype(str)\n",
    "# transactions_train.info()"
   ]
  },
  {
   "cell_type": "code",
   "execution_count": 25,
   "id": "799882cc",
   "metadata": {
    "execution": {
     "iopub.execute_input": "2023-01-27T14:37:00.485509Z",
     "iopub.status.busy": "2023-01-27T14:37:00.484423Z",
     "iopub.status.idle": "2023-01-27T14:37:00.487749Z",
     "shell.execute_reply": "2023-01-27T14:37:00.487168Z",
     "shell.execute_reply.started": "2023-01-27T13:04:30.505623Z"
    },
    "papermill": {
     "duration": 0.069186,
     "end_time": "2023-01-27T14:37:00.487950",
     "exception": false,
     "start_time": "2023-01-27T14:37:00.418764",
     "status": "completed"
    },
    "tags": []
   },
   "outputs": [],
   "source": [
    "# transactions_train_als = (\n",
    "#         transactions_train\n",
    "#         .merge(customer_map, on=\"customer_id\", how=\"inner\")\n",
    "#         .merge(item_map, on=\"article_id\", how=\"inner\")\n",
    "#     )\n",
    "# transactions_train_als[\"rating\"] = 1"
   ]
  },
  {
   "cell_type": "code",
   "execution_count": 26,
   "id": "7d09149b",
   "metadata": {
    "execution": {
     "iopub.execute_input": "2023-01-27T14:37:00.595150Z",
     "iopub.status.busy": "2023-01-27T14:37:00.594327Z",
     "iopub.status.idle": "2023-01-27T14:37:00.597921Z",
     "shell.execute_reply": "2023-01-27T14:37:00.597035Z",
     "shell.execute_reply.started": "2023-01-27T13:04:30.517254Z"
    },
    "papermill": {
     "duration": 0.059888,
     "end_time": "2023-01-27T14:37:00.598127",
     "exception": false,
     "start_time": "2023-01-27T14:37:00.538239",
     "status": "completed"
    },
    "tags": []
   },
   "outputs": [],
   "source": [
    "# transactions_train_als.head()"
   ]
  },
  {
   "cell_type": "code",
   "execution_count": 27,
   "id": "7bb8da9b",
   "metadata": {
    "execution": {
     "iopub.execute_input": "2023-01-27T14:37:00.710760Z",
     "iopub.status.busy": "2023-01-27T14:37:00.709856Z",
     "iopub.status.idle": "2023-01-27T14:37:00.713315Z",
     "shell.execute_reply": "2023-01-27T14:37:00.714069Z",
     "shell.execute_reply.started": "2023-01-27T13:04:30.530460Z"
    },
    "papermill": {
     "duration": 0.061757,
     "end_time": "2023-01-27T14:37:00.714292",
     "exception": false,
     "start_time": "2023-01-27T14:37:00.652535",
     "status": "completed"
    },
    "tags": []
   },
   "outputs": [],
   "source": [
    "# mod = 10000000\n",
    "# transactions_train_als = transactions_train[[\"customer_id\", \"article_id\"]].head(1000)\n",
    "# transactions_train_als[\"rating\"] = 1\n",
    "# transactions_train_als['customer_id_hash'] = transactions_train_als['customer_id'].apply(lambda x : hash(x) % mod)\n",
    "# transactions_train_als['article_id_hash'] = transactions_train_als['article_id'].apply(lambda x : hash(x) % mod)"
   ]
  },
  {
   "cell_type": "code",
   "execution_count": 28,
   "id": "086a3723",
   "metadata": {
    "execution": {
     "iopub.execute_input": "2023-01-27T14:37:00.827801Z",
     "iopub.status.busy": "2023-01-27T14:37:00.826953Z",
     "iopub.status.idle": "2023-01-27T14:37:00.831113Z",
     "shell.execute_reply": "2023-01-27T14:37:00.831721Z",
     "shell.execute_reply.started": "2023-01-27T13:04:30.544042Z"
    },
    "papermill": {
     "duration": 0.061363,
     "end_time": "2023-01-27T14:37:00.831970",
     "exception": false,
     "start_time": "2023-01-27T14:37:00.770607",
     "status": "completed"
    },
    "tags": []
   },
   "outputs": [],
   "source": [
    "# transactions_train_als_spark = spark.createDataFrame(transactions_train_als) "
   ]
  },
  {
   "cell_type": "code",
   "execution_count": 29,
   "id": "b68ba513",
   "metadata": {
    "execution": {
     "iopub.execute_input": "2023-01-27T14:37:00.938634Z",
     "iopub.status.busy": "2023-01-27T14:37:00.937886Z",
     "iopub.status.idle": "2023-01-27T14:37:00.943060Z",
     "shell.execute_reply": "2023-01-27T14:37:00.942155Z",
     "shell.execute_reply.started": "2023-01-27T13:04:30.554628Z"
    },
    "papermill": {
     "duration": 0.060138,
     "end_time": "2023-01-27T14:37:00.943278",
     "exception": false,
     "start_time": "2023-01-27T14:37:00.883140",
     "status": "completed"
    },
    "tags": []
   },
   "outputs": [],
   "source": [
    "# transactions_train_als_spark.show()"
   ]
  },
  {
   "cell_type": "code",
   "execution_count": 30,
   "id": "65705183",
   "metadata": {
    "execution": {
     "iopub.execute_input": "2023-01-27T14:37:01.055193Z",
     "iopub.status.busy": "2023-01-27T14:37:01.054131Z",
     "iopub.status.idle": "2023-01-27T14:37:01.059363Z",
     "shell.execute_reply": "2023-01-27T14:37:01.058602Z",
     "shell.execute_reply.started": "2023-01-27T13:04:30.569184Z"
    },
    "papermill": {
     "duration": 0.0618,
     "end_time": "2023-01-27T14:37:01.059532",
     "exception": false,
     "start_time": "2023-01-27T14:37:00.997732",
     "status": "completed"
    },
    "tags": []
   },
   "outputs": [],
   "source": [
    "# als = ALS(userCol=\"customer_id_hash\", itemCol=\"article_id_hash\", ratingCol=\"rating\", coldStartStrategy=\"drop\")\n",
    "\n",
    "# # param_grid = ParamGridBuilder().addGrid(als.rank, [25]) \\\n",
    "# #                                .addGrid(als.regParam, [0.1, 0.15]) \\\n",
    "# #                                .addGrid(als.maxIter, [10]) \\\n",
    "# #                                .build()"
   ]
  },
  {
   "cell_type": "code",
   "execution_count": 31,
   "id": "8c53c0e9",
   "metadata": {
    "execution": {
     "iopub.execute_input": "2023-01-27T14:37:01.173655Z",
     "iopub.status.busy": "2023-01-27T14:37:01.172853Z",
     "iopub.status.idle": "2023-01-27T14:37:01.176236Z",
     "shell.execute_reply": "2023-01-27T14:37:01.176780Z",
     "shell.execute_reply.started": "2023-01-27T13:04:30.579492Z"
    },
    "papermill": {
     "duration": 0.062517,
     "end_time": "2023-01-27T14:37:01.177041",
     "exception": false,
     "start_time": "2023-01-27T14:37:01.114524",
     "status": "completed"
    },
    "tags": []
   },
   "outputs": [],
   "source": [
    "# model = als.fit(transactions_train_als_spark)"
   ]
  },
  {
   "cell_type": "code",
   "execution_count": 32,
   "id": "03477946",
   "metadata": {
    "execution": {
     "iopub.execute_input": "2023-01-27T14:37:01.290157Z",
     "iopub.status.busy": "2023-01-27T14:37:01.289204Z",
     "iopub.status.idle": "2023-01-27T14:37:01.293379Z",
     "shell.execute_reply": "2023-01-27T14:37:01.292744Z",
     "shell.execute_reply.started": "2023-01-27T13:04:30.596839Z"
    },
    "papermill": {
     "duration": 0.061403,
     "end_time": "2023-01-27T14:37:01.293688",
     "exception": false,
     "start_time": "2023-01-27T14:37:01.232285",
     "status": "completed"
    },
    "tags": []
   },
   "outputs": [],
   "source": [
    "# transactions_test_als = transactions_test[[\"customer_id\", \"article_id\"]].head(1000)\n",
    "# #transactions_test_als[\"rating\"] = 1\n",
    "# transactions_test_als['customer_id_hash'] = transactions_test_als['customer_id'].apply(lambda x : hash(x) % mod)\n",
    "# transactions_test_als['article_id_hash'] = transactions_test_als['article_id'].apply(lambda x : hash(x) % mod)\n",
    "# transactions_test_als_spark = spark.createDataFrame(transactions_test_als) "
   ]
  },
  {
   "cell_type": "code",
   "execution_count": 33,
   "id": "ac8bed96",
   "metadata": {
    "execution": {
     "iopub.execute_input": "2023-01-27T14:37:01.408599Z",
     "iopub.status.busy": "2023-01-27T14:37:01.407605Z",
     "iopub.status.idle": "2023-01-27T14:37:01.411756Z",
     "shell.execute_reply": "2023-01-27T14:37:01.410949Z",
     "shell.execute_reply.started": "2023-01-27T13:04:30.607131Z"
    },
    "papermill": {
     "duration": 0.06534,
     "end_time": "2023-01-27T14:37:01.411982",
     "exception": false,
     "start_time": "2023-01-27T14:37:01.346642",
     "status": "completed"
    },
    "tags": []
   },
   "outputs": [],
   "source": [
    "# predictions = model.transform(transactions_test_als_spark)"
   ]
  },
  {
   "cell_type": "code",
   "execution_count": 34,
   "id": "f45e354d",
   "metadata": {
    "execution": {
     "iopub.execute_input": "2023-01-27T14:37:01.527747Z",
     "iopub.status.busy": "2023-01-27T14:37:01.526952Z",
     "iopub.status.idle": "2023-01-27T14:37:01.531424Z",
     "shell.execute_reply": "2023-01-27T14:37:01.532397Z",
     "shell.execute_reply.started": "2023-01-27T13:04:30.621397Z"
    },
    "papermill": {
     "duration": 0.060465,
     "end_time": "2023-01-27T14:37:01.532645",
     "exception": false,
     "start_time": "2023-01-27T14:37:01.472180",
     "status": "completed"
    },
    "tags": []
   },
   "outputs": [],
   "source": [
    "# predictions.show()"
   ]
  },
  {
   "cell_type": "code",
   "execution_count": null,
   "id": "6877b843",
   "metadata": {
    "papermill": {
     "duration": 0.051922,
     "end_time": "2023-01-27T14:37:01.636222",
     "exception": false,
     "start_time": "2023-01-27T14:37:01.584300",
     "status": "completed"
    },
    "tags": []
   },
   "outputs": [],
   "source": []
  },
  {
   "cell_type": "code",
   "execution_count": 35,
   "id": "197ebbdd",
   "metadata": {
    "execution": {
     "iopub.execute_input": "2023-01-27T14:37:01.744117Z",
     "iopub.status.busy": "2023-01-27T14:37:01.743306Z",
     "iopub.status.idle": "2023-01-27T14:37:01.744815Z",
     "shell.execute_reply": "2023-01-27T14:37:01.745470Z",
     "shell.execute_reply.started": "2023-01-27T13:04:30.633632Z"
    },
    "papermill": {
     "duration": 0.059093,
     "end_time": "2023-01-27T14:37:01.745678",
     "exception": false,
     "start_time": "2023-01-27T14:37:01.686585",
     "status": "completed"
    },
    "tags": []
   },
   "outputs": [],
   "source": [
    "# !pip install --upgrade implicit"
   ]
  },
  {
   "cell_type": "code",
   "execution_count": 36,
   "id": "8d6a9000",
   "metadata": {
    "execution": {
     "iopub.execute_input": "2023-01-27T14:37:01.851660Z",
     "iopub.status.busy": "2023-01-27T14:37:01.850909Z",
     "iopub.status.idle": "2023-01-27T14:37:01.854094Z",
     "shell.execute_reply": "2023-01-27T14:37:01.854839Z",
     "shell.execute_reply.started": "2023-01-27T13:04:30.647289Z"
    },
    "papermill": {
     "duration": 0.059335,
     "end_time": "2023-01-27T14:37:01.855060",
     "exception": false,
     "start_time": "2023-01-27T14:37:01.795725",
     "status": "completed"
    },
    "tags": []
   },
   "outputs": [],
   "source": [
    "# import implicit"
   ]
  },
  {
   "cell_type": "code",
   "execution_count": 37,
   "id": "ddb69ed6",
   "metadata": {
    "execution": {
     "iopub.execute_input": "2023-01-27T14:37:01.960414Z",
     "iopub.status.busy": "2023-01-27T14:37:01.959585Z",
     "iopub.status.idle": "2023-01-27T14:37:01.962492Z",
     "shell.execute_reply": "2023-01-27T14:37:01.963148Z",
     "shell.execute_reply.started": "2023-01-27T13:04:30.659222Z"
    },
    "papermill": {
     "duration": 0.057846,
     "end_time": "2023-01-27T14:37:01.963493",
     "exception": false,
     "start_time": "2023-01-27T14:37:01.905647",
     "status": "completed"
    },
    "tags": []
   },
   "outputs": [],
   "source": [
    "# model = implicit.als.AlternatingLeastSquares(factors=10, iterations=2)\n",
    "# model.fit(coo_train)"
   ]
  },
  {
   "cell_type": "code",
   "execution_count": 38,
   "id": "6d107814",
   "metadata": {
    "execution": {
     "iopub.execute_input": "2023-01-27T14:37:02.071677Z",
     "iopub.status.busy": "2023-01-27T14:37:02.070915Z",
     "iopub.status.idle": "2023-01-27T14:37:02.072385Z",
     "shell.execute_reply": "2023-01-27T14:37:02.072940Z",
     "shell.execute_reply.started": "2023-01-27T13:04:30.671675Z"
    },
    "papermill": {
     "duration": 0.05753,
     "end_time": "2023-01-27T14:37:02.073153",
     "exception": false,
     "start_time": "2023-01-27T14:37:02.015623",
     "status": "completed"
    },
    "tags": []
   },
   "outputs": [],
   "source": [
    "# transactions_train.head()"
   ]
  },
  {
   "cell_type": "code",
   "execution_count": 39,
   "id": "508990ba",
   "metadata": {
    "execution": {
     "iopub.execute_input": "2023-01-27T14:37:02.180566Z",
     "iopub.status.busy": "2023-01-27T14:37:02.179693Z",
     "iopub.status.idle": "2023-01-27T14:37:02.183649Z",
     "shell.execute_reply": "2023-01-27T14:37:02.184300Z",
     "shell.execute_reply.started": "2023-01-27T13:04:30.684543Z"
    },
    "papermill": {
     "duration": 0.060438,
     "end_time": "2023-01-27T14:37:02.184621",
     "exception": false,
     "start_time": "2023-01-27T14:37:02.124183",
     "status": "completed"
    },
    "tags": []
   },
   "outputs": [],
   "source": [
    "# transactions_train_als = transactions_train[[\"customer_id\", \"article_id\"]].head(1000)\n",
    "# transactions_train_als[\"rating\"] = 1"
   ]
  },
  {
   "cell_type": "code",
   "execution_count": 40,
   "id": "63377ba9",
   "metadata": {
    "execution": {
     "iopub.execute_input": "2023-01-27T14:37:02.292042Z",
     "iopub.status.busy": "2023-01-27T14:37:02.291062Z",
     "iopub.status.idle": "2023-01-27T14:37:02.294715Z",
     "shell.execute_reply": "2023-01-27T14:37:02.295302Z",
     "shell.execute_reply.started": "2023-01-27T13:04:30.697975Z"
    },
    "papermill": {
     "duration": 0.057967,
     "end_time": "2023-01-27T14:37:02.295521",
     "exception": false,
     "start_time": "2023-01-27T14:37:02.237554",
     "status": "completed"
    },
    "tags": []
   },
   "outputs": [],
   "source": [
    "# !pip install pyspark"
   ]
  },
  {
   "cell_type": "code",
   "execution_count": 41,
   "id": "ef83fca9",
   "metadata": {
    "execution": {
     "iopub.execute_input": "2023-01-27T14:37:02.400839Z",
     "iopub.status.busy": "2023-01-27T14:37:02.400010Z",
     "iopub.status.idle": "2023-01-27T14:37:02.405908Z",
     "shell.execute_reply": "2023-01-27T14:37:02.405227Z",
     "shell.execute_reply.started": "2023-01-27T13:04:30.715119Z"
    },
    "papermill": {
     "duration": 0.059696,
     "end_time": "2023-01-27T14:37:02.406091",
     "exception": false,
     "start_time": "2023-01-27T14:37:02.346395",
     "status": "completed"
    },
    "tags": []
   },
   "outputs": [],
   "source": [
    "# import pyspark\n",
    "\n",
    "# from pyspark.ml.recommendation import ALS\n",
    "\n",
    "# als = ALS(maxIter=5, regParam=0.01, userCol=\"customer_id\", itemCol=\"article_id\", ratingCol=\"rating\", coldStartStrategy=\"drop\")\n",
    "# # model = als.fit(transactions_train_als)"
   ]
  },
  {
   "cell_type": "code",
   "execution_count": 42,
   "id": "13e8acfb",
   "metadata": {
    "execution": {
     "iopub.execute_input": "2023-01-27T14:37:02.513608Z",
     "iopub.status.busy": "2023-01-27T14:37:02.512769Z",
     "iopub.status.idle": "2023-01-27T14:37:02.515787Z",
     "shell.execute_reply": "2023-01-27T14:37:02.516422Z",
     "shell.execute_reply.started": "2023-01-27T13:04:30.727478Z"
    },
    "papermill": {
     "duration": 0.05914,
     "end_time": "2023-01-27T14:37:02.516654",
     "exception": false,
     "start_time": "2023-01-27T14:37:02.457514",
     "status": "completed"
    },
    "tags": []
   },
   "outputs": [],
   "source": [
    "# from pyspark.ml.recommendation import ALS\n",
    "\n",
    "# als = ALS(maxIter=10, regParam=1, userCol=\"USER\", itemCol=\"ITEM\", ratingCol=\"RATING\", coldStartStrategy=\"drop\", implicitPrefs=True, alpha=100, rank=200, seed=1)"
   ]
  },
  {
   "cell_type": "markdown",
   "id": "a40fd7e0",
   "metadata": {
    "papermill": {
     "duration": 0.050921,
     "end_time": "2023-01-27T14:37:02.618376",
     "exception": false,
     "start_time": "2023-01-27T14:37:02.567455",
     "status": "completed"
    },
    "tags": []
   },
   "source": [
    "# Evaluating recommenders"
   ]
  },
  {
   "cell_type": "code",
   "execution_count": 43,
   "id": "da359deb",
   "metadata": {
    "execution": {
     "iopub.execute_input": "2023-01-27T14:37:02.733376Z",
     "iopub.status.busy": "2023-01-27T14:37:02.732160Z",
     "iopub.status.idle": "2023-01-27T14:37:02.735221Z",
     "shell.execute_reply": "2023-01-27T14:37:02.734622Z",
     "shell.execute_reply.started": "2023-01-27T13:04:30.744129Z"
    },
    "papermill": {
     "duration": 0.064445,
     "end_time": "2023-01-27T14:37:02.735408",
     "exception": false,
     "start_time": "2023-01-27T14:37:02.670963",
     "status": "completed"
    },
    "tags": []
   },
   "outputs": [],
   "source": [
    "def is_predicted(customer_id, order, model, k, debug=False):\n",
    "    \"\"\"FIXME\"\"\"\n",
    "    if debug:\n",
    "        print(\"##\")\n",
    "        print(\"order:\", order)\n",
    "    order_ = order.copy()\n",
    "    hidden_article_id = order_.pop(random.randrange(len(order_)))\n",
    "    visible_order = order_\n",
    "    \n",
    "    start_time = time.time()\n",
    "    predictions = model.predict(visible_order, k)\n",
    "    if debug:\n",
    "        print(time.time() - start_time)\n",
    "    \n",
    "    if debug:\n",
    "        print(\"visible_order:\", visible_order)\n",
    "        print(\"predictions:\", predictions)\n",
    "        print(\"hidden_article_id:\", hidden_article_id)\n",
    "    \n",
    "    if hidden_article_id in predictions:\n",
    "        if debug:\n",
    "            print(1)\n",
    "        return 1\n",
    "    else:\n",
    "        if debug:\n",
    "            print(0)\n",
    "        return 0"
   ]
  },
  {
   "cell_type": "code",
   "execution_count": 44,
   "id": "6bf618a2",
   "metadata": {
    "execution": {
     "iopub.execute_input": "2023-01-27T14:37:02.844055Z",
     "iopub.status.busy": "2023-01-27T14:37:02.843196Z",
     "iopub.status.idle": "2023-01-27T14:37:02.851180Z",
     "shell.execute_reply": "2023-01-27T14:37:02.851903Z",
     "shell.execute_reply.started": "2023-01-27T13:04:30.757208Z"
    },
    "papermill": {
     "duration": 0.066117,
     "end_time": "2023-01-27T14:37:02.852142",
     "exception": false,
     "start_time": "2023-01-27T14:37:02.786025",
     "status": "completed"
    },
    "tags": []
   },
   "outputs": [],
   "source": [
    "def history_basket_performance(X, model, k=10):\n",
    "    \"\"\"FIXME\"\"\"\n",
    "    # Grouping to have orders by day\n",
    "    X_orders = X.groupby(['t_dat', 'customer_id'])['article_id'].apply(list).reset_index()    \n",
    "    \n",
    "    # Keeping only orders where we can hide at least one article and have at least one item in our basket\n",
    "    X_orders['is_long_enough'] = X_orders['article_id'].apply(lambda x: 1 if(len(x)>1) else 0)\n",
    "    X_orders = X_orders[X_orders['is_long_enough']==1]\n",
    "        \n",
    "    v_is_predicted = np.vectorize(lambda x, y, model, k: is_predicted(x, y, model, k))\n",
    "\n",
    "    X_orders['predicted'] = v_is_predicted(X_orders.customer_id, X_orders.article_id, model, k)\n",
    "\n",
    "    is_predicted_count = X_orders[X_orders['predicted']==1].shape[0]\n",
    "    count = X_orders.shape[0]\n",
    "    \n",
    "    return (count, is_predicted_count/count)"
   ]
  },
  {
   "cell_type": "code",
   "execution_count": 45,
   "id": "47240676",
   "metadata": {
    "execution": {
     "iopub.execute_input": "2023-01-27T14:37:02.964179Z",
     "iopub.status.busy": "2023-01-27T14:37:02.963010Z",
     "iopub.status.idle": "2023-01-27T14:37:02.986152Z",
     "shell.execute_reply": "2023-01-27T14:37:02.985405Z",
     "shell.execute_reply.started": "2023-01-27T13:04:30.779753Z"
    },
    "papermill": {
     "duration": 0.083184,
     "end_time": "2023-01-27T14:37:02.986325",
     "exception": false,
     "start_time": "2023-01-27T14:37:02.903141",
     "status": "completed"
    },
    "tags": []
   },
   "outputs": [
    {
     "data": {
      "text/plain": [
       "(230, 0.008695652173913044)"
      ]
     },
     "execution_count": 45,
     "metadata": {},
     "output_type": "execute_result"
    }
   ],
   "source": [
    "history_basket_performance(transactions_test.head(1000), bs_model)"
   ]
  },
  {
   "cell_type": "code",
   "execution_count": 46,
   "id": "1aaaf13f",
   "metadata": {
    "execution": {
     "iopub.execute_input": "2023-01-27T14:37:03.096438Z",
     "iopub.status.busy": "2023-01-27T14:37:03.092712Z",
     "iopub.status.idle": "2023-01-27T14:37:15.663755Z",
     "shell.execute_reply": "2023-01-27T14:37:15.662967Z",
     "shell.execute_reply.started": "2023-01-27T13:04:30.810622Z"
    },
    "papermill": {
     "duration": 12.625804,
     "end_time": "2023-01-27T14:37:15.663969",
     "exception": false,
     "start_time": "2023-01-27T14:37:03.038165",
     "status": "completed"
    },
    "tags": []
   },
   "outputs": [
    {
     "data": {
      "text/plain": [
       "(230, 0.02608695652173913)"
      ]
     },
     "execution_count": 46,
     "metadata": {},
     "output_type": "execute_result"
    }
   ],
   "source": [
    "history_basket_performance(transactions_test.head(1000), cs_model)"
   ]
  },
  {
   "cell_type": "code",
   "execution_count": 47,
   "id": "a671af9c",
   "metadata": {
    "execution": {
     "iopub.execute_input": "2023-01-27T14:37:15.778696Z",
     "iopub.status.busy": "2023-01-27T14:37:15.777850Z",
     "iopub.status.idle": "2023-01-27T14:37:15.781989Z",
     "shell.execute_reply": "2023-01-27T14:37:15.781282Z",
     "shell.execute_reply.started": "2023-01-27T13:04:44.605918Z"
    },
    "papermill": {
     "duration": 0.063391,
     "end_time": "2023-01-27T14:37:15.782156",
     "exception": false,
     "start_time": "2023-01-27T14:37:15.718765",
     "status": "completed"
    },
    "tags": []
   },
   "outputs": [],
   "source": [
    "# (205, 0.24878048780487805)"
   ]
  },
  {
   "cell_type": "markdown",
   "id": "e97ec416",
   "metadata": {
    "papermill": {
     "duration": 0.052207,
     "end_time": "2023-01-27T14:37:15.887791",
     "exception": false,
     "start_time": "2023-01-27T14:37:15.835584",
     "status": "completed"
    },
    "tags": []
   },
   "source": [
    "# Evaluating top_n in cosine_sim"
   ]
  },
  {
   "cell_type": "code",
   "execution_count": 48,
   "id": "224b49bd",
   "metadata": {
    "execution": {
     "iopub.execute_input": "2023-01-27T14:37:16.920321Z",
     "iopub.status.busy": "2023-01-27T14:37:16.762376Z",
     "iopub.status.idle": "2023-01-27T14:55:01.509498Z",
     "shell.execute_reply": "2023-01-27T14:55:01.510181Z",
     "shell.execute_reply.started": "2023-01-27T13:04:44.617362Z"
    },
    "papermill": {
     "duration": 1065.569731,
     "end_time": "2023-01-27T14:55:01.510487",
     "exception": false,
     "start_time": "2023-01-27T14:37:15.940756",
     "status": "completed"
    },
    "tags": []
   },
   "outputs": [
    {
     "name": "stdout",
     "output_type": "stream",
     "text": [
      "##\n",
      "100\n",
      "--- 0.9826288223266602 seconds ---\n",
      "--- 3.246757745742798 seconds ---\n",
      "--- 0.09618401527404785 seconds ---\n",
      "--- 0.11704850196838379 seconds ---\n",
      "--- 0.0447993278503418 seconds ---\n",
      "--- 0.03164982795715332 seconds ---\n",
      "--- 0.03054952621459961 seconds ---\n",
      "--- 1.0298912525177002 seconds ---\n",
      "--- 1.3421401977539062 seconds ---\n",
      "(688, 0.00436046511627907)\n",
      "##\n",
      "200\n",
      "--- 0.9356236457824707 seconds ---\n",
      "--- 6.27182936668396 seconds ---\n",
      "--- 0.14528226852416992 seconds ---\n",
      "--- 0.23481297492980957 seconds ---\n",
      "--- 0.09647989273071289 seconds ---\n",
      "--- 0.06731891632080078 seconds ---\n",
      "--- 0.07179093360900879 seconds ---\n",
      "--- 2.4506988525390625 seconds ---\n",
      "--- 3.2142317295074463 seconds ---\n",
      "(688, 0.005813953488372093)\n",
      "##\n",
      "300\n",
      "--- 1.015989065170288 seconds ---\n",
      "--- 5.797179222106934 seconds ---\n",
      "--- 0.18752384185791016 seconds ---\n",
      "--- 0.3610951900482178 seconds ---\n",
      "--- 0.16287541389465332 seconds ---\n",
      "--- 0.11533546447753906 seconds ---\n",
      "--- 0.10748052597045898 seconds ---\n",
      "--- 4.127013921737671 seconds ---\n",
      "--- 8.757219791412354 seconds ---\n",
      "(688, 0.011627906976744186)\n",
      "##\n",
      "400\n",
      "--- 1.0346038341522217 seconds ---\n",
      "--- 6.934458017349243 seconds ---\n",
      "--- 0.22141504287719727 seconds ---\n",
      "--- 0.46758484840393066 seconds ---\n",
      "--- 0.24700188636779785 seconds ---\n",
      "--- 0.15530920028686523 seconds ---\n",
      "--- 0.14809083938598633 seconds ---\n",
      "--- 5.586007833480835 seconds ---\n",
      "--- 7.095808506011963 seconds ---\n",
      "(688, 0.00872093023255814)\n",
      "##\n",
      "500\n",
      "--- 1.00225830078125 seconds ---\n",
      "--- 7.682465314865112 seconds ---\n",
      "--- 0.2512352466583252 seconds ---\n",
      "--- 0.5921211242675781 seconds ---\n",
      "--- 0.30827975273132324 seconds ---\n",
      "--- 0.20526838302612305 seconds ---\n",
      "--- 0.1896209716796875 seconds ---\n",
      "--- 7.149646997451782 seconds ---\n",
      "--- 9.027876615524292 seconds ---\n",
      "(688, 0.01744186046511628)\n",
      "##\n",
      "600\n",
      "--- 1.1397302150726318 seconds ---\n",
      "--- 8.027323484420776 seconds ---\n",
      "--- 0.26923227310180664 seconds ---\n",
      "--- 0.7100250720977783 seconds ---\n",
      "--- 0.3711268901824951 seconds ---\n",
      "--- 0.2484278678894043 seconds ---\n",
      "--- 0.23102140426635742 seconds ---\n",
      "--- 8.906769514083862 seconds ---\n",
      "--- 11.259015083312988 seconds ---\n",
      "(688, 0.01308139534883721)\n",
      "##\n",
      "700\n",
      "--- 1.1356737613677979 seconds ---\n",
      "--- 11.1100013256073 seconds ---\n",
      "--- 0.30029821395874023 seconds ---\n",
      "--- 0.8607921600341797 seconds ---\n",
      "--- 0.43407487869262695 seconds ---\n",
      "--- 0.3023831844329834 seconds ---\n",
      "--- 0.2839775085449219 seconds ---\n",
      "--- 10.675760984420776 seconds ---\n",
      "--- 13.27115774154663 seconds ---\n",
      "(688, 0.01744186046511628)\n",
      "##\n",
      "800\n",
      "--- 1.0038957595825195 seconds ---\n",
      "--- 9.374342203140259 seconds ---\n",
      "--- 0.32447385787963867 seconds ---\n",
      "--- 0.9914209842681885 seconds ---\n",
      "--- 0.5538873672485352 seconds ---\n",
      "--- 0.36120176315307617 seconds ---\n",
      "--- 0.3374185562133789 seconds ---\n",
      "--- 12.493650674819946 seconds ---\n",
      "--- 15.887844562530518 seconds ---\n",
      "(688, 0.015988372093023256)\n",
      "##\n",
      "900\n",
      "--- 1.0376613140106201 seconds ---\n",
      "--- 9.588316440582275 seconds ---\n",
      "--- 0.33646321296691895 seconds ---\n",
      "--- 1.1420116424560547 seconds ---\n",
      "--- 0.5728609561920166 seconds ---\n",
      "--- 0.4162170886993408 seconds ---\n",
      "--- 0.38429951667785645 seconds ---\n",
      "--- 13.923007011413574 seconds ---\n",
      "--- 17.565672636032104 seconds ---\n",
      "(688, 0.02180232558139535)\n",
      "##\n",
      "1000\n",
      "--- 1.0003960132598877 seconds ---\n",
      "--- 11.628114700317383 seconds ---\n",
      "--- 0.3554046154022217 seconds ---\n",
      "--- 1.1971030235290527 seconds ---\n",
      "--- 0.6350047588348389 seconds ---\n",
      "--- 0.44283509254455566 seconds ---\n",
      "--- 0.42035961151123047 seconds ---\n",
      "--- 15.56581735610962 seconds ---\n",
      "--- 19.541820764541626 seconds ---\n",
      "(688, 0.015988372093023256)\n",
      "##\n",
      "1100\n",
      "--- 1.0478742122650146 seconds ---\n",
      "--- 10.332684755325317 seconds ---\n",
      "--- 0.3726015090942383 seconds ---\n",
      "--- 1.3494558334350586 seconds ---\n",
      "--- 0.7141859531402588 seconds ---\n",
      "--- 0.5099098682403564 seconds ---\n",
      "--- 0.5450341701507568 seconds ---\n",
      "--- 17.11926531791687 seconds ---\n",
      "--- 22.134475231170654 seconds ---\n",
      "(688, 0.014534883720930232)\n",
      "##\n",
      "1200\n",
      "--- 1.056776762008667 seconds ---\n",
      "--- 10.58245325088501 seconds ---\n",
      "--- 0.3828277587890625 seconds ---\n",
      "--- 1.4466915130615234 seconds ---\n",
      "--- 0.8015105724334717 seconds ---\n",
      "--- 0.5370690822601318 seconds ---\n",
      "--- 0.5131614208221436 seconds ---\n",
      "--- 18.773510694503784 seconds ---\n",
      "--- 23.901971578598022 seconds ---\n",
      "(688, 0.020348837209302327)\n"
     ]
    }
   ],
   "source": [
    "# [100, 200, 300, 400, 500, 600, 700, 800, 900, 1000]\n",
    "l_top_n = [100, 200, 300, 400, 500, 600, 700, 800, 900, 1000, 1100, 1200]\n",
    "l_perf = []\n",
    "for top_n in l_top_n:\n",
    "    print(\"##\")\n",
    "    print(top_n)\n",
    "    cs_model = CosineSim().fit(transactions_train, top_n)\n",
    "    perf = history_basket_performance(transactions_test.head(3000), cs_model)\n",
    "    l_perf.append(perf[1])\n",
    "    print(perf)"
   ]
  },
  {
   "cell_type": "code",
   "execution_count": 49,
   "id": "c0e5183f",
   "metadata": {
    "execution": {
     "iopub.execute_input": "2023-01-27T14:55:01.681798Z",
     "iopub.status.busy": "2023-01-27T14:55:01.680939Z",
     "iopub.status.idle": "2023-01-27T14:55:02.378277Z",
     "shell.execute_reply": "2023-01-27T14:55:02.377700Z",
     "shell.execute_reply.started": "2023-01-27T13:19:15.484263Z"
    },
    "papermill": {
     "duration": 0.786818,
     "end_time": "2023-01-27T14:55:02.378453",
     "exception": false,
     "start_time": "2023-01-27T14:55:01.591635",
     "status": "completed"
    },
    "tags": []
   },
   "outputs": [
    {
     "data": {
      "image/png": "[encoded data removed]",
      "text/plain": [
       "<Figure size 1080x360 with 1 Axes>"
      ]
     },
     "metadata": {
      "needs_background": "light"
     },
     "output_type": "display_data"
    }
   ],
   "source": [
    "from scipy.interpolate import make_interp_spline\n",
    "\n",
    "x = np.array(l_top_n)\n",
    "y = np.array(l_perf)\n",
    "\n",
    "X_Y_Spline = make_interp_spline(x, y)\n",
    " \n",
    "# Returns evenly spaced numbers over a specified interval.\n",
    "X_ = np.linspace(x.min(), x.max(), 100)\n",
    "Y_ = X_Y_Spline(X_)\n",
    "\n",
    "_ = plt.plot(X_, Y_)\n",
    "_ = plt.xticks(rotation=90)"
   ]
  },
  {
   "cell_type": "code",
   "execution_count": null,
   "id": "2483d593",
   "metadata": {
    "papermill": {
     "duration": 0.08242,
     "end_time": "2023-01-27T14:55:02.544438",
     "exception": false,
     "start_time": "2023-01-27T14:55:02.462018",
     "status": "completed"
    },
    "tags": []
   },
   "outputs": [],
   "source": []
  }
 ],
 "metadata": {
  "kernelspec": {
   "display_name": "Python 3",
   "language": "python",
   "name": "python3"
  },
  "language_info": {
   "codemirror_mode": {
    "name": "ipython",
    "version": 3
   },
   "file_extension": ".py",
   "mimetype": "text/x-python",
   "name": "python",
   "nbconvert_exporter": "python",
   "pygments_lexer": "ipython3",
   "version": "3.7.12"
  },
  "papermill": {
   "default_parameters": {},
   "duration": 1809.004689,
   "end_time": "2023-01-27T14:55:05.950927",
   "environment_variables": {},
   "exception": null,
   "input_path": "__notebook__.ipynb",
   "output_path": "__notebook__.ipynb",
   "parameters": {},
   "start_time": "2023-01-27T14:24:56.946238",
   "version": "2.3.3"
  }
 },
 "nbformat": 4,
 "nbformat_minor": 5
}
