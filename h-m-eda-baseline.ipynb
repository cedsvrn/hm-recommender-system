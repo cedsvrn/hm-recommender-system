{
 "cells": [
  {
   "cell_type": "code",
   "execution_count": 1,
   "id": "6985da13",
   "metadata": {
    "execution": {
     "iopub.execute_input": "2023-01-26T23:47:19.374904Z",
     "iopub.status.busy": "2023-01-26T23:47:19.372966Z",
     "iopub.status.idle": "2023-01-26T23:48:44.760826Z",
     "shell.execute_reply": "2023-01-26T23:48:44.760103Z",
     "shell.execute_reply.started": "2023-01-26T22:05:59.239746Z"
    },
    "papermill": {
     "duration": 85.436017,
     "end_time": "2023-01-26T23:48:44.761039",
     "exception": false,
     "start_time": "2023-01-26T23:47:19.325022",
     "status": "completed"
    },
    "tags": []
   },
   "outputs": [
    {
     "data": {
      "text/plain": [
       "<Figure size 800x480 with 0 Axes>"
      ]
     },
     "execution_count": 1,
     "metadata": {},
     "output_type": "execute_result"
    },
    {
     "data": {
      "text/plain": [
       "<Figure size 800x480 with 0 Axes>"
      ]
     },
     "metadata": {},
     "output_type": "display_data"
    }
   ],
   "source": [
    "import random\n",
    "import time\n",
    "import numpy as np\n",
    "import pandas as pd\n",
    "import matplotlib.pyplot as plt\n",
    "\n",
    "from matplotlib.pyplot import figure\n",
    "from collections import Counter\n",
    "\n",
    "transactions = pd.read_csv('/kaggle/input/h-and-m-personalized-fashion-recommendations/transactions_train.csv')\n",
    "sample_submission = pd.read_csv('/kaggle/input/h-and-m-personalized-fashion-recommendations/sample_submission.csv')\n",
    "# /kaggle/input/h-and-m-personalized-fashion-recommendations/sample_submission.csv\n",
    "# /kaggle/input/h-and-m-personalized-fashion-recommendations/articles.csv\n",
    "# /kaggle/input/h-and-m-personalized-fashion-recommendations/transactions_train.csv\n",
    "# /kaggle/input/h-and-m-personalized-fashion-recommendations/customers.csv\n",
    "\n",
    "# FIXME : does not work\n",
    "figure(figsize=(10, 6), dpi=80)"
   ]
  },
  {
   "cell_type": "code",
   "execution_count": 2,
   "id": "bbde9381",
   "metadata": {
    "execution": {
     "iopub.execute_input": "2023-01-26T23:48:44.856692Z",
     "iopub.status.busy": "2023-01-26T23:48:44.855720Z",
     "iopub.status.idle": "2023-01-26T23:48:44.873066Z",
     "shell.execute_reply": "2023-01-26T23:48:44.873650Z",
     "shell.execute_reply.started": "2023-01-26T22:06:48.512035Z"
    },
    "papermill": {
     "duration": 0.062923,
     "end_time": "2023-01-26T23:48:44.873848",
     "exception": false,
     "start_time": "2023-01-26T23:48:44.810925",
     "status": "completed"
    },
    "tags": []
   },
   "outputs": [
    {
     "data": {
      "text/html": [
       "<div>\n",
       "<style scoped>\n",
       "    .dataframe tbody tr th:only-of-type {\n",
       "        vertical-align: middle;\n",
       "    }\n",
       "\n",
       "    .dataframe tbody tr th {\n",
       "        vertical-align: top;\n",
       "    }\n",
       "\n",
       "    .dataframe thead th {\n",
       "        text-align: right;\n",
       "    }\n",
       "</style>\n",
       "<table border=\"1\" class=\"dataframe\">\n",
       "  <thead>\n",
       "    <tr style=\"text-align: right;\">\n",
       "      <th></th>\n",
       "      <th>t_dat</th>\n",
       "      <th>customer_id</th>\n",
       "      <th>article_id</th>\n",
       "      <th>price</th>\n",
       "      <th>sales_channel_id</th>\n",
       "    </tr>\n",
       "  </thead>\n",
       "  <tbody>\n",
       "    <tr>\n",
       "      <th>0</th>\n",
       "      <td>2018-09-20</td>\n",
       "      <td>000058a12d5b43e67d225668fa1f8d618c13dc232df0ca...</td>\n",
       "      <td>663713001</td>\n",
       "      <td>0.050831</td>\n",
       "      <td>2</td>\n",
       "    </tr>\n",
       "    <tr>\n",
       "      <th>1</th>\n",
       "      <td>2018-09-20</td>\n",
       "      <td>000058a12d5b43e67d225668fa1f8d618c13dc232df0ca...</td>\n",
       "      <td>541518023</td>\n",
       "      <td>0.030492</td>\n",
       "      <td>2</td>\n",
       "    </tr>\n",
       "    <tr>\n",
       "      <th>2</th>\n",
       "      <td>2018-09-20</td>\n",
       "      <td>00007d2de826758b65a93dd24ce629ed66842531df6699...</td>\n",
       "      <td>505221004</td>\n",
       "      <td>0.015237</td>\n",
       "      <td>2</td>\n",
       "    </tr>\n",
       "    <tr>\n",
       "      <th>3</th>\n",
       "      <td>2018-09-20</td>\n",
       "      <td>00007d2de826758b65a93dd24ce629ed66842531df6699...</td>\n",
       "      <td>685687003</td>\n",
       "      <td>0.016932</td>\n",
       "      <td>2</td>\n",
       "    </tr>\n",
       "    <tr>\n",
       "      <th>4</th>\n",
       "      <td>2018-09-20</td>\n",
       "      <td>00007d2de826758b65a93dd24ce629ed66842531df6699...</td>\n",
       "      <td>685687004</td>\n",
       "      <td>0.016932</td>\n",
       "      <td>2</td>\n",
       "    </tr>\n",
       "  </tbody>\n",
       "</table>\n",
       "</div>"
      ],
      "text/plain": [
       "        t_dat                                        customer_id  article_id  \\\n",
       "0  2018-09-20  000058a12d5b43e67d225668fa1f8d618c13dc232df0ca...   663713001   \n",
       "1  2018-09-20  000058a12d5b43e67d225668fa1f8d618c13dc232df0ca...   541518023   \n",
       "2  2018-09-20  00007d2de826758b65a93dd24ce629ed66842531df6699...   505221004   \n",
       "3  2018-09-20  00007d2de826758b65a93dd24ce629ed66842531df6699...   685687003   \n",
       "4  2018-09-20  00007d2de826758b65a93dd24ce629ed66842531df6699...   685687004   \n",
       "\n",
       "      price  sales_channel_id  \n",
       "0  0.050831                 2  \n",
       "1  0.030492                 2  \n",
       "2  0.015237                 2  \n",
       "3  0.016932                 2  \n",
       "4  0.016932                 2  "
      ]
     },
     "execution_count": 2,
     "metadata": {},
     "output_type": "execute_result"
    }
   ],
   "source": [
    "transactions.head()"
   ]
  },
  {
   "cell_type": "code",
   "execution_count": 3,
   "id": "2b20ea80",
   "metadata": {
    "execution": {
     "iopub.execute_input": "2023-01-26T23:48:44.965689Z",
     "iopub.status.busy": "2023-01-26T23:48:44.964823Z",
     "iopub.status.idle": "2023-01-26T23:48:44.968283Z",
     "shell.execute_reply": "2023-01-26T23:48:44.968832Z",
     "shell.execute_reply.started": "2023-01-26T22:06:48.514316Z"
    },
    "papermill": {
     "duration": 0.054729,
     "end_time": "2023-01-26T23:48:44.969015",
     "exception": false,
     "start_time": "2023-01-26T23:48:44.914286",
     "status": "completed"
    },
    "tags": []
   },
   "outputs": [
    {
     "data": {
      "text/html": [
       "<div>\n",
       "<style scoped>\n",
       "    .dataframe tbody tr th:only-of-type {\n",
       "        vertical-align: middle;\n",
       "    }\n",
       "\n",
       "    .dataframe tbody tr th {\n",
       "        vertical-align: top;\n",
       "    }\n",
       "\n",
       "    .dataframe thead th {\n",
       "        text-align: right;\n",
       "    }\n",
       "</style>\n",
       "<table border=\"1\" class=\"dataframe\">\n",
       "  <thead>\n",
       "    <tr style=\"text-align: right;\">\n",
       "      <th></th>\n",
       "      <th>customer_id</th>\n",
       "      <th>prediction</th>\n",
       "    </tr>\n",
       "  </thead>\n",
       "  <tbody>\n",
       "    <tr>\n",
       "      <th>0</th>\n",
       "      <td>00000dbacae5abe5e23885899a1fa44253a17956c6d1c3...</td>\n",
       "      <td>0706016001 0706016002 0372860001 0610776002 07...</td>\n",
       "    </tr>\n",
       "    <tr>\n",
       "      <th>1</th>\n",
       "      <td>0000423b00ade91418cceaf3b26c6af3dd342b51fd051e...</td>\n",
       "      <td>0706016001 0706016002 0372860001 0610776002 07...</td>\n",
       "    </tr>\n",
       "    <tr>\n",
       "      <th>2</th>\n",
       "      <td>000058a12d5b43e67d225668fa1f8d618c13dc232df0ca...</td>\n",
       "      <td>0706016001 0706016002 0372860001 0610776002 07...</td>\n",
       "    </tr>\n",
       "    <tr>\n",
       "      <th>3</th>\n",
       "      <td>00005ca1c9ed5f5146b52ac8639a40ca9d57aeff4d1bd2...</td>\n",
       "      <td>0706016001 0706016002 0372860001 0610776002 07...</td>\n",
       "    </tr>\n",
       "    <tr>\n",
       "      <th>4</th>\n",
       "      <td>00006413d8573cd20ed7128e53b7b13819fe5cfc2d801f...</td>\n",
       "      <td>0706016001 0706016002 0372860001 0610776002 07...</td>\n",
       "    </tr>\n",
       "  </tbody>\n",
       "</table>\n",
       "</div>"
      ],
      "text/plain": [
       "                                         customer_id  \\\n",
       "0  00000dbacae5abe5e23885899a1fa44253a17956c6d1c3...   \n",
       "1  0000423b00ade91418cceaf3b26c6af3dd342b51fd051e...   \n",
       "2  000058a12d5b43e67d225668fa1f8d618c13dc232df0ca...   \n",
       "3  00005ca1c9ed5f5146b52ac8639a40ca9d57aeff4d1bd2...   \n",
       "4  00006413d8573cd20ed7128e53b7b13819fe5cfc2d801f...   \n",
       "\n",
       "                                          prediction  \n",
       "0  0706016001 0706016002 0372860001 0610776002 07...  \n",
       "1  0706016001 0706016002 0372860001 0610776002 07...  \n",
       "2  0706016001 0706016002 0372860001 0610776002 07...  \n",
       "3  0706016001 0706016002 0372860001 0610776002 07...  \n",
       "4  0706016001 0706016002 0372860001 0610776002 07...  "
      ]
     },
     "execution_count": 3,
     "metadata": {},
     "output_type": "execute_result"
    }
   ],
   "source": [
    "sample_submission.head()"
   ]
  },
  {
   "cell_type": "markdown",
   "id": "a5ee8438",
   "metadata": {
    "papermill": {
     "duration": 0.041579,
     "end_time": "2023-01-26T23:48:45.053039",
     "exception": false,
     "start_time": "2023-01-26T23:48:45.011460",
     "status": "completed"
    },
    "tags": []
   },
   "source": [
    "# EDA"
   ]
  },
  {
   "cell_type": "code",
   "execution_count": 4,
   "id": "4a0573c9",
   "metadata": {
    "execution": {
     "iopub.execute_input": "2023-01-26T23:48:45.140365Z",
     "iopub.status.busy": "2023-01-26T23:48:45.139362Z",
     "iopub.status.idle": "2023-01-26T23:49:20.856395Z",
     "shell.execute_reply": "2023-01-26T23:49:20.856945Z",
     "shell.execute_reply.started": "2023-01-26T22:06:48.515899Z"
    },
    "papermill": {
     "duration": 35.762177,
     "end_time": "2023-01-26T23:49:20.857146",
     "exception": false,
     "start_time": "2023-01-26T23:48:45.094969",
     "status": "completed"
    },
    "tags": []
   },
   "outputs": [
    {
     "data": {
      "image/png": "[encoded data removed]",
      "text/plain": [
       "<Figure size 432x288 with 1 Axes>"
      ]
     },
     "metadata": {
      "needs_background": "light"
     },
     "output_type": "display_data"
    }
   ],
   "source": [
    "# Sold products over the years\n",
    "df = transactions\n",
    "df['year_month'] = df['t_dat'].apply(lambda x : x.split('-')[0]+'-'+x.split('-')[1])\n",
    "df = df.groupby(['year_month']).count().reset_index()\n",
    "_ = plt.plot(df['year_month'], df['t_dat'])\n",
    "_ = plt.xticks(rotation=90)"
   ]
  },
  {
   "cell_type": "code",
   "execution_count": 5,
   "id": "72bd08de",
   "metadata": {
    "execution": {
     "iopub.execute_input": "2023-01-26T23:49:21.598637Z",
     "iopub.status.busy": "2023-01-26T23:49:21.405786Z",
     "iopub.status.idle": "2023-01-26T23:49:51.686235Z",
     "shell.execute_reply": "2023-01-26T23:49:51.686793Z",
     "shell.execute_reply.started": "2023-01-26T22:06:48.518326Z"
    },
    "papermill": {
     "duration": 30.788751,
     "end_time": "2023-01-26T23:49:51.686997",
     "exception": false,
     "start_time": "2023-01-26T23:49:20.898246",
     "status": "completed"
    },
    "tags": []
   },
   "outputs": [
    {
     "data": {
      "image/png": "[encoded data removed]",
      "text/plain": [
       "<Figure size 432x288 with 1 Axes>"
      ]
     },
     "metadata": {
      "needs_background": "light"
     },
     "output_type": "display_data"
    }
   ],
   "source": [
    "# Sold product each month\n",
    "df = transactions\n",
    "df['month'] = df['t_dat'].apply(lambda x : x.split('-')[1])\n",
    "df = df.groupby(['month']).count().reset_index()\n",
    "_ = plt.bar(df['month'], df['t_dat'], align='center')"
   ]
  },
  {
   "cell_type": "code",
   "execution_count": 6,
   "id": "e8d30459",
   "metadata": {
    "execution": {
     "iopub.execute_input": "2023-01-26T23:49:51.776257Z",
     "iopub.status.busy": "2023-01-26T23:49:51.775561Z",
     "iopub.status.idle": "2023-01-26T23:49:51.792561Z",
     "shell.execute_reply": "2023-01-26T23:49:51.793082Z",
     "shell.execute_reply.started": "2023-01-26T22:06:48.520119Z"
    },
    "papermill": {
     "duration": 0.06398,
     "end_time": "2023-01-26T23:49:51.793289",
     "exception": false,
     "start_time": "2023-01-26T23:49:51.729309",
     "status": "completed"
    },
    "tags": []
   },
   "outputs": [
    {
     "data": {
      "text/html": [
       "<div>\n",
       "<style scoped>\n",
       "    .dataframe tbody tr th:only-of-type {\n",
       "        vertical-align: middle;\n",
       "    }\n",
       "\n",
       "    .dataframe tbody tr th {\n",
       "        vertical-align: top;\n",
       "    }\n",
       "\n",
       "    .dataframe thead th {\n",
       "        text-align: right;\n",
       "    }\n",
       "</style>\n",
       "<table border=\"1\" class=\"dataframe\">\n",
       "  <thead>\n",
       "    <tr style=\"text-align: right;\">\n",
       "      <th></th>\n",
       "      <th>t_dat</th>\n",
       "      <th>customer_id</th>\n",
       "      <th>article_id</th>\n",
       "      <th>price</th>\n",
       "      <th>sales_channel_id</th>\n",
       "      <th>year_month</th>\n",
       "      <th>month</th>\n",
       "    </tr>\n",
       "  </thead>\n",
       "  <tbody>\n",
       "    <tr>\n",
       "      <th>0</th>\n",
       "      <td>2018-09-20</td>\n",
       "      <td>000058a12d5b43e67d225668fa1f8d618c13dc232df0ca...</td>\n",
       "      <td>663713001</td>\n",
       "      <td>0.050831</td>\n",
       "      <td>2</td>\n",
       "      <td>2018-09</td>\n",
       "      <td>09</td>\n",
       "    </tr>\n",
       "    <tr>\n",
       "      <th>1</th>\n",
       "      <td>2018-09-20</td>\n",
       "      <td>000058a12d5b43e67d225668fa1f8d618c13dc232df0ca...</td>\n",
       "      <td>541518023</td>\n",
       "      <td>0.030492</td>\n",
       "      <td>2</td>\n",
       "      <td>2018-09</td>\n",
       "      <td>09</td>\n",
       "    </tr>\n",
       "    <tr>\n",
       "      <th>2</th>\n",
       "      <td>2018-09-20</td>\n",
       "      <td>00007d2de826758b65a93dd24ce629ed66842531df6699...</td>\n",
       "      <td>505221004</td>\n",
       "      <td>0.015237</td>\n",
       "      <td>2</td>\n",
       "      <td>2018-09</td>\n",
       "      <td>09</td>\n",
       "    </tr>\n",
       "    <tr>\n",
       "      <th>3</th>\n",
       "      <td>2018-09-20</td>\n",
       "      <td>00007d2de826758b65a93dd24ce629ed66842531df6699...</td>\n",
       "      <td>685687003</td>\n",
       "      <td>0.016932</td>\n",
       "      <td>2</td>\n",
       "      <td>2018-09</td>\n",
       "      <td>09</td>\n",
       "    </tr>\n",
       "    <tr>\n",
       "      <th>4</th>\n",
       "      <td>2018-09-20</td>\n",
       "      <td>00007d2de826758b65a93dd24ce629ed66842531df6699...</td>\n",
       "      <td>685687004</td>\n",
       "      <td>0.016932</td>\n",
       "      <td>2</td>\n",
       "      <td>2018-09</td>\n",
       "      <td>09</td>\n",
       "    </tr>\n",
       "    <tr>\n",
       "      <th>...</th>\n",
       "      <td>...</td>\n",
       "      <td>...</td>\n",
       "      <td>...</td>\n",
       "      <td>...</td>\n",
       "      <td>...</td>\n",
       "      <td>...</td>\n",
       "      <td>...</td>\n",
       "    </tr>\n",
       "    <tr>\n",
       "      <th>31788319</th>\n",
       "      <td>2020-09-22</td>\n",
       "      <td>fff2282977442e327b45d8c89afde25617d00124d0f999...</td>\n",
       "      <td>929511001</td>\n",
       "      <td>0.059305</td>\n",
       "      <td>2</td>\n",
       "      <td>2020-09</td>\n",
       "      <td>09</td>\n",
       "    </tr>\n",
       "    <tr>\n",
       "      <th>31788320</th>\n",
       "      <td>2020-09-22</td>\n",
       "      <td>fff2282977442e327b45d8c89afde25617d00124d0f999...</td>\n",
       "      <td>891322004</td>\n",
       "      <td>0.042356</td>\n",
       "      <td>2</td>\n",
       "      <td>2020-09</td>\n",
       "      <td>09</td>\n",
       "    </tr>\n",
       "    <tr>\n",
       "      <th>31788321</th>\n",
       "      <td>2020-09-22</td>\n",
       "      <td>fff380805474b287b05cb2a7507b9a013482f7dd0bce0e...</td>\n",
       "      <td>918325001</td>\n",
       "      <td>0.043203</td>\n",
       "      <td>1</td>\n",
       "      <td>2020-09</td>\n",
       "      <td>09</td>\n",
       "    </tr>\n",
       "    <tr>\n",
       "      <th>31788322</th>\n",
       "      <td>2020-09-22</td>\n",
       "      <td>fff4d3a8b1f3b60af93e78c30a7cb4cf75edaf2590d3e5...</td>\n",
       "      <td>833459002</td>\n",
       "      <td>0.006763</td>\n",
       "      <td>1</td>\n",
       "      <td>2020-09</td>\n",
       "      <td>09</td>\n",
       "    </tr>\n",
       "    <tr>\n",
       "      <th>31788323</th>\n",
       "      <td>2020-09-22</td>\n",
       "      <td>fffef3b6b73545df065b521e19f64bf6fe93bfd450ab20...</td>\n",
       "      <td>898573003</td>\n",
       "      <td>0.033881</td>\n",
       "      <td>2</td>\n",
       "      <td>2020-09</td>\n",
       "      <td>09</td>\n",
       "    </tr>\n",
       "  </tbody>\n",
       "</table>\n",
       "<p>31788324 rows × 7 columns</p>\n",
       "</div>"
      ],
      "text/plain": [
       "               t_dat                                        customer_id  \\\n",
       "0         2018-09-20  000058a12d5b43e67d225668fa1f8d618c13dc232df0ca...   \n",
       "1         2018-09-20  000058a12d5b43e67d225668fa1f8d618c13dc232df0ca...   \n",
       "2         2018-09-20  00007d2de826758b65a93dd24ce629ed66842531df6699...   \n",
       "3         2018-09-20  00007d2de826758b65a93dd24ce629ed66842531df6699...   \n",
       "4         2018-09-20  00007d2de826758b65a93dd24ce629ed66842531df6699...   \n",
       "...              ...                                                ...   \n",
       "31788319  2020-09-22  fff2282977442e327b45d8c89afde25617d00124d0f999...   \n",
       "31788320  2020-09-22  fff2282977442e327b45d8c89afde25617d00124d0f999...   \n",
       "31788321  2020-09-22  fff380805474b287b05cb2a7507b9a013482f7dd0bce0e...   \n",
       "31788322  2020-09-22  fff4d3a8b1f3b60af93e78c30a7cb4cf75edaf2590d3e5...   \n",
       "31788323  2020-09-22  fffef3b6b73545df065b521e19f64bf6fe93bfd450ab20...   \n",
       "\n",
       "          article_id     price  sales_channel_id year_month month  \n",
       "0          663713001  0.050831                 2    2018-09    09  \n",
       "1          541518023  0.030492                 2    2018-09    09  \n",
       "2          505221004  0.015237                 2    2018-09    09  \n",
       "3          685687003  0.016932                 2    2018-09    09  \n",
       "4          685687004  0.016932                 2    2018-09    09  \n",
       "...              ...       ...               ...        ...   ...  \n",
       "31788319   929511001  0.059305                 2    2020-09    09  \n",
       "31788320   891322004  0.042356                 2    2020-09    09  \n",
       "31788321   918325001  0.043203                 1    2020-09    09  \n",
       "31788322   833459002  0.006763                 1    2020-09    09  \n",
       "31788323   898573003  0.033881                 2    2020-09    09  \n",
       "\n",
       "[31788324 rows x 7 columns]"
      ]
     },
     "execution_count": 6,
     "metadata": {},
     "output_type": "execute_result"
    }
   ],
   "source": [
    "transactions"
   ]
  },
  {
   "cell_type": "code",
   "execution_count": 7,
   "id": "870a03f8",
   "metadata": {
    "execution": {
     "iopub.execute_input": "2023-01-26T23:49:51.889120Z",
     "iopub.status.busy": "2023-01-26T23:49:51.888436Z",
     "iopub.status.idle": "2023-01-26T23:50:01.589379Z",
     "shell.execute_reply": "2023-01-26T23:50:01.588663Z",
     "shell.execute_reply.started": "2023-01-26T22:06:48.522564Z"
    },
    "papermill": {
     "duration": 9.75217,
     "end_time": "2023-01-26T23:50:01.589563",
     "exception": false,
     "start_time": "2023-01-26T23:49:51.837393",
     "status": "completed"
    },
    "tags": []
   },
   "outputs": [
    {
     "name": "stdout",
     "output_type": "stream",
     "text": [
      "       article_id  customer_id\n",
      "53832   706016001        50287\n",
      "53833   706016002        35043\n",
      "1711    372860001        31718\n",
      "24808   610776002        30199\n",
      "70124   759871002        26329\n",
      "...           ...          ...\n",
      "8205    521266001            1\n",
      "36666   651538001            1\n",
      "8211    521302001            1\n",
      "36710   651645003            1\n",
      "13340   557727001            1\n",
      "\n",
      "[104547 rows x 2 columns]\n"
     ]
    },
    {
     "data": {
      "image/png": "[encoded data removed]",
      "text/plain": [
       "<Figure size 432x288 with 1 Axes>"
      ]
     },
     "metadata": {
      "needs_background": "light"
     },
     "output_type": "display_data"
    }
   ],
   "source": [
    "# Top products\n",
    "df = transactions.groupby(['article_id']).count().reset_index()[[\"article_id\", \"customer_id\"]].sort_values([\"customer_id\"], ascending=False)\n",
    "print(df)\n",
    "_ = plt.bar(df['article_id'][:100], df['customer_id'][:100], align='center')"
   ]
  },
  {
   "cell_type": "code",
   "execution_count": 8,
   "id": "16540743",
   "metadata": {
    "execution": {
     "iopub.execute_input": "2023-01-26T23:50:01.682682Z",
     "iopub.status.busy": "2023-01-26T23:50:01.681674Z",
     "iopub.status.idle": "2023-01-26T23:50:01.882605Z",
     "shell.execute_reply": "2023-01-26T23:50:01.883213Z",
     "shell.execute_reply.started": "2023-01-26T22:06:48.524041Z"
    },
    "papermill": {
     "duration": 0.249322,
     "end_time": "2023-01-26T23:50:01.883413",
     "exception": false,
     "start_time": "2023-01-26T23:50:01.634091",
     "status": "completed"
    },
    "tags": []
   },
   "outputs": [
    {
     "data": {
      "image/png": "[encoded data removed]",
      "text/plain": [
       "<Figure size 432x288 with 1 Axes>"
      ]
     },
     "metadata": {
      "needs_background": "light"
     },
     "output_type": "display_data"
    }
   ],
   "source": [
    "_ = plt.boxplot(df['customer_id'])"
   ]
  },
  {
   "cell_type": "code",
   "execution_count": 9,
   "id": "45740235",
   "metadata": {
    "execution": {
     "iopub.execute_input": "2023-01-26T23:50:01.978798Z",
     "iopub.status.busy": "2023-01-26T23:50:01.977810Z",
     "iopub.status.idle": "2023-01-26T23:50:01.994368Z",
     "shell.execute_reply": "2023-01-26T23:50:01.994914Z",
     "shell.execute_reply.started": "2023-01-26T22:06:48.525398Z"
    },
    "papermill": {
     "duration": 0.06691,
     "end_time": "2023-01-26T23:50:01.995115",
     "exception": false,
     "start_time": "2023-01-26T23:50:01.928205",
     "status": "completed"
    },
    "tags": []
   },
   "outputs": [
    {
     "data": {
      "text/html": [
       "<div>\n",
       "<style scoped>\n",
       "    .dataframe tbody tr th:only-of-type {\n",
       "        vertical-align: middle;\n",
       "    }\n",
       "\n",
       "    .dataframe tbody tr th {\n",
       "        vertical-align: top;\n",
       "    }\n",
       "\n",
       "    .dataframe thead th {\n",
       "        text-align: right;\n",
       "    }\n",
       "</style>\n",
       "<table border=\"1\" class=\"dataframe\">\n",
       "  <thead>\n",
       "    <tr style=\"text-align: right;\">\n",
       "      <th></th>\n",
       "      <th>t_dat</th>\n",
       "      <th>customer_id</th>\n",
       "      <th>article_id</th>\n",
       "      <th>price</th>\n",
       "      <th>sales_channel_id</th>\n",
       "      <th>year_month</th>\n",
       "      <th>month</th>\n",
       "    </tr>\n",
       "  </thead>\n",
       "  <tbody>\n",
       "    <tr>\n",
       "      <th>0</th>\n",
       "      <td>2018-09-20</td>\n",
       "      <td>000058a12d5b43e67d225668fa1f8d618c13dc232df0ca...</td>\n",
       "      <td>663713001</td>\n",
       "      <td>0.050831</td>\n",
       "      <td>2</td>\n",
       "      <td>2018-09</td>\n",
       "      <td>09</td>\n",
       "    </tr>\n",
       "    <tr>\n",
       "      <th>1</th>\n",
       "      <td>2018-09-20</td>\n",
       "      <td>000058a12d5b43e67d225668fa1f8d618c13dc232df0ca...</td>\n",
       "      <td>541518023</td>\n",
       "      <td>0.030492</td>\n",
       "      <td>2</td>\n",
       "      <td>2018-09</td>\n",
       "      <td>09</td>\n",
       "    </tr>\n",
       "    <tr>\n",
       "      <th>2</th>\n",
       "      <td>2018-09-20</td>\n",
       "      <td>00007d2de826758b65a93dd24ce629ed66842531df6699...</td>\n",
       "      <td>505221004</td>\n",
       "      <td>0.015237</td>\n",
       "      <td>2</td>\n",
       "      <td>2018-09</td>\n",
       "      <td>09</td>\n",
       "    </tr>\n",
       "    <tr>\n",
       "      <th>3</th>\n",
       "      <td>2018-09-20</td>\n",
       "      <td>00007d2de826758b65a93dd24ce629ed66842531df6699...</td>\n",
       "      <td>685687003</td>\n",
       "      <td>0.016932</td>\n",
       "      <td>2</td>\n",
       "      <td>2018-09</td>\n",
       "      <td>09</td>\n",
       "    </tr>\n",
       "    <tr>\n",
       "      <th>4</th>\n",
       "      <td>2018-09-20</td>\n",
       "      <td>00007d2de826758b65a93dd24ce629ed66842531df6699...</td>\n",
       "      <td>685687004</td>\n",
       "      <td>0.016932</td>\n",
       "      <td>2</td>\n",
       "      <td>2018-09</td>\n",
       "      <td>09</td>\n",
       "    </tr>\n",
       "    <tr>\n",
       "      <th>...</th>\n",
       "      <td>...</td>\n",
       "      <td>...</td>\n",
       "      <td>...</td>\n",
       "      <td>...</td>\n",
       "      <td>...</td>\n",
       "      <td>...</td>\n",
       "      <td>...</td>\n",
       "    </tr>\n",
       "    <tr>\n",
       "      <th>31788319</th>\n",
       "      <td>2020-09-22</td>\n",
       "      <td>fff2282977442e327b45d8c89afde25617d00124d0f999...</td>\n",
       "      <td>929511001</td>\n",
       "      <td>0.059305</td>\n",
       "      <td>2</td>\n",
       "      <td>2020-09</td>\n",
       "      <td>09</td>\n",
       "    </tr>\n",
       "    <tr>\n",
       "      <th>31788320</th>\n",
       "      <td>2020-09-22</td>\n",
       "      <td>fff2282977442e327b45d8c89afde25617d00124d0f999...</td>\n",
       "      <td>891322004</td>\n",
       "      <td>0.042356</td>\n",
       "      <td>2</td>\n",
       "      <td>2020-09</td>\n",
       "      <td>09</td>\n",
       "    </tr>\n",
       "    <tr>\n",
       "      <th>31788321</th>\n",
       "      <td>2020-09-22</td>\n",
       "      <td>fff380805474b287b05cb2a7507b9a013482f7dd0bce0e...</td>\n",
       "      <td>918325001</td>\n",
       "      <td>0.043203</td>\n",
       "      <td>1</td>\n",
       "      <td>2020-09</td>\n",
       "      <td>09</td>\n",
       "    </tr>\n",
       "    <tr>\n",
       "      <th>31788322</th>\n",
       "      <td>2020-09-22</td>\n",
       "      <td>fff4d3a8b1f3b60af93e78c30a7cb4cf75edaf2590d3e5...</td>\n",
       "      <td>833459002</td>\n",
       "      <td>0.006763</td>\n",
       "      <td>1</td>\n",
       "      <td>2020-09</td>\n",
       "      <td>09</td>\n",
       "    </tr>\n",
       "    <tr>\n",
       "      <th>31788323</th>\n",
       "      <td>2020-09-22</td>\n",
       "      <td>fffef3b6b73545df065b521e19f64bf6fe93bfd450ab20...</td>\n",
       "      <td>898573003</td>\n",
       "      <td>0.033881</td>\n",
       "      <td>2</td>\n",
       "      <td>2020-09</td>\n",
       "      <td>09</td>\n",
       "    </tr>\n",
       "  </tbody>\n",
       "</table>\n",
       "<p>31788324 rows × 7 columns</p>\n",
       "</div>"
      ],
      "text/plain": [
       "               t_dat                                        customer_id  \\\n",
       "0         2018-09-20  000058a12d5b43e67d225668fa1f8d618c13dc232df0ca...   \n",
       "1         2018-09-20  000058a12d5b43e67d225668fa1f8d618c13dc232df0ca...   \n",
       "2         2018-09-20  00007d2de826758b65a93dd24ce629ed66842531df6699...   \n",
       "3         2018-09-20  00007d2de826758b65a93dd24ce629ed66842531df6699...   \n",
       "4         2018-09-20  00007d2de826758b65a93dd24ce629ed66842531df6699...   \n",
       "...              ...                                                ...   \n",
       "31788319  2020-09-22  fff2282977442e327b45d8c89afde25617d00124d0f999...   \n",
       "31788320  2020-09-22  fff2282977442e327b45d8c89afde25617d00124d0f999...   \n",
       "31788321  2020-09-22  fff380805474b287b05cb2a7507b9a013482f7dd0bce0e...   \n",
       "31788322  2020-09-22  fff4d3a8b1f3b60af93e78c30a7cb4cf75edaf2590d3e5...   \n",
       "31788323  2020-09-22  fffef3b6b73545df065b521e19f64bf6fe93bfd450ab20...   \n",
       "\n",
       "          article_id     price  sales_channel_id year_month month  \n",
       "0          663713001  0.050831                 2    2018-09    09  \n",
       "1          541518023  0.030492                 2    2018-09    09  \n",
       "2          505221004  0.015237                 2    2018-09    09  \n",
       "3          685687003  0.016932                 2    2018-09    09  \n",
       "4          685687004  0.016932                 2    2018-09    09  \n",
       "...              ...       ...               ...        ...   ...  \n",
       "31788319   929511001  0.059305                 2    2020-09    09  \n",
       "31788320   891322004  0.042356                 2    2020-09    09  \n",
       "31788321   918325001  0.043203                 1    2020-09    09  \n",
       "31788322   833459002  0.006763                 1    2020-09    09  \n",
       "31788323   898573003  0.033881                 2    2020-09    09  \n",
       "\n",
       "[31788324 rows x 7 columns]"
      ]
     },
     "execution_count": 9,
     "metadata": {},
     "output_type": "execute_result"
    }
   ],
   "source": [
    "transactions"
   ]
  },
  {
   "cell_type": "code",
   "execution_count": null,
   "id": "c55cd5ef",
   "metadata": {
    "papermill": {
     "duration": 0.046605,
     "end_time": "2023-01-26T23:50:02.087157",
     "exception": false,
     "start_time": "2023-01-26T23:50:02.040552",
     "status": "completed"
    },
    "tags": []
   },
   "outputs": [],
   "source": []
  },
  {
   "cell_type": "markdown",
   "id": "17c1618b",
   "metadata": {
    "papermill": {
     "duration": 0.044365,
     "end_time": "2023-01-26T23:50:02.176929",
     "exception": false,
     "start_time": "2023-01-26T23:50:02.132564",
     "status": "completed"
    },
    "tags": []
   },
   "source": [
    "# Cleaning + create train and test dataset"
   ]
  },
  {
   "cell_type": "code",
   "execution_count": 10,
   "id": "24567f77",
   "metadata": {
    "execution": {
     "iopub.execute_input": "2023-01-26T23:50:02.271172Z",
     "iopub.status.busy": "2023-01-26T23:50:02.270168Z",
     "iopub.status.idle": "2023-01-26T23:50:04.267358Z",
     "shell.execute_reply": "2023-01-26T23:50:04.266079Z",
     "shell.execute_reply.started": "2023-01-26T22:06:48.526801Z"
    },
    "papermill": {
     "duration": 2.045446,
     "end_time": "2023-01-26T23:50:04.267552",
     "exception": false,
     "start_time": "2023-01-26T23:50:02.222106",
     "status": "completed"
    },
    "tags": []
   },
   "outputs": [],
   "source": [
    "# Truncate transactions since the data is too large for Kaggle cluster\n",
    "transactions = transactions[transactions[\"t_dat\"]>='2020-07-01']"
   ]
  },
  {
   "cell_type": "code",
   "execution_count": 11,
   "id": "d52588a4",
   "metadata": {
    "execution": {
     "iopub.execute_input": "2023-01-26T23:50:04.364783Z",
     "iopub.status.busy": "2023-01-26T23:50:04.363177Z",
     "iopub.status.idle": "2023-01-26T23:50:06.490726Z",
     "shell.execute_reply": "2023-01-26T23:50:06.491356Z",
     "shell.execute_reply.started": "2023-01-26T22:06:48.528434Z"
    },
    "papermill": {
     "duration": 2.179228,
     "end_time": "2023-01-26T23:50:06.491603",
     "exception": false,
     "start_time": "2023-01-26T23:50:04.312375",
     "status": "completed"
    },
    "tags": []
   },
   "outputs": [
    {
     "name": "stderr",
     "output_type": "stream",
     "text": [
      "/opt/conda/lib/python3.7/site-packages/ipykernel_launcher.py:2: SettingWithCopyWarning: \n",
      "A value is trying to be set on a copy of a slice from a DataFrame.\n",
      "Try using .loc[row_indexer,col_indexer] = value instead\n",
      "\n",
      "See the caveats in the documentation: https://pandas.pydata.org/pandas-docs/stable/user_guide/indexing.html#returning-a-view-versus-a-copy\n",
      "  \n"
     ]
    }
   ],
   "source": [
    "# Considering each article_id as str\n",
    "transactions['article_id'] = transactions['article_id'].astype(str)"
   ]
  },
  {
   "cell_type": "code",
   "execution_count": 12,
   "id": "5df155b0",
   "metadata": {
    "execution": {
     "iopub.execute_input": "2023-01-26T23:50:06.720727Z",
     "iopub.status.busy": "2023-01-26T23:50:06.719385Z",
     "iopub.status.idle": "2023-01-26T23:50:12.171085Z",
     "shell.execute_reply": "2023-01-26T23:50:12.171734Z",
     "shell.execute_reply.started": "2023-01-26T22:06:48.532501Z"
    },
    "papermill": {
     "duration": 5.633915,
     "end_time": "2023-01-26T23:50:12.171978",
     "exception": false,
     "start_time": "2023-01-26T23:50:06.538063",
     "status": "completed"
    },
    "tags": []
   },
   "outputs": [
    {
     "name": "stdout",
     "output_type": "stream",
     "text": [
      "Train set size : 2370874\n",
      "Test set size : 1016089\n"
     ]
    }
   ],
   "source": [
    "# Splitting train and test as 30%\n",
    "test_set = 0.3\n",
    "train_set = (1-test_set)\n",
    "split = int(transactions.shape[0]*train_set)\n",
    "\n",
    "transactions_train = transactions.sort_values('t_dat').iloc[:split]\n",
    "transactions_test = transactions.sort_values('t_dat').iloc[split:]\n",
    "print(\"Train set size :\", transactions_train.shape[0])\n",
    "print(\"Test set size :\", transactions_test.shape[0])"
   ]
  },
  {
   "cell_type": "markdown",
   "id": "929c858a",
   "metadata": {
    "papermill": {
     "duration": 0.045783,
     "end_time": "2023-01-26T23:50:12.266221",
     "exception": false,
     "start_time": "2023-01-26T23:50:12.220438",
     "status": "completed"
    },
    "tags": []
   },
   "source": [
    "# Baseline : Best sellers recommender\n",
    "\n",
    "Our Baseline will be the well known best sellers."
   ]
  },
  {
   "cell_type": "code",
   "execution_count": 13,
   "id": "319d9d7b",
   "metadata": {
    "execution": {
     "iopub.execute_input": "2023-01-26T23:50:12.362505Z",
     "iopub.status.busy": "2023-01-26T23:50:12.361822Z",
     "iopub.status.idle": "2023-01-26T23:50:12.369573Z",
     "shell.execute_reply": "2023-01-26T23:50:12.370204Z",
     "shell.execute_reply.started": "2023-01-26T22:06:48.534159Z"
    },
    "papermill": {
     "duration": 0.057993,
     "end_time": "2023-01-26T23:50:12.370417",
     "exception": false,
     "start_time": "2023-01-26T23:50:12.312424",
     "status": "completed"
    },
    "tags": []
   },
   "outputs": [],
   "source": [
    "class BestSeller():\n",
    "    \"\"\"FIXME\"\"\"\n",
    "    def __init__(self):\n",
    "        \"\"\"FIXME\"\"\"\n",
    "        pass\n",
    "    \n",
    "    def fit(self, X):\n",
    "        \"\"\"FIXME\"\"\"\n",
    "        self.X_occur = Counter(list(X['article_id']))\n",
    "        self.best_sellers_10 = [article_id for (article_id, occ) in self.X_occur.most_common(10)]\n",
    "        return self\n",
    "    \n",
    "    def predict(self, basket, k=10):\n",
    "        \"\"\"FIXME\"\"\"\n",
    "        if k==10:\n",
    "            return self.best_sellers_10\n",
    "        else:\n",
    "            best_sellers = [article_id for (article_id, occ) in self.X_occur.most_common(k)]\n",
    "            return best_sellers"
   ]
  },
  {
   "cell_type": "code",
   "execution_count": 14,
   "id": "6bd0b6f5",
   "metadata": {
    "execution": {
     "iopub.execute_input": "2023-01-26T23:50:12.467516Z",
     "iopub.status.busy": "2023-01-26T23:50:12.466811Z",
     "iopub.status.idle": "2023-01-26T23:50:13.312133Z",
     "shell.execute_reply": "2023-01-26T23:50:13.312781Z",
     "shell.execute_reply.started": "2023-01-26T22:06:48.535753Z"
    },
    "papermill": {
     "duration": 0.895594,
     "end_time": "2023-01-26T23:50:13.312982",
     "exception": false,
     "start_time": "2023-01-26T23:50:12.417388",
     "status": "completed"
    },
    "tags": []
   },
   "outputs": [
    {
     "data": {
      "text/plain": [
       "<__main__.BestSeller at 0x7f980a0fc910>"
      ]
     },
     "execution_count": 14,
     "metadata": {},
     "output_type": "execute_result"
    }
   ],
   "source": [
    "bs_model = BestSeller()\n",
    "bs_model.fit(transactions_train)"
   ]
  },
  {
   "cell_type": "code",
   "execution_count": 15,
   "id": "52f60659",
   "metadata": {
    "execution": {
     "iopub.execute_input": "2023-01-26T23:50:13.409225Z",
     "iopub.status.busy": "2023-01-26T23:50:13.408522Z",
     "iopub.status.idle": "2023-01-26T23:50:13.414959Z",
     "shell.execute_reply": "2023-01-26T23:50:13.415502Z",
     "shell.execute_reply.started": "2023-01-26T22:06:48.537808Z"
    },
    "papermill": {
     "duration": 0.056533,
     "end_time": "2023-01-26T23:50:13.415694",
     "exception": false,
     "start_time": "2023-01-26T23:50:13.359161",
     "status": "completed"
    },
    "tags": []
   },
   "outputs": [
    {
     "data": {
      "text/plain": [
       "['706016001',\n",
       " '372860002',\n",
       " '610776002',\n",
       " '751471001',\n",
       " '730683050',\n",
       " '760084003',\n",
       " '759871002',\n",
       " '866383006',\n",
       " '464297007',\n",
       " '610776001']"
      ]
     },
     "execution_count": 15,
     "metadata": {},
     "output_type": "execute_result"
    }
   ],
   "source": [
    "bs_model.predict([])"
   ]
  },
  {
   "cell_type": "markdown",
   "id": "ad39d782",
   "metadata": {
    "papermill": {
     "duration": 0.046676,
     "end_time": "2023-01-26T23:50:13.509112",
     "exception": false,
     "start_time": "2023-01-26T23:50:13.462436",
     "status": "completed"
    },
    "tags": []
   },
   "source": [
    "# Cosine Similarity\n",
    "\n",
    "Cosine similarity is a measure of similarity that can be used to get the similarity of two objects. It uses the cosine value between two vectors to compute the similarity of two data points. As the distances between the vectors increases, the similiraty reduces."
   ]
  },
  {
   "cell_type": "code",
   "execution_count": 16,
   "id": "f955f26b",
   "metadata": {
    "execution": {
     "iopub.execute_input": "2023-01-26T23:50:13.606356Z",
     "iopub.status.busy": "2023-01-26T23:50:13.605579Z",
     "iopub.status.idle": "2023-01-26T23:50:13.636571Z",
     "shell.execute_reply": "2023-01-26T23:50:13.637166Z",
     "shell.execute_reply.started": "2023-01-26T23:19:46.059507Z"
    },
    "papermill": {
     "duration": 0.081781,
     "end_time": "2023-01-26T23:50:13.637373",
     "exception": false,
     "start_time": "2023-01-26T23:50:13.555592",
     "status": "completed"
    },
    "tags": []
   },
   "outputs": [],
   "source": [
    "from math import sqrt\n",
    "\n",
    "class CosineSim():\n",
    "    \"\"\"FIXME\"\"\"\n",
    "    def __init__(self):\n",
    "        \"\"\"FIXME\"\"\"\n",
    "        pass\n",
    "    \n",
    "    def _get_l_of_two_from_l(self, l):\n",
    "        \"\"\"FIXME\"\"\"\n",
    "        # Dropping duplicates to avoid having more co-occur than occur\n",
    "        l = list(set(l))\n",
    "        if len(l)>1:\n",
    "            l_of_two = []\n",
    "            for i in range(0,len(l)):\n",
    "                for j in range(i+1,len(l)):\n",
    "                    if int(l[i])<int(l[j]):\n",
    "                        l_of_two.append(f\"{l[i]}|{l[j]}\")\n",
    "                    else:\n",
    "                        l_of_two.append(f\"{l[j]}|{l[i]}\")\n",
    "            return l_of_two\n",
    "        return None\n",
    "    \n",
    "    def _get_frequency(self, article_id, counter_occur_article_id):\n",
    "        \"\"\"FIXME\"\"\"\n",
    "        return counter_occur_article_id[article_id]\n",
    "    \n",
    "    def _get_co_occ_frequency(self, article_id_a, article_id_b, counter_co_occ_article_id):\n",
    "        \"\"\"FIXME\"\"\"\n",
    "        if int(article_id_a) < int(article_id_b):\n",
    "            str_co_occ = article_id_a + '|' + article_id_b\n",
    "        else:\n",
    "            str_co_occ = article_id_b + '|' + article_id_a\n",
    "        return counter_co_occ_article_id[str_co_occ]\n",
    "    \n",
    "    def _get_cosine_sim(self, freq_a, freq_b, co_occ_freq):\n",
    "        \"\"\"FIXME\"\"\"\n",
    "        return (co_occ_freq/sqrt(freq_a*freq_b))\n",
    "        \n",
    "    def fit(self, X, top_n=200, threshold=0.005):\n",
    "        \"\"\"FIXME\"\"\"        \n",
    "        # Keeping only top N articles\n",
    "        start_time = time.time()\n",
    "        counter_article_id = Counter(X['article_id'])\n",
    "        list_top_n = sorted(counter_article_id, key=counter_article_id.get, reverse=True)[:top_n]\n",
    "        X = X[X['article_id'].isin(list_top_n)]\n",
    "        print(\"--- %s seconds ---\" % (time.time() - start_time))\n",
    "        \n",
    "        # Getting baskets\n",
    "        start_time = time.time()\n",
    "        X_grouped = X.groupby(['t_dat', 'customer_id'])['article_id'].apply(list).reset_index()\n",
    "        print(\"--- %s seconds ---\" % (time.time() - start_time))\n",
    "        \n",
    "        # Getting frequencies of article_ids\n",
    "        start_time = time.time()\n",
    "        l_baskets_len2 = list(X_grouped[X_grouped['article_id'].map(len) >1]['article_id'])\n",
    "        l_baskets_len2_flat_list = [x for xs in l_baskets_len2 for x in xs]\n",
    "        counter_occur_article_id = Counter(l_baskets_len2_flat_list)\n",
    "        print(\"--- %s seconds ---\" % (time.time() - start_time))\n",
    "\n",
    "        # Getting co-occur frequencies of article_ids\n",
    "        start_time = time.time()\n",
    "        l_co_occur_article_id = []\n",
    "        for basket in l_baskets_len2:\n",
    "            l_of_two = self._get_l_of_two_from_l(basket)\n",
    "            if l_of_two:\n",
    "                l_co_occur_article_id += l_of_two\n",
    "\n",
    "        counter_co_occ_article_id = Counter(l_co_occur_article_id)\n",
    "        print(\"--- %s seconds ---\" % (time.time() - start_time))\n",
    "        \n",
    "        # Creating pandas dataframe\n",
    "        start_time = time.time()\n",
    "        l_article_id_a = [i.split('|', 1)[0] for i in l_co_occur_article_id]\n",
    "        l_article_id_b = [i.split('|', 1)[1] for i in l_co_occur_article_id]\n",
    "        df_cosine = pd.DataFrame()\n",
    "        df_cosine['article_id_a'] = l_article_id_a\n",
    "        df_cosine['article_id_b'] = l_article_id_b\n",
    "        print(\"--- %s seconds ---\" % (time.time() - start_time))\n",
    "        \n",
    "        start_time = time.time()\n",
    "        df_cosine['freq_a'] = df_cosine['article_id_a'].apply(lambda x : self._get_frequency(x, counter_occur_article_id))\n",
    "        print(\"--- %s seconds ---\" % (time.time() - start_time))\n",
    "        \n",
    "        start_time = time.time()\n",
    "        df_cosine['freq_b'] = df_cosine['article_id_b'].apply(lambda x : self._get_frequency(x, counter_occur_article_id))\n",
    "        print(\"--- %s seconds ---\" % (time.time() - start_time))\n",
    "        \n",
    "        start_time = time.time()\n",
    "        df_cosine['co_occ_freq'] = df_cosine.apply(lambda x: self._get_co_occ_frequency(x.article_id_a, x.article_id_b, counter_co_occ_article_id), axis=1)\n",
    "        print(\"--- %s seconds ---\" % (time.time() - start_time))\n",
    "        \n",
    "        start_time = time.time()\n",
    "        df_cosine['cosine_sim'] = df_cosine.apply(lambda x: self._get_cosine_sim(x.freq_a, x.freq_b, x.co_occ_freq), axis=1)\n",
    "        print(\"--- %s seconds ---\" % (time.time() - start_time))\n",
    "        \n",
    "        df_cosine = df_cosine.sort_values('cosine_sim', ascending=False)\n",
    "        \n",
    "        # Filtering with threshold\n",
    "        self.df_cosine = df_cosine[df_cosine[\"cosine_sim\"]>threshold]\n",
    "\n",
    "        return self\n",
    "    \n",
    "    def predict(self, basket, k=10, strat='mean'):\n",
    "        \"\"\"FIXME\"\"\"\n",
    "        df = self.df_cosine[(self.df_cosine['article_id_a'].isin(basket)) & (~self.df_cosine['article_id_b'].isin(basket))]\n",
    "        \n",
    "        if strat=='mean':\n",
    "            result = list(df[['article_id_b', 'cosine_sim']].groupby(['article_id_b']).mean().reset_index()['article_id_b'])[:k]\n",
    "        elif strat=='max':\n",
    "            result = list(df[['article_id_b', 'cosine_sim']].groupby(['article_id_b']).max().reset_index()['article_id_b'])[:k]\n",
    "        else:\n",
    "            result = []\n",
    "        return result"
   ]
  },
  {
   "cell_type": "code",
   "execution_count": 17,
   "id": "3bb2f4c0",
   "metadata": {
    "execution": {
     "iopub.execute_input": "2023-01-26T23:50:13.735431Z",
     "iopub.status.busy": "2023-01-26T23:50:13.734434Z",
     "iopub.status.idle": "2023-01-26T23:50:44.639504Z",
     "shell.execute_reply": "2023-01-26T23:50:44.640392Z",
     "shell.execute_reply.started": "2023-01-26T23:19:46.251203Z"
    },
    "papermill": {
     "duration": 30.956611,
     "end_time": "2023-01-26T23:50:44.640938",
     "exception": false,
     "start_time": "2023-01-26T23:50:13.684327",
     "status": "completed"
    },
    "tags": []
   },
   "outputs": [
    {
     "name": "stdout",
     "output_type": "stream",
     "text": [
      "--- 2.34684681892395 seconds ---\n",
      "--- 10.095675706863403 seconds ---\n",
      "--- 0.2265472412109375 seconds ---\n",
      "--- 0.6145987510681152 seconds ---\n",
      "--- 0.33286571502685547 seconds ---\n",
      "--- 0.17590093612670898 seconds ---\n",
      "--- 0.1778883934020996 seconds ---\n",
      "--- 7.267086029052734 seconds ---\n",
      "--- 9.394193649291992 seconds ---\n"
     ]
    }
   ],
   "source": [
    "# FIXME : Optimize for loops, taking ages to run\n",
    "cs_model = CosineSim().fit(transactions_train, top_n=500)"
   ]
  },
  {
   "cell_type": "code",
   "execution_count": 18,
   "id": "6095b94d",
   "metadata": {
    "execution": {
     "iopub.execute_input": "2023-01-26T23:50:44.790137Z",
     "iopub.status.busy": "2023-01-26T23:50:44.789341Z",
     "iopub.status.idle": "2023-01-26T23:50:44.803044Z",
     "shell.execute_reply": "2023-01-26T23:50:44.803612Z",
     "shell.execute_reply.started": "2023-01-26T23:10:08.006843Z"
    },
    "papermill": {
     "duration": 0.111374,
     "end_time": "2023-01-26T23:50:44.803813",
     "exception": false,
     "start_time": "2023-01-26T23:50:44.692439",
     "status": "completed"
    },
    "tags": []
   },
   "outputs": [
    {
     "data": {
      "text/plain": [
       "['610776002',\n",
       " '610776068',\n",
       " '610776071',\n",
       " '610776072',\n",
       " '610776074',\n",
       " '610776083',\n",
       " '624486001',\n",
       " '624486064',\n",
       " '673396002',\n",
       " '678942001']"
      ]
     },
     "execution_count": 18,
     "metadata": {},
     "output_type": "execute_result"
    }
   ],
   "source": [
    "cs_model.predict(['610776001'])"
   ]
  },
  {
   "cell_type": "markdown",
   "id": "999fd237",
   "metadata": {
    "papermill": {
     "duration": 0.049305,
     "end_time": "2023-01-26T23:50:44.903143",
     "exception": false,
     "start_time": "2023-01-26T23:50:44.853838",
     "status": "completed"
    },
    "tags": []
   },
   "source": [
    "# ALS"
   ]
  },
  {
   "cell_type": "code",
   "execution_count": 19,
   "id": "a0671ca2",
   "metadata": {
    "execution": {
     "iopub.execute_input": "2023-01-26T23:50:45.008899Z",
     "iopub.status.busy": "2023-01-26T23:50:45.007945Z",
     "iopub.status.idle": "2023-01-26T23:50:45.010913Z",
     "shell.execute_reply": "2023-01-26T23:50:45.010234Z",
     "shell.execute_reply.started": "2023-01-26T22:06:48.545167Z"
    },
    "papermill": {
     "duration": 0.057246,
     "end_time": "2023-01-26T23:50:45.011073",
     "exception": false,
     "start_time": "2023-01-26T23:50:44.953827",
     "status": "completed"
    },
    "tags": []
   },
   "outputs": [],
   "source": [
    "# !pip install pyspark > /dev/null"
   ]
  },
  {
   "cell_type": "code",
   "execution_count": 20,
   "id": "4de00d10",
   "metadata": {
    "execution": {
     "iopub.execute_input": "2023-01-26T23:50:45.116232Z",
     "iopub.status.busy": "2023-01-26T23:50:45.115258Z",
     "iopub.status.idle": "2023-01-26T23:50:45.117815Z",
     "shell.execute_reply": "2023-01-26T23:50:45.117265Z",
     "shell.execute_reply.started": "2023-01-26T22:06:48.546728Z"
    },
    "papermill": {
     "duration": 0.05665,
     "end_time": "2023-01-26T23:50:45.117974",
     "exception": false,
     "start_time": "2023-01-26T23:50:45.061324",
     "status": "completed"
    },
    "tags": []
   },
   "outputs": [],
   "source": [
    "# import pyspark\n",
    "\n",
    "# from pyspark import SparkContext, SparkConf\n",
    "# from pyspark.sql import SQLContext, SparkSession"
   ]
  },
  {
   "cell_type": "code",
   "execution_count": 21,
   "id": "15563ffe",
   "metadata": {
    "execution": {
     "iopub.execute_input": "2023-01-26T23:50:45.219961Z",
     "iopub.status.busy": "2023-01-26T23:50:45.219240Z",
     "iopub.status.idle": "2023-01-26T23:50:45.222171Z",
     "shell.execute_reply": "2023-01-26T23:50:45.222800Z",
     "shell.execute_reply.started": "2023-01-26T22:06:48.548452Z"
    },
    "papermill": {
     "duration": 0.055653,
     "end_time": "2023-01-26T23:50:45.222984",
     "exception": false,
     "start_time": "2023-01-26T23:50:45.167331",
     "status": "completed"
    },
    "tags": []
   },
   "outputs": [],
   "source": [
    "# conf = SparkConf().set(\"spark.ui.port\", \"4050\") \\\n",
    "#                   .set('spark.executor.memory', '9G') \\\n",
    "#                   .set('spark.driver.memory', '7G') \\\n",
    "#                   .set('spark.sql.autoBroadcastJoinThreshold', '-1')\n",
    "\n",
    "# sc = pyspark.SparkContext(conf=conf)\n",
    "# spark = SparkSession.builder.getOrCreate()"
   ]
  },
  {
   "cell_type": "code",
   "execution_count": 22,
   "id": "7004ed13",
   "metadata": {
    "execution": {
     "iopub.execute_input": "2023-01-26T23:50:45.325844Z",
     "iopub.status.busy": "2023-01-26T23:50:45.325184Z",
     "iopub.status.idle": "2023-01-26T23:50:45.328035Z",
     "shell.execute_reply": "2023-01-26T23:50:45.328632Z",
     "shell.execute_reply.started": "2023-01-26T22:06:48.550069Z"
    },
    "papermill": {
     "duration": 0.055966,
     "end_time": "2023-01-26T23:50:45.328818",
     "exception": false,
     "start_time": "2023-01-26T23:50:45.272852",
     "status": "completed"
    },
    "tags": []
   },
   "outputs": [],
   "source": [
    "# from pyspark.ml.recommendation import ALS, ALSModel"
   ]
  },
  {
   "cell_type": "code",
   "execution_count": 23,
   "id": "c87507d2",
   "metadata": {
    "execution": {
     "iopub.execute_input": "2023-01-26T23:50:45.433656Z",
     "iopub.status.busy": "2023-01-26T23:50:45.432616Z",
     "iopub.status.idle": "2023-01-26T23:50:45.435587Z",
     "shell.execute_reply": "2023-01-26T23:50:45.435039Z",
     "shell.execute_reply.started": "2023-01-26T22:06:48.551442Z"
    },
    "papermill": {
     "duration": 0.057313,
     "end_time": "2023-01-26T23:50:45.435738",
     "exception": false,
     "start_time": "2023-01-26T23:50:45.378425",
     "status": "completed"
    },
    "tags": []
   },
   "outputs": [],
   "source": [
    "# customer_map = transactions[[\"customer_id\"]].drop_duplicates().reset_index(drop=True)\n",
    "# customer_map[\"USER\"] = customer_map.index\n",
    "\n",
    "# item_map = df[[\"article_id\"]].drop_duplicates().reset_index(drop=True)\n",
    "# item_map[\"ITEM\"] = item_map.index\n",
    "\n",
    "# customer_map_dict = dict(zip(customer_map['USER'].values, customer_map['customer_id'].values))\n",
    "# item_map_dict = dict(zip(item_map['ITEM'].values, item_map['article_id'].values))"
   ]
  },
  {
   "cell_type": "code",
   "execution_count": 24,
   "id": "faff8e09",
   "metadata": {
    "execution": {
     "iopub.execute_input": "2023-01-26T23:50:45.539420Z",
     "iopub.status.busy": "2023-01-26T23:50:45.538748Z",
     "iopub.status.idle": "2023-01-26T23:50:45.541939Z",
     "shell.execute_reply": "2023-01-26T23:50:45.542556Z",
     "shell.execute_reply.started": "2023-01-26T22:06:48.553145Z"
    },
    "papermill": {
     "duration": 0.056815,
     "end_time": "2023-01-26T23:50:45.542754",
     "exception": false,
     "start_time": "2023-01-26T23:50:45.485939",
     "status": "completed"
    },
    "tags": []
   },
   "outputs": [],
   "source": [
    "# transactions_train['article_id'] = transactions_train['article_id'].astype(str)\n",
    "# transactions_train.info()"
   ]
  },
  {
   "cell_type": "code",
   "execution_count": 25,
   "id": "878c9895",
   "metadata": {
    "execution": {
     "iopub.execute_input": "2023-01-26T23:50:45.646288Z",
     "iopub.status.busy": "2023-01-26T23:50:45.645562Z",
     "iopub.status.idle": "2023-01-26T23:50:45.648627Z",
     "shell.execute_reply": "2023-01-26T23:50:45.649157Z",
     "shell.execute_reply.started": "2023-01-26T22:06:48.554541Z"
    },
    "papermill": {
     "duration": 0.05661,
     "end_time": "2023-01-26T23:50:45.649362",
     "exception": false,
     "start_time": "2023-01-26T23:50:45.592752",
     "status": "completed"
    },
    "tags": []
   },
   "outputs": [],
   "source": [
    "# transactions_train_als = (\n",
    "#         transactions_train\n",
    "#         .merge(customer_map, on=\"customer_id\", how=\"inner\")\n",
    "#         .merge(item_map, on=\"article_id\", how=\"inner\")\n",
    "#     )\n",
    "# transactions_train_als[\"rating\"] = 1"
   ]
  },
  {
   "cell_type": "code",
   "execution_count": 26,
   "id": "687af70a",
   "metadata": {
    "execution": {
     "iopub.execute_input": "2023-01-26T23:50:45.752585Z",
     "iopub.status.busy": "2023-01-26T23:50:45.751911Z",
     "iopub.status.idle": "2023-01-26T23:50:45.755086Z",
     "shell.execute_reply": "2023-01-26T23:50:45.755702Z",
     "shell.execute_reply.started": "2023-01-26T22:06:48.556365Z"
    },
    "papermill": {
     "duration": 0.056449,
     "end_time": "2023-01-26T23:50:45.755891",
     "exception": false,
     "start_time": "2023-01-26T23:50:45.699442",
     "status": "completed"
    },
    "tags": []
   },
   "outputs": [],
   "source": [
    "# transactions_train_als.head()"
   ]
  },
  {
   "cell_type": "code",
   "execution_count": 27,
   "id": "5df1b84a",
   "metadata": {
    "execution": {
     "iopub.execute_input": "2023-01-26T23:50:45.858988Z",
     "iopub.status.busy": "2023-01-26T23:50:45.858328Z",
     "iopub.status.idle": "2023-01-26T23:50:45.862198Z",
     "shell.execute_reply": "2023-01-26T23:50:45.862703Z",
     "shell.execute_reply.started": "2023-01-26T22:06:48.557496Z"
    },
    "papermill": {
     "duration": 0.057029,
     "end_time": "2023-01-26T23:50:45.862896",
     "exception": false,
     "start_time": "2023-01-26T23:50:45.805867",
     "status": "completed"
    },
    "tags": []
   },
   "outputs": [],
   "source": [
    "# mod = 10000000\n",
    "# transactions_train_als = transactions_train[[\"customer_id\", \"article_id\"]].head(1000)\n",
    "# transactions_train_als[\"rating\"] = 1\n",
    "# transactions_train_als['customer_id_hash'] = transactions_train_als['customer_id'].apply(lambda x : hash(x) % mod)\n",
    "# transactions_train_als['article_id_hash'] = transactions_train_als['article_id'].apply(lambda x : hash(x) % mod)"
   ]
  },
  {
   "cell_type": "code",
   "execution_count": 28,
   "id": "e72dfa8d",
   "metadata": {
    "execution": {
     "iopub.execute_input": "2023-01-26T23:50:45.968629Z",
     "iopub.status.busy": "2023-01-26T23:50:45.967899Z",
     "iopub.status.idle": "2023-01-26T23:50:45.970154Z",
     "shell.execute_reply": "2023-01-26T23:50:45.970797Z",
     "shell.execute_reply.started": "2023-01-26T22:06:48.559325Z"
    },
    "papermill": {
     "duration": 0.058307,
     "end_time": "2023-01-26T23:50:45.970998",
     "exception": false,
     "start_time": "2023-01-26T23:50:45.912691",
     "status": "completed"
    },
    "tags": []
   },
   "outputs": [],
   "source": [
    "# transactions_train_als_spark = spark.createDataFrame(transactions_train_als) "
   ]
  },
  {
   "cell_type": "code",
   "execution_count": 29,
   "id": "1e6fcd17",
   "metadata": {
    "execution": {
     "iopub.execute_input": "2023-01-26T23:50:46.077333Z",
     "iopub.status.busy": "2023-01-26T23:50:46.076585Z",
     "iopub.status.idle": "2023-01-26T23:50:46.078286Z",
     "shell.execute_reply": "2023-01-26T23:50:46.078859Z",
     "shell.execute_reply.started": "2023-01-26T22:06:48.560853Z"
    },
    "papermill": {
     "duration": 0.057194,
     "end_time": "2023-01-26T23:50:46.079046",
     "exception": false,
     "start_time": "2023-01-26T23:50:46.021852",
     "status": "completed"
    },
    "tags": []
   },
   "outputs": [],
   "source": [
    "# transactions_train_als_spark.show()"
   ]
  },
  {
   "cell_type": "code",
   "execution_count": 30,
   "id": "dd1d02c0",
   "metadata": {
    "execution": {
     "iopub.execute_input": "2023-01-26T23:50:46.183697Z",
     "iopub.status.busy": "2023-01-26T23:50:46.183028Z",
     "iopub.status.idle": "2023-01-26T23:50:46.185596Z",
     "shell.execute_reply": "2023-01-26T23:50:46.186050Z",
     "shell.execute_reply.started": "2023-01-26T22:06:48.562542Z"
    },
    "papermill": {
     "duration": 0.057306,
     "end_time": "2023-01-26T23:50:46.186241",
     "exception": false,
     "start_time": "2023-01-26T23:50:46.128935",
     "status": "completed"
    },
    "tags": []
   },
   "outputs": [],
   "source": [
    "# als = ALS(userCol=\"customer_id_hash\", itemCol=\"article_id_hash\", ratingCol=\"rating\", coldStartStrategy=\"drop\")\n",
    "\n",
    "# # param_grid = ParamGridBuilder().addGrid(als.rank, [25]) \\\n",
    "# #                                .addGrid(als.regParam, [0.1, 0.15]) \\\n",
    "# #                                .addGrid(als.maxIter, [10]) \\\n",
    "# #                                .build()"
   ]
  },
  {
   "cell_type": "code",
   "execution_count": 31,
   "id": "7b51eb6f",
   "metadata": {
    "execution": {
     "iopub.execute_input": "2023-01-26T23:50:46.291143Z",
     "iopub.status.busy": "2023-01-26T23:50:46.290460Z",
     "iopub.status.idle": "2023-01-26T23:50:46.293369Z",
     "shell.execute_reply": "2023-01-26T23:50:46.292846Z",
     "shell.execute_reply.started": "2023-01-26T22:06:48.564387Z"
    },
    "papermill": {
     "duration": 0.057264,
     "end_time": "2023-01-26T23:50:46.293532",
     "exception": false,
     "start_time": "2023-01-26T23:50:46.236268",
     "status": "completed"
    },
    "tags": []
   },
   "outputs": [],
   "source": [
    "# model = als.fit(transactions_train_als_spark)"
   ]
  },
  {
   "cell_type": "code",
   "execution_count": 32,
   "id": "1dd959eb",
   "metadata": {
    "execution": {
     "iopub.execute_input": "2023-01-26T23:50:46.397930Z",
     "iopub.status.busy": "2023-01-26T23:50:46.397245Z",
     "iopub.status.idle": "2023-01-26T23:50:46.400685Z",
     "shell.execute_reply": "2023-01-26T23:50:46.400050Z",
     "shell.execute_reply.started": "2023-01-26T22:06:48.566297Z"
    },
    "papermill": {
     "duration": 0.057291,
     "end_time": "2023-01-26T23:50:46.400842",
     "exception": false,
     "start_time": "2023-01-26T23:50:46.343551",
     "status": "completed"
    },
    "tags": []
   },
   "outputs": [],
   "source": [
    "# transactions_test_als = transactions_test[[\"customer_id\", \"article_id\"]].head(1000)\n",
    "# #transactions_test_als[\"rating\"] = 1\n",
    "# transactions_test_als['customer_id_hash'] = transactions_test_als['customer_id'].apply(lambda x : hash(x) % mod)\n",
    "# transactions_test_als['article_id_hash'] = transactions_test_als['article_id'].apply(lambda x : hash(x) % mod)\n",
    "# transactions_test_als_spark = spark.createDataFrame(transactions_test_als) "
   ]
  },
  {
   "cell_type": "code",
   "execution_count": 33,
   "id": "b93d6956",
   "metadata": {
    "execution": {
     "iopub.execute_input": "2023-01-26T23:50:46.506874Z",
     "iopub.status.busy": "2023-01-26T23:50:46.506201Z",
     "iopub.status.idle": "2023-01-26T23:50:46.508814Z",
     "shell.execute_reply": "2023-01-26T23:50:46.509267Z",
     "shell.execute_reply.started": "2023-01-26T22:06:48.568197Z"
    },
    "papermill": {
     "duration": 0.057388,
     "end_time": "2023-01-26T23:50:46.509457",
     "exception": false,
     "start_time": "2023-01-26T23:50:46.452069",
     "status": "completed"
    },
    "tags": []
   },
   "outputs": [],
   "source": [
    "# predictions = model.transform(transactions_test_als_spark)"
   ]
  },
  {
   "cell_type": "code",
   "execution_count": 34,
   "id": "d622138a",
   "metadata": {
    "execution": {
     "iopub.execute_input": "2023-01-26T23:50:46.614166Z",
     "iopub.status.busy": "2023-01-26T23:50:46.613450Z",
     "iopub.status.idle": "2023-01-26T23:50:46.616181Z",
     "shell.execute_reply": "2023-01-26T23:50:46.616647Z",
     "shell.execute_reply.started": "2023-01-26T22:06:48.573027Z"
    },
    "papermill": {
     "duration": 0.057548,
     "end_time": "2023-01-26T23:50:46.616859",
     "exception": false,
     "start_time": "2023-01-26T23:50:46.559311",
     "status": "completed"
    },
    "tags": []
   },
   "outputs": [],
   "source": [
    "# predictions.show()"
   ]
  },
  {
   "cell_type": "code",
   "execution_count": null,
   "id": "f1fcbe5a",
   "metadata": {
    "papermill": {
     "duration": 0.049663,
     "end_time": "2023-01-26T23:50:46.716794",
     "exception": false,
     "start_time": "2023-01-26T23:50:46.667131",
     "status": "completed"
    },
    "tags": []
   },
   "outputs": [],
   "source": []
  },
  {
   "cell_type": "code",
   "execution_count": 35,
   "id": "9d3d74c7",
   "metadata": {
    "execution": {
     "iopub.execute_input": "2023-01-26T23:50:46.826713Z",
     "iopub.status.busy": "2023-01-26T23:50:46.825978Z",
     "iopub.status.idle": "2023-01-26T23:50:46.828917Z",
     "shell.execute_reply": "2023-01-26T23:50:46.829402Z",
     "shell.execute_reply.started": "2023-01-26T22:06:48.574690Z"
    },
    "papermill": {
     "duration": 0.060507,
     "end_time": "2023-01-26T23:50:46.829640",
     "exception": false,
     "start_time": "2023-01-26T23:50:46.769133",
     "status": "completed"
    },
    "tags": []
   },
   "outputs": [],
   "source": [
    "# !pip install --upgrade implicit"
   ]
  },
  {
   "cell_type": "code",
   "execution_count": 36,
   "id": "de1ab0b8",
   "metadata": {
    "execution": {
     "iopub.execute_input": "2023-01-26T23:50:46.934334Z",
     "iopub.status.busy": "2023-01-26T23:50:46.933676Z",
     "iopub.status.idle": "2023-01-26T23:50:46.937320Z",
     "shell.execute_reply": "2023-01-26T23:50:46.936777Z",
     "shell.execute_reply.started": "2023-01-26T22:06:48.576675Z"
    },
    "papermill": {
     "duration": 0.057818,
     "end_time": "2023-01-26T23:50:46.937472",
     "exception": false,
     "start_time": "2023-01-26T23:50:46.879654",
     "status": "completed"
    },
    "tags": []
   },
   "outputs": [],
   "source": [
    "# import implicit"
   ]
  },
  {
   "cell_type": "code",
   "execution_count": 37,
   "id": "c098d9b2",
   "metadata": {
    "execution": {
     "iopub.execute_input": "2023-01-26T23:50:47.042682Z",
     "iopub.status.busy": "2023-01-26T23:50:47.041966Z",
     "iopub.status.idle": "2023-01-26T23:50:47.044001Z",
     "shell.execute_reply": "2023-01-26T23:50:47.043374Z",
     "shell.execute_reply.started": "2023-01-26T22:06:48.578620Z"
    },
    "papermill": {
     "duration": 0.056276,
     "end_time": "2023-01-26T23:50:47.044147",
     "exception": false,
     "start_time": "2023-01-26T23:50:46.987871",
     "status": "completed"
    },
    "tags": []
   },
   "outputs": [],
   "source": [
    "# model = implicit.als.AlternatingLeastSquares(factors=10, iterations=2)\n",
    "# model.fit(coo_train)"
   ]
  },
  {
   "cell_type": "code",
   "execution_count": 38,
   "id": "b85990d5",
   "metadata": {
    "execution": {
     "iopub.execute_input": "2023-01-26T23:50:47.149011Z",
     "iopub.status.busy": "2023-01-26T23:50:47.148348Z",
     "iopub.status.idle": "2023-01-26T23:50:47.151223Z",
     "shell.execute_reply": "2023-01-26T23:50:47.150580Z",
     "shell.execute_reply.started": "2023-01-26T22:06:48.580454Z"
    },
    "papermill": {
     "duration": 0.056991,
     "end_time": "2023-01-26T23:50:47.151373",
     "exception": false,
     "start_time": "2023-01-26T23:50:47.094382",
     "status": "completed"
    },
    "tags": []
   },
   "outputs": [],
   "source": [
    "# transactions_train.head()"
   ]
  },
  {
   "cell_type": "code",
   "execution_count": 39,
   "id": "4167a63d",
   "metadata": {
    "execution": {
     "iopub.execute_input": "2023-01-26T23:50:47.255167Z",
     "iopub.status.busy": "2023-01-26T23:50:47.254443Z",
     "iopub.status.idle": "2023-01-26T23:50:47.257242Z",
     "shell.execute_reply": "2023-01-26T23:50:47.256739Z",
     "shell.execute_reply.started": "2023-01-26T22:06:48.582403Z"
    },
    "papermill": {
     "duration": 0.056737,
     "end_time": "2023-01-26T23:50:47.257394",
     "exception": false,
     "start_time": "2023-01-26T23:50:47.200657",
     "status": "completed"
    },
    "tags": []
   },
   "outputs": [],
   "source": [
    "# transactions_train_als = transactions_train[[\"customer_id\", \"article_id\"]].head(1000)\n",
    "# transactions_train_als[\"rating\"] = 1"
   ]
  },
  {
   "cell_type": "code",
   "execution_count": 40,
   "id": "7aa2f30a",
   "metadata": {
    "execution": {
     "iopub.execute_input": "2023-01-26T23:50:47.362824Z",
     "iopub.status.busy": "2023-01-26T23:50:47.362120Z",
     "iopub.status.idle": "2023-01-26T23:50:47.365173Z",
     "shell.execute_reply": "2023-01-26T23:50:47.364529Z",
     "shell.execute_reply.started": "2023-01-26T22:06:48.585872Z"
    },
    "papermill": {
     "duration": 0.057931,
     "end_time": "2023-01-26T23:50:47.365331",
     "exception": false,
     "start_time": "2023-01-26T23:50:47.307400",
     "status": "completed"
    },
    "tags": []
   },
   "outputs": [],
   "source": [
    "# !pip install pyspark"
   ]
  },
  {
   "cell_type": "code",
   "execution_count": 41,
   "id": "10d0e29b",
   "metadata": {
    "execution": {
     "iopub.execute_input": "2023-01-26T23:50:47.474297Z",
     "iopub.status.busy": "2023-01-26T23:50:47.473245Z",
     "iopub.status.idle": "2023-01-26T23:50:47.476274Z",
     "shell.execute_reply": "2023-01-26T23:50:47.475655Z",
     "shell.execute_reply.started": "2023-01-26T22:06:48.587736Z"
    },
    "papermill": {
     "duration": 0.060583,
     "end_time": "2023-01-26T23:50:47.476422",
     "exception": false,
     "start_time": "2023-01-26T23:50:47.415839",
     "status": "completed"
    },
    "tags": []
   },
   "outputs": [],
   "source": [
    "# import pyspark\n",
    "\n",
    "# from pyspark.ml.recommendation import ALS\n",
    "\n",
    "# als = ALS(maxIter=5, regParam=0.01, userCol=\"customer_id\", itemCol=\"article_id\", ratingCol=\"rating\", coldStartStrategy=\"drop\")\n",
    "# # model = als.fit(transactions_train_als)"
   ]
  },
  {
   "cell_type": "code",
   "execution_count": 42,
   "id": "b07e3edc",
   "metadata": {
    "execution": {
     "iopub.execute_input": "2023-01-26T23:50:47.581818Z",
     "iopub.status.busy": "2023-01-26T23:50:47.580717Z",
     "iopub.status.idle": "2023-01-26T23:50:47.583766Z",
     "shell.execute_reply": "2023-01-26T23:50:47.583068Z",
     "shell.execute_reply.started": "2023-01-26T22:06:48.589465Z"
    },
    "papermill": {
     "duration": 0.057593,
     "end_time": "2023-01-26T23:50:47.583928",
     "exception": false,
     "start_time": "2023-01-26T23:50:47.526335",
     "status": "completed"
    },
    "tags": []
   },
   "outputs": [],
   "source": [
    "# from pyspark.ml.recommendation import ALS\n",
    "\n",
    "# als = ALS(maxIter=10, regParam=1, userCol=\"USER\", itemCol=\"ITEM\", ratingCol=\"RATING\", coldStartStrategy=\"drop\", implicitPrefs=True, alpha=100, rank=200, seed=1)"
   ]
  },
  {
   "cell_type": "markdown",
   "id": "7e0ae3e2",
   "metadata": {
    "papermill": {
     "duration": 0.049863,
     "end_time": "2023-01-26T23:50:47.684066",
     "exception": false,
     "start_time": "2023-01-26T23:50:47.634203",
     "status": "completed"
    },
    "tags": []
   },
   "source": [
    "# Evaluating recommenders"
   ]
  },
  {
   "cell_type": "code",
   "execution_count": 43,
   "id": "85b088b6",
   "metadata": {
    "execution": {
     "iopub.execute_input": "2023-01-26T23:50:47.794214Z",
     "iopub.status.busy": "2023-01-26T23:50:47.793072Z",
     "iopub.status.idle": "2023-01-26T23:50:47.796300Z",
     "shell.execute_reply": "2023-01-26T23:50:47.795684Z",
     "shell.execute_reply.started": "2023-01-26T23:23:37.736311Z"
    },
    "papermill": {
     "duration": 0.062211,
     "end_time": "2023-01-26T23:50:47.796480",
     "exception": false,
     "start_time": "2023-01-26T23:50:47.734269",
     "status": "completed"
    },
    "tags": []
   },
   "outputs": [],
   "source": [
    "def is_predicted(customer_id, order, model, k, debug=False):\n",
    "    \"\"\"FIXME\"\"\"\n",
    "    if debug:\n",
    "        print(\"##\")\n",
    "        print(\"order:\", order)\n",
    "    order_ = order.copy()\n",
    "    hidden_article_id = order_.pop(random.randrange(len(order_)))\n",
    "    visible_order = order_\n",
    "    \n",
    "    start_time = time.time()\n",
    "    predictions = model.predict(visible_order, k)\n",
    "    if debug:\n",
    "        print(time.time() - start_time)\n",
    "    \n",
    "    if debug:\n",
    "        print(\"visible_order:\", visible_order)\n",
    "        print(\"predictions:\", predictions)\n",
    "        print(\"hidden_article_id:\", hidden_article_id)\n",
    "    \n",
    "    if hidden_article_id in predictions:\n",
    "        if debug:\n",
    "            print(1)\n",
    "        return 1\n",
    "    else:\n",
    "        if debug:\n",
    "            print(0)\n",
    "        return 0"
   ]
  },
  {
   "cell_type": "code",
   "execution_count": 44,
   "id": "ad1b2bb0",
   "metadata": {
    "execution": {
     "iopub.execute_input": "2023-01-26T23:50:47.913364Z",
     "iopub.status.busy": "2023-01-26T23:50:47.912580Z",
     "iopub.status.idle": "2023-01-26T23:50:47.915112Z",
     "shell.execute_reply": "2023-01-26T23:50:47.914479Z",
     "shell.execute_reply.started": "2023-01-26T23:30:02.861962Z"
    },
    "papermill": {
     "duration": 0.066945,
     "end_time": "2023-01-26T23:50:47.915271",
     "exception": false,
     "start_time": "2023-01-26T23:50:47.848326",
     "status": "completed"
    },
    "tags": []
   },
   "outputs": [],
   "source": [
    "def history_basket_performance(X, model, k=10):\n",
    "    \"\"\"FIXME\"\"\"\n",
    "    # Grouping to have orders by day\n",
    "    X_orders = X.groupby(['t_dat', 'customer_id'])['article_id'].apply(list).reset_index()    \n",
    "    \n",
    "    # Keeping only orders where we can hide at least one article and have at least one item in our basket\n",
    "    X_orders['is_long_enough'] = X_orders['article_id'].apply(lambda x: 1 if(len(x)>1) else 0)\n",
    "    X_orders = X_orders[X_orders['is_long_enough']==1]\n",
    "        \n",
    "    v_is_predicted = np.vectorize(lambda x, y, model, k: is_predicted(x, y, model, k))\n",
    "\n",
    "    X_orders['predicted'] = v_is_predicted(X_orders.customer_id, X_orders.article_id, model, k)\n",
    "\n",
    "    is_predicted_count = X_orders[X_orders['predicted']==1].shape[0]\n",
    "    count = X_orders.shape[0]\n",
    "    \n",
    "    return (count, is_predicted_count/count)"
   ]
  },
  {
   "cell_type": "code",
   "execution_count": 45,
   "id": "c7a86281",
   "metadata": {
    "execution": {
     "iopub.execute_input": "2023-01-26T23:50:48.023160Z",
     "iopub.status.busy": "2023-01-26T23:50:48.019806Z",
     "iopub.status.idle": "2023-01-26T23:50:48.043985Z",
     "shell.execute_reply": "2023-01-26T23:50:48.044671Z",
     "shell.execute_reply.started": "2023-01-26T23:18:49.908523Z"
    },
    "papermill": {
     "duration": 0.07883,
     "end_time": "2023-01-26T23:50:48.044873",
     "exception": false,
     "start_time": "2023-01-26T23:50:47.966043",
     "status": "completed"
    },
    "tags": []
   },
   "outputs": [
    {
     "data": {
      "text/plain": [
       "(230, 0.013043478260869565)"
      ]
     },
     "execution_count": 45,
     "metadata": {},
     "output_type": "execute_result"
    }
   ],
   "source": [
    "history_basket_performance(transactions_test.head(1000), bs_model)"
   ]
  },
  {
   "cell_type": "code",
   "execution_count": 46,
   "id": "6ae99530",
   "metadata": {
    "execution": {
     "iopub.execute_input": "2023-01-26T23:50:48.149561Z",
     "iopub.status.busy": "2023-01-26T23:50:48.148532Z",
     "iopub.status.idle": "2023-01-26T23:51:00.409406Z",
     "shell.execute_reply": "2023-01-26T23:51:00.409945Z",
     "shell.execute_reply.started": "2023-01-26T23:20:44.988042Z"
    },
    "papermill": {
     "duration": 12.315175,
     "end_time": "2023-01-26T23:51:00.410149",
     "exception": false,
     "start_time": "2023-01-26T23:50:48.094974",
     "status": "completed"
    },
    "tags": []
   },
   "outputs": [
    {
     "data": {
      "text/plain": [
       "(230, 0.008695652173913044)"
      ]
     },
     "execution_count": 46,
     "metadata": {},
     "output_type": "execute_result"
    }
   ],
   "source": [
    "history_basket_performance(transactions_test.head(1000), cs_model)"
   ]
  },
  {
   "cell_type": "code",
   "execution_count": 47,
   "id": "333d34e8",
   "metadata": {
    "execution": {
     "iopub.execute_input": "2023-01-26T23:51:00.516748Z",
     "iopub.status.busy": "2023-01-26T23:51:00.516035Z",
     "iopub.status.idle": "2023-01-26T23:51:00.519066Z",
     "shell.execute_reply": "2023-01-26T23:51:00.519560Z",
     "shell.execute_reply.started": "2023-01-26T22:06:48.600132Z"
    },
    "papermill": {
     "duration": 0.059142,
     "end_time": "2023-01-26T23:51:00.519756",
     "exception": false,
     "start_time": "2023-01-26T23:51:00.460614",
     "status": "completed"
    },
    "tags": []
   },
   "outputs": [],
   "source": [
    "# (205, 0.24878048780487805)"
   ]
  },
  {
   "cell_type": "markdown",
   "id": "944ffc44",
   "metadata": {
    "papermill": {
     "duration": 0.050567,
     "end_time": "2023-01-26T23:51:00.621274",
     "exception": false,
     "start_time": "2023-01-26T23:51:00.570707",
     "status": "completed"
    },
    "tags": []
   },
   "source": [
    "# Evaluating top_n in cosine_sim"
   ]
  },
  {
   "cell_type": "code",
   "execution_count": 48,
   "id": "4cf5c18e",
   "metadata": {
    "execution": {
     "iopub.execute_input": "2023-01-26T23:51:01.429828Z",
     "iopub.status.busy": "2023-01-26T23:51:01.302795Z",
     "iopub.status.idle": "2023-01-27T00:03:21.385417Z",
     "shell.execute_reply": "2023-01-27T00:03:21.386031Z",
     "shell.execute_reply.started": "2023-01-26T23:39:30.165579Z"
    },
    "papermill": {
     "duration": 740.712826,
     "end_time": "2023-01-27T00:03:21.386359",
     "exception": false,
     "start_time": "2023-01-26T23:51:00.673533",
     "status": "completed"
    },
    "tags": []
   },
   "outputs": [
    {
     "name": "stdout",
     "output_type": "stream",
     "text": [
      "##\n",
      "100\n",
      "--- 0.7647871971130371 seconds ---\n",
      "--- 3.1815080642700195 seconds ---\n",
      "--- 0.08456087112426758 seconds ---\n",
      "--- 0.1095585823059082 seconds ---\n",
      "--- 0.04541444778442383 seconds ---\n",
      "--- 0.029908418655395508 seconds ---\n",
      "--- 0.03001117706298828 seconds ---\n",
      "--- 1.0272889137268066 seconds ---\n",
      "--- 1.3034694194793701 seconds ---\n",
      "(688, 0.0014534883720930232)\n",
      "##\n",
      "200\n",
      "--- 0.7754383087158203 seconds ---\n",
      "--- 4.830423355102539 seconds ---\n",
      "--- 0.13247013092041016 seconds ---\n",
      "--- 0.21712613105773926 seconds ---\n",
      "--- 0.09256649017333984 seconds ---\n",
      "--- 0.06499409675598145 seconds ---\n",
      "--- 0.06643199920654297 seconds ---\n",
      "--- 2.487480878829956 seconds ---\n",
      "--- 3.2195122241973877 seconds ---\n",
      "(688, 0.0029069767441860465)\n",
      "##\n",
      "300\n",
      "--- 0.8346798419952393 seconds ---\n",
      "--- 5.858685493469238 seconds ---\n",
      "--- 0.17198920249938965 seconds ---\n",
      "--- 0.3374447822570801 seconds ---\n",
      "--- 0.1567978858947754 seconds ---\n",
      "--- 0.11176729202270508 seconds ---\n",
      "--- 0.10354781150817871 seconds ---\n",
      "--- 4.1551313400268555 seconds ---\n",
      "--- 5.28213095664978 seconds ---\n",
      "(688, 0.01308139534883721)\n",
      "##\n",
      "400\n",
      "--- 0.8373773097991943 seconds ---\n",
      "--- 7.111227512359619 seconds ---\n",
      "--- 0.20859718322753906 seconds ---\n",
      "--- 0.44815683364868164 seconds ---\n",
      "--- 0.23717594146728516 seconds ---\n",
      "--- 0.14969778060913086 seconds ---\n",
      "--- 0.1429131031036377 seconds ---\n",
      "--- 5.565032958984375 seconds ---\n",
      "--- 7.214568138122559 seconds ---\n",
      "(688, 0.00872093023255814)\n",
      "##\n",
      "500\n",
      "--- 0.8979010581970215 seconds ---\n",
      "--- 7.6730499267578125 seconds ---\n",
      "--- 0.2290022373199463 seconds ---\n",
      "--- 0.54876708984375 seconds ---\n",
      "--- 0.2819340229034424 seconds ---\n",
      "--- 0.19314169883728027 seconds ---\n",
      "--- 0.2010641098022461 seconds ---\n",
      "--- 7.109001159667969 seconds ---\n",
      "--- 9.063144207000732 seconds ---\n",
      "(688, 0.011627906976744186)\n",
      "##\n",
      "600\n",
      "--- 0.8540170192718506 seconds ---\n",
      "--- 8.49394154548645 seconds ---\n",
      "--- 0.25516176223754883 seconds ---\n",
      "--- 0.66400146484375 seconds ---\n",
      "--- 0.375593900680542 seconds ---\n",
      "--- 0.23694491386413574 seconds ---\n",
      "--- 0.22547149658203125 seconds ---\n",
      "--- 8.890105247497559 seconds ---\n",
      "--- 11.288664102554321 seconds ---\n",
      "(688, 0.020348837209302327)\n",
      "##\n",
      "700\n",
      "--- 0.9227066040039062 seconds ---\n",
      "--- 8.806896924972534 seconds ---\n",
      "--- 0.2780575752258301 seconds ---\n",
      "--- 0.7709028720855713 seconds ---\n",
      "--- 0.42378735542297363 seconds ---\n",
      "--- 0.2936527729034424 seconds ---\n",
      "--- 0.2817707061767578 seconds ---\n",
      "--- 10.806578636169434 seconds ---\n",
      "--- 13.77934741973877 seconds ---\n",
      "(688, 0.02180232558139535)\n",
      "##\n",
      "800\n",
      "--- 1.1068191528320312 seconds ---\n",
      "--- 9.66551423072815 seconds ---\n",
      "--- 0.2963991165161133 seconds ---\n",
      "--- 0.8966124057769775 seconds ---\n",
      "--- 0.49623799324035645 seconds ---\n",
      "--- 0.3362388610839844 seconds ---\n",
      "--- 0.3188004493713379 seconds ---\n",
      "--- 12.222956418991089 seconds ---\n",
      "--- 15.813550233840942 seconds ---\n",
      "(688, 0.027616279069767442)\n",
      "##\n",
      "900\n",
      "--- 0.8825314044952393 seconds ---\n",
      "--- 9.962709426879883 seconds ---\n",
      "--- 0.319385290145874 seconds ---\n",
      "--- 1.0044760704040527 seconds ---\n",
      "--- 0.5579574108123779 seconds ---\n",
      "--- 0.37518811225891113 seconds ---\n",
      "--- 0.3650350570678711 seconds ---\n",
      "--- 14.141324520111084 seconds ---\n",
      "--- 17.98561191558838 seconds ---\n",
      "(688, 0.020348837209302327)\n",
      "##\n",
      "1000\n",
      "--- 0.8903584480285645 seconds ---\n",
      "--- 10.440613985061646 seconds ---\n",
      "--- 0.3312058448791504 seconds ---\n",
      "--- 1.0958943367004395 seconds ---\n",
      "--- 0.6335158348083496 seconds ---\n",
      "--- 0.4253373146057129 seconds ---\n",
      "--- 0.4096529483795166 seconds ---\n",
      "--- 15.48274564743042 seconds ---\n",
      "--- 19.833733558654785 seconds ---\n",
      "(688, 0.014534883720930232)\n"
     ]
    }
   ],
   "source": [
    "# [100, 200, 300, 400, 500, 600, 700, 800, 900, 1000]\n",
    "l_top_n = [100, 200, 300, 400, 500, 600, 700, 800, 900, 1000]\n",
    "l_perf = []\n",
    "for top_n in l_top_n:\n",
    "    print(\"##\")\n",
    "    print(top_n)\n",
    "    cs_model = CosineSim().fit(transactions_train, top_n)\n",
    "    perf = history_basket_performance(transactions_test.head(3000), cs_model)\n",
    "    l_perf.append(perf[1])\n",
    "    print(perf)"
   ]
  },
  {
   "cell_type": "code",
   "execution_count": 49,
   "id": "96075ab5",
   "metadata": {
    "execution": {
     "iopub.execute_input": "2023-01-27T00:03:21.562260Z",
     "iopub.status.busy": "2023-01-27T00:03:21.556075Z",
     "iopub.status.idle": "2023-01-27T00:03:21.745999Z",
     "shell.execute_reply": "2023-01-27T00:03:21.745403Z",
     "shell.execute_reply.started": "2023-01-26T23:41:39.764103Z"
    },
    "papermill": {
     "duration": 0.284466,
     "end_time": "2023-01-27T00:03:21.746178",
     "exception": false,
     "start_time": "2023-01-27T00:03:21.461712",
     "status": "completed"
    },
    "tags": []
   },
   "outputs": [
    {
     "data": {
      "image/png": "[encoded data removed]",
      "text/plain": [
       "<Figure size 432x288 with 1 Axes>"
      ]
     },
     "metadata": {
      "needs_background": "light"
     },
     "output_type": "display_data"
    }
   ],
   "source": [
    "_ = plt.plot(l_top_n, l_perf)\n",
    "_ = plt.xticks(rotation=90)"
   ]
  },
  {
   "cell_type": "code",
   "execution_count": null,
   "id": "29f9f13f",
   "metadata": {
    "papermill": {
     "duration": 0.075299,
     "end_time": "2023-01-27T00:03:21.897663",
     "exception": false,
     "start_time": "2023-01-27T00:03:21.822364",
     "status": "completed"
    },
    "tags": []
   },
   "outputs": [],
   "source": []
  }
 ],
 "metadata": {
  "kernelspec": {
   "display_name": "Python 3",
   "language": "python",
   "name": "python3"
  },
  "language_info": {
   "codemirror_mode": {
    "name": "ipython",
    "version": 3
   },
   "file_extension": ".py",
   "mimetype": "text/x-python",
   "name": "python",
   "nbconvert_exporter": "python",
   "pygments_lexer": "ipython3",
   "version": "3.7.12"
  },
  "papermill": {
   "default_parameters": {},
   "duration": 975.311979,
   "end_time": "2023-01-27T00:03:24.895079",
   "environment_variables": {},
   "exception": null,
   "input_path": "__notebook__.ipynb",
   "output_path": "__notebook__.ipynb",
   "parameters": {},
   "start_time": "2023-01-26T23:47:09.583100",
   "version": "2.3.3"
  }
 },
 "nbformat": 4,
 "nbformat_minor": 5
}
