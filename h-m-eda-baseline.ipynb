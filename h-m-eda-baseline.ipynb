{
 "cells": [
  {
   "cell_type": "code",
   "execution_count": 1,
   "id": "e144f28e",
   "metadata": {
    "execution": {
     "iopub.execute_input": "2023-01-30T22:18:52.337681Z",
     "iopub.status.busy": "2023-01-30T22:18:52.336748Z",
     "iopub.status.idle": "2023-01-30T22:20:21.650467Z",
     "shell.execute_reply": "2023-01-30T22:20:21.649810Z",
     "shell.execute_reply.started": "2023-01-30T21:15:56.420593Z"
    },
    "papermill": {
     "duration": 89.369718,
     "end_time": "2023-01-30T22:20:21.650629",
     "exception": false,
     "start_time": "2023-01-30T22:18:52.280911",
     "status": "completed"
    },
    "tags": []
   },
   "outputs": [],
   "source": [
    "import random\n",
    "import time\n",
    "import numpy as np\n",
    "import pandas as pd\n",
    "import matplotlib.pyplot as plt\n",
    "\n",
    "from matplotlib.pyplot import figure\n",
    "from collections import Counter\n",
    "\n",
    "transactions = pd.read_csv('/kaggle/input/h-and-m-personalized-fashion-recommendations/transactions_train.csv')\n",
    "sample_submission = pd.read_csv('/kaggle/input/h-and-m-personalized-fashion-recommendations/sample_submission.csv')\n",
    "# /kaggle/input/h-and-m-personalized-fashion-recommendations/sample_submission.csv\n",
    "# /kaggle/input/h-and-m-personalized-fashion-recommendations/articles.csv\n",
    "# /kaggle/input/h-and-m-personalized-fashion-recommendations/transactions_train.csv\n",
    "# /kaggle/input/h-and-m-personalized-fashion-recommendations/customers.csv\n",
    "\n",
    "plt.rcParams[\"figure.figsize\"] = (15,5)"
   ]
  },
  {
   "cell_type": "code",
   "execution_count": 2,
   "id": "30f6cc6f",
   "metadata": {
    "execution": {
     "iopub.execute_input": "2023-01-30T22:20:21.772465Z",
     "iopub.status.busy": "2023-01-30T22:20:21.771777Z",
     "iopub.status.idle": "2023-01-30T22:20:21.784521Z",
     "shell.execute_reply": "2023-01-30T22:20:21.783973Z",
     "shell.execute_reply.started": "2023-01-30T21:17:36.494847Z"
    },
    "papermill": {
     "duration": 0.07584,
     "end_time": "2023-01-30T22:20:21.784640",
     "exception": false,
     "start_time": "2023-01-30T22:20:21.708800",
     "status": "completed"
    },
    "tags": []
   },
   "outputs": [
    {
     "data": {
      "text/html": [
       "<div>\n",
       "<style scoped>\n",
       "    .dataframe tbody tr th:only-of-type {\n",
       "        vertical-align: middle;\n",
       "    }\n",
       "\n",
       "    .dataframe tbody tr th {\n",
       "        vertical-align: top;\n",
       "    }\n",
       "\n",
       "    .dataframe thead th {\n",
       "        text-align: right;\n",
       "    }\n",
       "</style>\n",
       "<table border=\"1\" class=\"dataframe\">\n",
       "  <thead>\n",
       "    <tr style=\"text-align: right;\">\n",
       "      <th></th>\n",
       "      <th>t_dat</th>\n",
       "      <th>customer_id</th>\n",
       "      <th>article_id</th>\n",
       "      <th>price</th>\n",
       "      <th>sales_channel_id</th>\n",
       "    </tr>\n",
       "  </thead>\n",
       "  <tbody>\n",
       "    <tr>\n",
       "      <th>0</th>\n",
       "      <td>2018-09-20</td>\n",
       "      <td>000058a12d5b43e67d225668fa1f8d618c13dc232df0ca...</td>\n",
       "      <td>663713001</td>\n",
       "      <td>0.050831</td>\n",
       "      <td>2</td>\n",
       "    </tr>\n",
       "    <tr>\n",
       "      <th>1</th>\n",
       "      <td>2018-09-20</td>\n",
       "      <td>000058a12d5b43e67d225668fa1f8d618c13dc232df0ca...</td>\n",
       "      <td>541518023</td>\n",
       "      <td>0.030492</td>\n",
       "      <td>2</td>\n",
       "    </tr>\n",
       "    <tr>\n",
       "      <th>2</th>\n",
       "      <td>2018-09-20</td>\n",
       "      <td>00007d2de826758b65a93dd24ce629ed66842531df6699...</td>\n",
       "      <td>505221004</td>\n",
       "      <td>0.015237</td>\n",
       "      <td>2</td>\n",
       "    </tr>\n",
       "    <tr>\n",
       "      <th>3</th>\n",
       "      <td>2018-09-20</td>\n",
       "      <td>00007d2de826758b65a93dd24ce629ed66842531df6699...</td>\n",
       "      <td>685687003</td>\n",
       "      <td>0.016932</td>\n",
       "      <td>2</td>\n",
       "    </tr>\n",
       "    <tr>\n",
       "      <th>4</th>\n",
       "      <td>2018-09-20</td>\n",
       "      <td>00007d2de826758b65a93dd24ce629ed66842531df6699...</td>\n",
       "      <td>685687004</td>\n",
       "      <td>0.016932</td>\n",
       "      <td>2</td>\n",
       "    </tr>\n",
       "  </tbody>\n",
       "</table>\n",
       "</div>"
      ],
      "text/plain": [
       "        t_dat                                        customer_id  article_id  \\\n",
       "0  2018-09-20  000058a12d5b43e67d225668fa1f8d618c13dc232df0ca...   663713001   \n",
       "1  2018-09-20  000058a12d5b43e67d225668fa1f8d618c13dc232df0ca...   541518023   \n",
       "2  2018-09-20  00007d2de826758b65a93dd24ce629ed66842531df6699...   505221004   \n",
       "3  2018-09-20  00007d2de826758b65a93dd24ce629ed66842531df6699...   685687003   \n",
       "4  2018-09-20  00007d2de826758b65a93dd24ce629ed66842531df6699...   685687004   \n",
       "\n",
       "      price  sales_channel_id  \n",
       "0  0.050831                 2  \n",
       "1  0.030492                 2  \n",
       "2  0.015237                 2  \n",
       "3  0.016932                 2  \n",
       "4  0.016932                 2  "
      ]
     },
     "execution_count": 2,
     "metadata": {},
     "output_type": "execute_result"
    }
   ],
   "source": [
    "transactions.head()"
   ]
  },
  {
   "cell_type": "code",
   "execution_count": 3,
   "id": "6d5b8abb",
   "metadata": {
    "execution": {
     "iopub.execute_input": "2023-01-30T22:20:21.895012Z",
     "iopub.status.busy": "2023-01-30T22:20:21.894433Z",
     "iopub.status.idle": "2023-01-30T22:20:21.903151Z",
     "shell.execute_reply": "2023-01-30T22:20:21.902563Z",
     "shell.execute_reply.started": "2023-01-30T21:17:36.524324Z"
    },
    "papermill": {
     "duration": 0.065486,
     "end_time": "2023-01-30T22:20:21.903309",
     "exception": false,
     "start_time": "2023-01-30T22:20:21.837823",
     "status": "completed"
    },
    "tags": []
   },
   "outputs": [
    {
     "data": {
      "text/html": [
       "<div>\n",
       "<style scoped>\n",
       "    .dataframe tbody tr th:only-of-type {\n",
       "        vertical-align: middle;\n",
       "    }\n",
       "\n",
       "    .dataframe tbody tr th {\n",
       "        vertical-align: top;\n",
       "    }\n",
       "\n",
       "    .dataframe thead th {\n",
       "        text-align: right;\n",
       "    }\n",
       "</style>\n",
       "<table border=\"1\" class=\"dataframe\">\n",
       "  <thead>\n",
       "    <tr style=\"text-align: right;\">\n",
       "      <th></th>\n",
       "      <th>customer_id</th>\n",
       "      <th>prediction</th>\n",
       "    </tr>\n",
       "  </thead>\n",
       "  <tbody>\n",
       "    <tr>\n",
       "      <th>0</th>\n",
       "      <td>00000dbacae5abe5e23885899a1fa44253a17956c6d1c3...</td>\n",
       "      <td>0706016001 0706016002 0372860001 0610776002 07...</td>\n",
       "    </tr>\n",
       "    <tr>\n",
       "      <th>1</th>\n",
       "      <td>0000423b00ade91418cceaf3b26c6af3dd342b51fd051e...</td>\n",
       "      <td>0706016001 0706016002 0372860001 0610776002 07...</td>\n",
       "    </tr>\n",
       "    <tr>\n",
       "      <th>2</th>\n",
       "      <td>000058a12d5b43e67d225668fa1f8d618c13dc232df0ca...</td>\n",
       "      <td>0706016001 0706016002 0372860001 0610776002 07...</td>\n",
       "    </tr>\n",
       "    <tr>\n",
       "      <th>3</th>\n",
       "      <td>00005ca1c9ed5f5146b52ac8639a40ca9d57aeff4d1bd2...</td>\n",
       "      <td>0706016001 0706016002 0372860001 0610776002 07...</td>\n",
       "    </tr>\n",
       "    <tr>\n",
       "      <th>4</th>\n",
       "      <td>00006413d8573cd20ed7128e53b7b13819fe5cfc2d801f...</td>\n",
       "      <td>0706016001 0706016002 0372860001 0610776002 07...</td>\n",
       "    </tr>\n",
       "  </tbody>\n",
       "</table>\n",
       "</div>"
      ],
      "text/plain": [
       "                                         customer_id  \\\n",
       "0  00000dbacae5abe5e23885899a1fa44253a17956c6d1c3...   \n",
       "1  0000423b00ade91418cceaf3b26c6af3dd342b51fd051e...   \n",
       "2  000058a12d5b43e67d225668fa1f8d618c13dc232df0ca...   \n",
       "3  00005ca1c9ed5f5146b52ac8639a40ca9d57aeff4d1bd2...   \n",
       "4  00006413d8573cd20ed7128e53b7b13819fe5cfc2d801f...   \n",
       "\n",
       "                                          prediction  \n",
       "0  0706016001 0706016002 0372860001 0610776002 07...  \n",
       "1  0706016001 0706016002 0372860001 0610776002 07...  \n",
       "2  0706016001 0706016002 0372860001 0610776002 07...  \n",
       "3  0706016001 0706016002 0372860001 0610776002 07...  \n",
       "4  0706016001 0706016002 0372860001 0610776002 07...  "
      ]
     },
     "execution_count": 3,
     "metadata": {},
     "output_type": "execute_result"
    }
   ],
   "source": [
    "sample_submission.head()"
   ]
  },
  {
   "cell_type": "markdown",
   "id": "8228be6b",
   "metadata": {
    "papermill": {
     "duration": 0.054123,
     "end_time": "2023-01-30T22:20:22.012695",
     "exception": false,
     "start_time": "2023-01-30T22:20:21.958572",
     "status": "completed"
    },
    "tags": []
   },
   "source": [
    "# Data analysis"
   ]
  },
  {
   "cell_type": "code",
   "execution_count": 4,
   "id": "788449eb",
   "metadata": {
    "execution": {
     "iopub.execute_input": "2023-01-30T22:20:22.123915Z",
     "iopub.status.busy": "2023-01-30T22:20:22.123387Z",
     "iopub.status.idle": "2023-01-30T22:20:49.868449Z",
     "shell.execute_reply": "2023-01-30T22:20:49.867987Z",
     "shell.execute_reply.started": "2023-01-30T21:17:36.537824Z"
    },
    "papermill": {
     "duration": 27.801465,
     "end_time": "2023-01-30T22:20:49.868572",
     "exception": false,
     "start_time": "2023-01-30T22:20:22.067107",
     "status": "completed"
    },
    "tags": []
   },
   "outputs": [
    {
     "data": {
      "image/png": "[encoded data removed]",
      "text/plain": [
       "<Figure size 1080x360 with 1 Axes>"
      ]
     },
     "metadata": {
      "needs_background": "light"
     },
     "output_type": "display_data"
    }
   ],
   "source": [
    "# Sold products over the years\n",
    "df = transactions\n",
    "df['year_month'] = df['t_dat'].apply(lambda x : x.split('-')[0]+'-'+x.split('-')[1])\n",
    "df = df.groupby(['year_month']).count().reset_index()\n",
    "_ = plt.plot(df['year_month'], df['t_dat'])\n",
    "_ = plt.xticks(rotation=90)"
   ]
  },
  {
   "cell_type": "code",
   "execution_count": 5,
   "id": "b0525a7d",
   "metadata": {
    "execution": {
     "iopub.execute_input": "2023-01-30T22:20:50.261088Z",
     "iopub.status.busy": "2023-01-30T22:20:50.260446Z",
     "iopub.status.idle": "2023-01-30T22:21:12.405583Z",
     "shell.execute_reply": "2023-01-30T22:21:12.406166Z",
     "shell.execute_reply.started": "2023-01-30T21:18:13.416053Z"
    },
    "papermill": {
     "duration": 22.482579,
     "end_time": "2023-01-30T22:21:12.406339",
     "exception": false,
     "start_time": "2023-01-30T22:20:49.923760",
     "status": "completed"
    },
    "tags": []
   },
   "outputs": [
    {
     "data": {
      "image/png": "[encoded data removed]",
      "text/plain": [
       "<Figure size 1080x360 with 1 Axes>"
      ]
     },
     "metadata": {
      "needs_background": "light"
     },
     "output_type": "display_data"
    }
   ],
   "source": [
    "# Sold product each month\n",
    "df = transactions\n",
    "df['month'] = df['t_dat'].apply(lambda x : x.split('-')[1])\n",
    "df = df.groupby(['month']).count().reset_index()\n",
    "_ = plt.bar(df['month'], df['t_dat'], align='center')"
   ]
  },
  {
   "cell_type": "code",
   "execution_count": 6,
   "id": "e8ac79f4",
   "metadata": {
    "execution": {
     "iopub.execute_input": "2023-01-30T22:21:12.521117Z",
     "iopub.status.busy": "2023-01-30T22:21:12.520393Z",
     "iopub.status.idle": "2023-01-30T22:24:01.702653Z",
     "shell.execute_reply": "2023-01-30T22:24:01.703120Z",
     "shell.execute_reply.started": "2023-01-30T21:18:58.409142Z"
    },
    "papermill": {
     "duration": 169.240958,
     "end_time": "2023-01-30T22:24:01.703291",
     "exception": false,
     "start_time": "2023-01-30T22:21:12.462333",
     "status": "completed"
    },
    "tags": []
   },
   "outputs": [
    {
     "name": "stdout",
     "output_type": "stream",
     "text": [
      "       article_id  customer_id\n",
      "53832   706016001        50287\n",
      "53833   706016002        35043\n",
      "1711    372860001        31718\n",
      "24808   610776002        30199\n",
      "70124   759871002        26329\n",
      "...           ...          ...\n",
      "8205    521266001            1\n",
      "36666   651538001            1\n",
      "8211    521302001            1\n",
      "36710   651645003            1\n",
      "13340   557727001            1\n",
      "\n",
      "[104547 rows x 2 columns]\n"
     ]
    },
    {
     "data": {
      "image/png": "[encoded data removed]",
      "text/plain": [
       "<Figure size 1080x360 with 1 Axes>"
      ]
     },
     "metadata": {
      "needs_background": "light"
     },
     "output_type": "display_data"
    }
   ],
   "source": [
    "# Top products\n",
    "df = transactions.groupby(['article_id']).count().reset_index()[[\"article_id\", \"customer_id\"]].sort_values([\"customer_id\"], ascending=False)\n",
    "print(df)\n",
    "_ = plt.bar(df['article_id'], df['customer_id'], align='center')"
   ]
  },
  {
   "cell_type": "code",
   "execution_count": 7,
   "id": "b663dd6e",
   "metadata": {
    "execution": {
     "iopub.execute_input": "2023-01-30T22:24:01.836754Z",
     "iopub.status.busy": "2023-01-30T22:24:01.836075Z",
     "iopub.status.idle": "2023-01-30T22:24:01.975231Z",
     "shell.execute_reply": "2023-01-30T22:24:01.975659Z",
     "shell.execute_reply.started": "2023-01-30T21:22:32.400821Z"
    },
    "papermill": {
     "duration": 0.216475,
     "end_time": "2023-01-30T22:24:01.975820",
     "exception": false,
     "start_time": "2023-01-30T22:24:01.759345",
     "status": "completed"
    },
    "tags": []
   },
   "outputs": [
    {
     "data": {
      "image/png": "[encoded data removed]",
      "text/plain": [
       "<Figure size 1080x360 with 1 Axes>"
      ]
     },
     "metadata": {
      "needs_background": "light"
     },
     "output_type": "display_data"
    }
   ],
   "source": [
    "_ = plt.boxplot(df['customer_id'])"
   ]
  },
  {
   "cell_type": "code",
   "execution_count": 8,
   "id": "1015b5fe",
   "metadata": {
    "execution": {
     "iopub.execute_input": "2023-01-30T22:24:02.106161Z",
     "iopub.status.busy": "2023-01-30T22:24:02.105594Z",
     "iopub.status.idle": "2023-01-30T22:24:02.107892Z",
     "shell.execute_reply": "2023-01-30T22:24:02.108360Z",
     "shell.execute_reply.started": "2023-01-30T21:22:32.578817Z"
    },
    "papermill": {
     "duration": 0.074928,
     "end_time": "2023-01-30T22:24:02.108501",
     "exception": false,
     "start_time": "2023-01-30T22:24:02.033573",
     "status": "completed"
    },
    "tags": []
   },
   "outputs": [
    {
     "data": {
      "text/html": [
       "<div>\n",
       "<style scoped>\n",
       "    .dataframe tbody tr th:only-of-type {\n",
       "        vertical-align: middle;\n",
       "    }\n",
       "\n",
       "    .dataframe tbody tr th {\n",
       "        vertical-align: top;\n",
       "    }\n",
       "\n",
       "    .dataframe thead th {\n",
       "        text-align: right;\n",
       "    }\n",
       "</style>\n",
       "<table border=\"1\" class=\"dataframe\">\n",
       "  <thead>\n",
       "    <tr style=\"text-align: right;\">\n",
       "      <th></th>\n",
       "      <th>t_dat</th>\n",
       "      <th>customer_id</th>\n",
       "      <th>article_id</th>\n",
       "      <th>price</th>\n",
       "      <th>sales_channel_id</th>\n",
       "      <th>year_month</th>\n",
       "      <th>month</th>\n",
       "    </tr>\n",
       "  </thead>\n",
       "  <tbody>\n",
       "    <tr>\n",
       "      <th>0</th>\n",
       "      <td>2018-09-20</td>\n",
       "      <td>000058a12d5b43e67d225668fa1f8d618c13dc232df0ca...</td>\n",
       "      <td>663713001</td>\n",
       "      <td>0.050831</td>\n",
       "      <td>2</td>\n",
       "      <td>2018-09</td>\n",
       "      <td>09</td>\n",
       "    </tr>\n",
       "    <tr>\n",
       "      <th>1</th>\n",
       "      <td>2018-09-20</td>\n",
       "      <td>000058a12d5b43e67d225668fa1f8d618c13dc232df0ca...</td>\n",
       "      <td>541518023</td>\n",
       "      <td>0.030492</td>\n",
       "      <td>2</td>\n",
       "      <td>2018-09</td>\n",
       "      <td>09</td>\n",
       "    </tr>\n",
       "    <tr>\n",
       "      <th>2</th>\n",
       "      <td>2018-09-20</td>\n",
       "      <td>00007d2de826758b65a93dd24ce629ed66842531df6699...</td>\n",
       "      <td>505221004</td>\n",
       "      <td>0.015237</td>\n",
       "      <td>2</td>\n",
       "      <td>2018-09</td>\n",
       "      <td>09</td>\n",
       "    </tr>\n",
       "    <tr>\n",
       "      <th>3</th>\n",
       "      <td>2018-09-20</td>\n",
       "      <td>00007d2de826758b65a93dd24ce629ed66842531df6699...</td>\n",
       "      <td>685687003</td>\n",
       "      <td>0.016932</td>\n",
       "      <td>2</td>\n",
       "      <td>2018-09</td>\n",
       "      <td>09</td>\n",
       "    </tr>\n",
       "    <tr>\n",
       "      <th>4</th>\n",
       "      <td>2018-09-20</td>\n",
       "      <td>00007d2de826758b65a93dd24ce629ed66842531df6699...</td>\n",
       "      <td>685687004</td>\n",
       "      <td>0.016932</td>\n",
       "      <td>2</td>\n",
       "      <td>2018-09</td>\n",
       "      <td>09</td>\n",
       "    </tr>\n",
       "    <tr>\n",
       "      <th>...</th>\n",
       "      <td>...</td>\n",
       "      <td>...</td>\n",
       "      <td>...</td>\n",
       "      <td>...</td>\n",
       "      <td>...</td>\n",
       "      <td>...</td>\n",
       "      <td>...</td>\n",
       "    </tr>\n",
       "    <tr>\n",
       "      <th>31788319</th>\n",
       "      <td>2020-09-22</td>\n",
       "      <td>fff2282977442e327b45d8c89afde25617d00124d0f999...</td>\n",
       "      <td>929511001</td>\n",
       "      <td>0.059305</td>\n",
       "      <td>2</td>\n",
       "      <td>2020-09</td>\n",
       "      <td>09</td>\n",
       "    </tr>\n",
       "    <tr>\n",
       "      <th>31788320</th>\n",
       "      <td>2020-09-22</td>\n",
       "      <td>fff2282977442e327b45d8c89afde25617d00124d0f999...</td>\n",
       "      <td>891322004</td>\n",
       "      <td>0.042356</td>\n",
       "      <td>2</td>\n",
       "      <td>2020-09</td>\n",
       "      <td>09</td>\n",
       "    </tr>\n",
       "    <tr>\n",
       "      <th>31788321</th>\n",
       "      <td>2020-09-22</td>\n",
       "      <td>fff380805474b287b05cb2a7507b9a013482f7dd0bce0e...</td>\n",
       "      <td>918325001</td>\n",
       "      <td>0.043203</td>\n",
       "      <td>1</td>\n",
       "      <td>2020-09</td>\n",
       "      <td>09</td>\n",
       "    </tr>\n",
       "    <tr>\n",
       "      <th>31788322</th>\n",
       "      <td>2020-09-22</td>\n",
       "      <td>fff4d3a8b1f3b60af93e78c30a7cb4cf75edaf2590d3e5...</td>\n",
       "      <td>833459002</td>\n",
       "      <td>0.006763</td>\n",
       "      <td>1</td>\n",
       "      <td>2020-09</td>\n",
       "      <td>09</td>\n",
       "    </tr>\n",
       "    <tr>\n",
       "      <th>31788323</th>\n",
       "      <td>2020-09-22</td>\n",
       "      <td>fffef3b6b73545df065b521e19f64bf6fe93bfd450ab20...</td>\n",
       "      <td>898573003</td>\n",
       "      <td>0.033881</td>\n",
       "      <td>2</td>\n",
       "      <td>2020-09</td>\n",
       "      <td>09</td>\n",
       "    </tr>\n",
       "  </tbody>\n",
       "</table>\n",
       "<p>31788324 rows × 7 columns</p>\n",
       "</div>"
      ],
      "text/plain": [
       "               t_dat                                        customer_id  \\\n",
       "0         2018-09-20  000058a12d5b43e67d225668fa1f8d618c13dc232df0ca...   \n",
       "1         2018-09-20  000058a12d5b43e67d225668fa1f8d618c13dc232df0ca...   \n",
       "2         2018-09-20  00007d2de826758b65a93dd24ce629ed66842531df6699...   \n",
       "3         2018-09-20  00007d2de826758b65a93dd24ce629ed66842531df6699...   \n",
       "4         2018-09-20  00007d2de826758b65a93dd24ce629ed66842531df6699...   \n",
       "...              ...                                                ...   \n",
       "31788319  2020-09-22  fff2282977442e327b45d8c89afde25617d00124d0f999...   \n",
       "31788320  2020-09-22  fff2282977442e327b45d8c89afde25617d00124d0f999...   \n",
       "31788321  2020-09-22  fff380805474b287b05cb2a7507b9a013482f7dd0bce0e...   \n",
       "31788322  2020-09-22  fff4d3a8b1f3b60af93e78c30a7cb4cf75edaf2590d3e5...   \n",
       "31788323  2020-09-22  fffef3b6b73545df065b521e19f64bf6fe93bfd450ab20...   \n",
       "\n",
       "          article_id     price  sales_channel_id year_month month  \n",
       "0          663713001  0.050831                 2    2018-09    09  \n",
       "1          541518023  0.030492                 2    2018-09    09  \n",
       "2          505221004  0.015237                 2    2018-09    09  \n",
       "3          685687003  0.016932                 2    2018-09    09  \n",
       "4          685687004  0.016932                 2    2018-09    09  \n",
       "...              ...       ...               ...        ...   ...  \n",
       "31788319   929511001  0.059305                 2    2020-09    09  \n",
       "31788320   891322004  0.042356                 2    2020-09    09  \n",
       "31788321   918325001  0.043203                 1    2020-09    09  \n",
       "31788322   833459002  0.006763                 1    2020-09    09  \n",
       "31788323   898573003  0.033881                 2    2020-09    09  \n",
       "\n",
       "[31788324 rows x 7 columns]"
      ]
     },
     "execution_count": 8,
     "metadata": {},
     "output_type": "execute_result"
    }
   ],
   "source": [
    "transactions"
   ]
  },
  {
   "cell_type": "code",
   "execution_count": 9,
   "id": "e43e51c6",
   "metadata": {
    "execution": {
     "iopub.execute_input": "2023-01-30T22:24:02.226777Z",
     "iopub.status.busy": "2023-01-30T22:24:02.226288Z",
     "iopub.status.idle": "2023-01-30T22:27:42.802450Z",
     "shell.execute_reply": "2023-01-30T22:27:42.802926Z",
     "shell.execute_reply.started": "2023-01-30T21:22:32.601496Z"
    },
    "papermill": {
     "duration": 220.636604,
     "end_time": "2023-01-30T22:27:42.803165",
     "exception": false,
     "start_time": "2023-01-30T22:24:02.166561",
     "status": "completed"
    },
    "tags": []
   },
   "outputs": [
    {
     "data": {
      "image/png": "[encoded data removed]",
      "text/plain": [
       "<Figure size 1080x360 with 1 Axes>"
      ]
     },
     "metadata": {
      "needs_background": "light"
     },
     "output_type": "display_data"
    }
   ],
   "source": [
    "# Number of products by basket (considering one day = one basket as we do not have order_id)\n",
    "transactions_gb = transactions.groupby(['t_dat', 'customer_id'])['article_id'].apply(list).reset_index()  \n",
    "transactions_gb[\"len_basket\"] = transactions_gb[\"article_id\"].apply(lambda x: len(x))\n",
    "transactions_gb = transactions_gb.sort_values([\"len_basket\"])\n",
    "\n",
    "# Taking off outliers\n",
    "transactions_gb_t = transactions_gb[:len(transactions_gb['len_basket'])-2000]\n",
    "\n",
    "# Plot\n",
    "_ = plt.hist(transactions_gb_t['len_basket'], density=True, bins=range(max(list(set(transactions_gb_t['len_basket'])))), rwidth=0.8)\n",
    "_ = plt.xticks(list(set(transactions_gb_t['len_basket'])))"
   ]
  },
  {
   "cell_type": "markdown",
   "id": "956463cd",
   "metadata": {
    "papermill": {
     "duration": 0.05816,
     "end_time": "2023-01-30T22:27:42.918314",
     "exception": false,
     "start_time": "2023-01-30T22:27:42.860154",
     "status": "completed"
    },
    "tags": []
   },
   "source": [
    "# Cleaning + create train and test dataset"
   ]
  },
  {
   "cell_type": "code",
   "execution_count": 10,
   "id": "6967f990",
   "metadata": {
    "execution": {
     "iopub.execute_input": "2023-01-30T22:27:44.242879Z",
     "iopub.status.busy": "2023-01-30T22:27:44.241760Z",
     "iopub.status.idle": "2023-01-30T22:27:44.701226Z",
     "shell.execute_reply": "2023-01-30T22:27:44.700750Z",
     "shell.execute_reply.started": "2023-01-30T21:27:23.601923Z"
    },
    "papermill": {
     "duration": 1.724504,
     "end_time": "2023-01-30T22:27:44.701373",
     "exception": false,
     "start_time": "2023-01-30T22:27:42.976869",
     "status": "completed"
    },
    "tags": []
   },
   "outputs": [],
   "source": [
    "# Truncate transactions since the data is too large for Kaggle cluster\n",
    "transactions = transactions[transactions[\"t_dat\"]>='2020-07-01']"
   ]
  },
  {
   "cell_type": "code",
   "execution_count": 11,
   "id": "72e08fbe",
   "metadata": {
    "execution": {
     "iopub.execute_input": "2023-01-30T22:27:44.824106Z",
     "iopub.status.busy": "2023-01-30T22:27:44.823203Z",
     "iopub.status.idle": "2023-01-30T22:27:46.924750Z",
     "shell.execute_reply": "2023-01-30T22:27:46.925362Z",
     "shell.execute_reply.started": "2023-01-30T21:27:25.805247Z"
    },
    "papermill": {
     "duration": 2.164303,
     "end_time": "2023-01-30T22:27:46.925755",
     "exception": false,
     "start_time": "2023-01-30T22:27:44.761452",
     "status": "completed"
    },
    "tags": []
   },
   "outputs": [
    {
     "name": "stderr",
     "output_type": "stream",
     "text": [
      "/opt/conda/lib/python3.7/site-packages/ipykernel_launcher.py:2: SettingWithCopyWarning: \n",
      "A value is trying to be set on a copy of a slice from a DataFrame.\n",
      "Try using .loc[row_indexer,col_indexer] = value instead\n",
      "\n",
      "See the caveats in the documentation: https://pandas.pydata.org/pandas-docs/stable/user_guide/indexing.html#returning-a-view-versus-a-copy\n",
      "  \n"
     ]
    }
   ],
   "source": [
    "# Considering each article_id as str\n",
    "transactions['article_id'] = transactions['article_id'].astype(str)"
   ]
  },
  {
   "cell_type": "code",
   "execution_count": 12,
   "id": "f02cbb6b",
   "metadata": {
    "execution": {
     "iopub.execute_input": "2023-01-30T22:27:47.056001Z",
     "iopub.status.busy": "2023-01-30T22:27:47.054817Z",
     "iopub.status.idle": "2023-01-30T22:27:51.802679Z",
     "shell.execute_reply": "2023-01-30T22:27:51.802133Z",
     "shell.execute_reply.started": "2023-01-30T21:27:28.032645Z"
    },
    "papermill": {
     "duration": 4.812017,
     "end_time": "2023-01-30T22:27:51.802830",
     "exception": false,
     "start_time": "2023-01-30T22:27:46.990813",
     "status": "completed"
    },
    "tags": []
   },
   "outputs": [
    {
     "name": "stdout",
     "output_type": "stream",
     "text": [
      "Train set size : 2370874\n",
      "Test set size : 1016089\n"
     ]
    }
   ],
   "source": [
    "# Splitting train and test as 30%\n",
    "test_set = 0.3\n",
    "train_set = (1-test_set)\n",
    "split = int(transactions.shape[0]*train_set)\n",
    "\n",
    "transactions_train = transactions.sort_values('t_dat').iloc[:split]\n",
    "transactions_test = transactions.sort_values('t_dat').iloc[split:]\n",
    "print(\"Train set size :\", transactions_train.shape[0])\n",
    "print(\"Test set size :\", transactions_test.shape[0])"
   ]
  },
  {
   "cell_type": "markdown",
   "id": "eb5ebea9",
   "metadata": {
    "papermill": {
     "duration": 0.057955,
     "end_time": "2023-01-30T22:27:51.920174",
     "exception": false,
     "start_time": "2023-01-30T22:27:51.862219",
     "status": "completed"
    },
    "tags": []
   },
   "source": [
    "# Baseline : Best sellers recommender\n",
    "\n",
    "Our Baseline will be the well known best sellers."
   ]
  },
  {
   "cell_type": "code",
   "execution_count": 13,
   "id": "df3bc5a4",
   "metadata": {
    "execution": {
     "iopub.execute_input": "2023-01-30T22:27:52.039412Z",
     "iopub.status.busy": "2023-01-30T22:27:52.038732Z",
     "iopub.status.idle": "2023-01-30T22:27:52.045978Z",
     "shell.execute_reply": "2023-01-30T22:27:52.046521Z",
     "shell.execute_reply.started": "2023-01-30T21:27:33.563735Z"
    },
    "papermill": {
     "duration": 0.068139,
     "end_time": "2023-01-30T22:27:52.046704",
     "exception": false,
     "start_time": "2023-01-30T22:27:51.978565",
     "status": "completed"
    },
    "tags": []
   },
   "outputs": [],
   "source": [
    "class BestSeller():\n",
    "    \"\"\"FIXME\"\"\"\n",
    "    def __init__(self):\n",
    "        \"\"\"FIXME\"\"\"\n",
    "        pass\n",
    "    \n",
    "    def fit(self, X):\n",
    "        \"\"\"FIXME\"\"\"\n",
    "        self.X_occur = Counter(list(X['article_id']))\n",
    "        self.best_sellers_10 = [article_id for (article_id, occ) in self.X_occur.most_common(10)]\n",
    "        return self\n",
    "    \n",
    "    def predict(self, basket, k=10):\n",
    "        \"\"\"FIXME\"\"\"\n",
    "        if k==10:\n",
    "            return self.best_sellers_10\n",
    "        else:\n",
    "            best_sellers = [article_id for (article_id, occ) in self.X_occur.most_common(k)]\n",
    "            return best_sellers"
   ]
  },
  {
   "cell_type": "code",
   "execution_count": 14,
   "id": "0cac7e57",
   "metadata": {
    "execution": {
     "iopub.execute_input": "2023-01-30T22:27:52.850966Z",
     "iopub.status.busy": "2023-01-30T22:27:52.845463Z",
     "iopub.status.idle": "2023-01-30T22:27:52.861959Z",
     "shell.execute_reply": "2023-01-30T22:27:52.861358Z",
     "shell.execute_reply.started": "2023-01-30T21:27:33.582884Z"
    },
    "papermill": {
     "duration": 0.757114,
     "end_time": "2023-01-30T22:27:52.862101",
     "exception": false,
     "start_time": "2023-01-30T22:27:52.104987",
     "status": "completed"
    },
    "tags": []
   },
   "outputs": [
    {
     "data": {
      "text/plain": [
       "<__main__.BestSeller at 0x7f17121dae90>"
      ]
     },
     "execution_count": 14,
     "metadata": {},
     "output_type": "execute_result"
    }
   ],
   "source": [
    "bs_model = BestSeller()\n",
    "bs_model.fit(transactions_train)"
   ]
  },
  {
   "cell_type": "code",
   "execution_count": 15,
   "id": "e5bbdf52",
   "metadata": {
    "execution": {
     "iopub.execute_input": "2023-01-30T22:27:52.984016Z",
     "iopub.status.busy": "2023-01-30T22:27:52.983210Z",
     "iopub.status.idle": "2023-01-30T22:27:52.986990Z",
     "shell.execute_reply": "2023-01-30T22:27:52.987541Z",
     "shell.execute_reply.started": "2023-01-30T21:27:34.589932Z"
    },
    "papermill": {
     "duration": 0.066421,
     "end_time": "2023-01-30T22:27:52.987700",
     "exception": false,
     "start_time": "2023-01-30T22:27:52.921279",
     "status": "completed"
    },
    "tags": []
   },
   "outputs": [
    {
     "data": {
      "text/plain": [
       "['706016001',\n",
       " '372860002',\n",
       " '610776002',\n",
       " '751471001',\n",
       " '730683050',\n",
       " '760084003',\n",
       " '759871002',\n",
       " '866383006',\n",
       " '464297007',\n",
       " '610776001']"
      ]
     },
     "execution_count": 15,
     "metadata": {},
     "output_type": "execute_result"
    }
   ],
   "source": [
    "bs_model.predict([])"
   ]
  },
  {
   "cell_type": "markdown",
   "id": "17a04519",
   "metadata": {
    "papermill": {
     "duration": 0.058037,
     "end_time": "2023-01-30T22:27:53.103837",
     "exception": false,
     "start_time": "2023-01-30T22:27:53.045800",
     "status": "completed"
    },
    "tags": []
   },
   "source": [
    "# Cosine Similarity\n",
    "\n",
    "Cosine similarity is a measure of similarity that can be used to get the similarity of two objects. It uses the cosine value between two vectors to compute the similarity of two data points. As the distances between the vectors increases, the similiraty reduces."
   ]
  },
  {
   "cell_type": "code",
   "execution_count": 16,
   "id": "0d5b3add",
   "metadata": {
    "execution": {
     "iopub.execute_input": "2023-01-30T22:27:53.247311Z",
     "iopub.status.busy": "2023-01-30T22:27:53.231014Z",
     "iopub.status.idle": "2023-01-30T22:27:53.250866Z",
     "shell.execute_reply": "2023-01-30T22:27:53.250400Z",
     "shell.execute_reply.started": "2023-01-30T21:27:34.602487Z"
    },
    "papermill": {
     "duration": 0.087631,
     "end_time": "2023-01-30T22:27:53.250999",
     "exception": false,
     "start_time": "2023-01-30T22:27:53.163368",
     "status": "completed"
    },
    "tags": []
   },
   "outputs": [],
   "source": [
    "from math import sqrt\n",
    "\n",
    "class CosineSim():\n",
    "    \"\"\"FIXME\"\"\"\n",
    "    def __init__(self):\n",
    "        \"\"\"FIXME\"\"\"\n",
    "        pass\n",
    "    \n",
    "    def _get_l_of_two_from_l(self, l):\n",
    "        \"\"\"FIXME\"\"\"\n",
    "        # Dropping duplicates to avoid having more co-occur than occur\n",
    "        l = list(set(l))\n",
    "        if len(l)>1:\n",
    "            l_of_two = []\n",
    "            for i in range(0,len(l)):\n",
    "                for j in range(i+1,len(l)):\n",
    "                    if int(l[i])<int(l[j]):\n",
    "                        l_of_two.append(f\"{l[i]}|{l[j]}\")\n",
    "                    else:\n",
    "                        l_of_two.append(f\"{l[j]}|{l[i]}\")\n",
    "            return l_of_two\n",
    "        return None\n",
    "    \n",
    "    def _get_frequency(self, article_id, counter_occur_article_id):\n",
    "        \"\"\"FIXME\"\"\"\n",
    "        return counter_occur_article_id[article_id]\n",
    "    \n",
    "    def _get_co_occ_frequency(self, article_id_a, article_id_b, counter_co_occ_article_id):\n",
    "        \"\"\"FIXME\"\"\"\n",
    "        if int(article_id_a) < int(article_id_b):\n",
    "            str_co_occ = article_id_a + '|' + article_id_b\n",
    "        else:\n",
    "            str_co_occ = article_id_b + '|' + article_id_a\n",
    "        return counter_co_occ_article_id[str_co_occ]\n",
    "    \n",
    "    def _get_cosine_sim(self, freq_a, freq_b, co_occ_freq):\n",
    "        \"\"\"FIXME\"\"\"\n",
    "        return (co_occ_freq/sqrt(freq_a*freq_b))\n",
    "        \n",
    "    def fit(self, X, top_n=200, threshold=0.005):\n",
    "        \"\"\"FIXME\"\"\"        \n",
    "        # Keeping only top N articles\n",
    "        start_time = time.time()\n",
    "        counter_article_id = Counter(X['article_id'])\n",
    "        list_top_n = sorted(counter_article_id, key=counter_article_id.get, reverse=True)[:top_n]\n",
    "        X = X[X['article_id'].isin(list_top_n)]\n",
    "        print(\"--- %s seconds ---\" % (time.time() - start_time))\n",
    "        \n",
    "        # Getting baskets\n",
    "        start_time = time.time()\n",
    "        X_grouped = X.groupby(['t_dat', 'customer_id'])['article_id'].apply(list).reset_index()\n",
    "        print(\"--- %s seconds ---\" % (time.time() - start_time))\n",
    "        \n",
    "        # Getting frequencies of article_ids\n",
    "        start_time = time.time()\n",
    "        l_baskets_len2 = list(X_grouped[X_grouped['article_id'].map(len) >1]['article_id'])\n",
    "        l_baskets_len2_flat_list = [x for xs in l_baskets_len2 for x in xs]\n",
    "        counter_occur_article_id = Counter(l_baskets_len2_flat_list)\n",
    "        print(\"--- %s seconds ---\" % (time.time() - start_time))\n",
    "\n",
    "        # Getting co-occur frequencies of article_ids\n",
    "        start_time = time.time()\n",
    "        l_co_occur_article_id = []\n",
    "        for basket in l_baskets_len2:\n",
    "            l_of_two = self._get_l_of_two_from_l(basket)\n",
    "            if l_of_two:\n",
    "                l_co_occur_article_id += l_of_two\n",
    "\n",
    "        counter_co_occ_article_id = Counter(l_co_occur_article_id)\n",
    "        print(\"--- %s seconds ---\" % (time.time() - start_time))\n",
    "        \n",
    "        # Creating pandas dataframe\n",
    "        start_time = time.time()\n",
    "        l_article_id_a = [i.split('|', 1)[0] for i in l_co_occur_article_id]\n",
    "        l_article_id_b = [i.split('|', 1)[1] for i in l_co_occur_article_id]\n",
    "        df_cosine = pd.DataFrame()\n",
    "        df_cosine['article_id_a'] = l_article_id_a\n",
    "        df_cosine['article_id_b'] = l_article_id_b\n",
    "        print(\"--- %s seconds ---\" % (time.time() - start_time))\n",
    "        \n",
    "        start_time = time.time()\n",
    "        df_cosine['freq_a'] = df_cosine['article_id_a'].apply(lambda x : self._get_frequency(x, counter_occur_article_id))\n",
    "        print(\"--- %s seconds ---\" % (time.time() - start_time))\n",
    "        \n",
    "        start_time = time.time()\n",
    "        df_cosine['freq_b'] = df_cosine['article_id_b'].apply(lambda x : self._get_frequency(x, counter_occur_article_id))\n",
    "        print(\"--- %s seconds ---\" % (time.time() - start_time))\n",
    "        \n",
    "        start_time = time.time()\n",
    "        df_cosine['co_occ_freq'] = df_cosine.apply(lambda x: self._get_co_occ_frequency(x.article_id_a, x.article_id_b, counter_co_occ_article_id), axis=1)\n",
    "        print(\"--- %s seconds ---\" % (time.time() - start_time))\n",
    "        \n",
    "        start_time = time.time()\n",
    "        df_cosine['cosine_sim'] = df_cosine.apply(lambda x: self._get_cosine_sim(x.freq_a, x.freq_b, x.co_occ_freq), axis=1)\n",
    "        print(\"--- %s seconds ---\" % (time.time() - start_time))\n",
    "        \n",
    "        df_cosine = df_cosine.sort_values('cosine_sim', ascending=False)\n",
    "        \n",
    "        # Filtering with threshold\n",
    "        self.df_cosine = df_cosine[df_cosine[\"cosine_sim\"]>threshold]\n",
    "\n",
    "        return self\n",
    "    \n",
    "    def predict(self, basket, k=10, strat='mean'):\n",
    "        \"\"\"FIXME\"\"\"\n",
    "        df = self.df_cosine[(self.df_cosine['article_id_a'].isin(basket)) & (~self.df_cosine['article_id_b'].isin(basket))]\n",
    "        \n",
    "        if strat=='mean':\n",
    "            result = list(df[['article_id_b', 'cosine_sim']].groupby(['article_id_b']).mean().reset_index()['article_id_b'])[:k]\n",
    "        elif strat=='max':\n",
    "            result = list(df[['article_id_b', 'cosine_sim']].groupby(['article_id_b']).max().reset_index()['article_id_b'])[:k]\n",
    "        else:\n",
    "            result = []\n",
    "        return result"
   ]
  },
  {
   "cell_type": "code",
   "execution_count": 17,
   "id": "6218e1b6",
   "metadata": {
    "execution": {
     "iopub.execute_input": "2023-01-30T22:27:54.073081Z",
     "iopub.status.busy": "2023-01-30T22:27:54.072424Z",
     "iopub.status.idle": "2023-01-30T22:28:16.702687Z",
     "shell.execute_reply": "2023-01-30T22:28:16.703163Z",
     "shell.execute_reply.started": "2023-01-30T21:27:34.637910Z"
    },
    "papermill": {
     "duration": 23.393175,
     "end_time": "2023-01-30T22:28:16.703362",
     "exception": false,
     "start_time": "2023-01-30T22:27:53.310187",
     "status": "completed"
    },
    "tags": []
   },
   "outputs": [
    {
     "name": "stdout",
     "output_type": "stream",
     "text": [
      "--- 1.353865623474121 seconds ---\n",
      "--- 6.303035020828247 seconds ---\n",
      "--- 0.2114112377166748 seconds ---\n",
      "--- 0.48657703399658203 seconds ---\n",
      "--- 0.19665002822875977 seconds ---\n",
      "--- 0.15726828575134277 seconds ---\n",
      "--- 0.15502619743347168 seconds ---\n",
      "--- 6.334677457809448 seconds ---\n",
      "--- 7.953211307525635 seconds ---\n"
     ]
    }
   ],
   "source": [
    "# FIXME : Optimize for loops, taking ages to run\n",
    "cs_model = CosineSim().fit(transactions_train, top_n=500)"
   ]
  },
  {
   "cell_type": "code",
   "execution_count": 18,
   "id": "1c559b37",
   "metadata": {
    "execution": {
     "iopub.execute_input": "2023-01-30T22:28:16.827644Z",
     "iopub.status.busy": "2023-01-30T22:28:16.826873Z",
     "iopub.status.idle": "2023-01-30T22:28:16.889281Z",
     "shell.execute_reply": "2023-01-30T22:28:16.889717Z",
     "shell.execute_reply.started": "2023-01-30T21:28:01.573467Z"
    },
    "papermill": {
     "duration": 0.125277,
     "end_time": "2023-01-30T22:28:16.889873",
     "exception": false,
     "start_time": "2023-01-30T22:28:16.764596",
     "status": "completed"
    },
    "tags": []
   },
   "outputs": [
    {
     "data": {
      "text/plain": [
       "['610776002',\n",
       " '610776068',\n",
       " '610776071',\n",
       " '610776072',\n",
       " '610776074',\n",
       " '610776083',\n",
       " '624486001',\n",
       " '624486064',\n",
       " '673396002',\n",
       " '678942001']"
      ]
     },
     "execution_count": 18,
     "metadata": {},
     "output_type": "execute_result"
    }
   ],
   "source": [
    "cs_model.predict(['610776001'])"
   ]
  },
  {
   "cell_type": "markdown",
   "id": "af535982",
   "metadata": {
    "papermill": {
     "duration": 0.060278,
     "end_time": "2023-01-30T22:28:17.011478",
     "exception": false,
     "start_time": "2023-01-30T22:28:16.951200",
     "status": "completed"
    },
    "tags": []
   },
   "source": [
    "# ALS"
   ]
  },
  {
   "cell_type": "code",
   "execution_count": 19,
   "id": "a01d4322",
   "metadata": {
    "execution": {
     "iopub.execute_input": "2023-01-30T22:28:17.132445Z",
     "iopub.status.busy": "2023-01-30T22:28:17.131725Z",
     "iopub.status.idle": "2023-01-30T22:29:01.818097Z",
     "shell.execute_reply": "2023-01-30T22:29:01.817233Z",
     "shell.execute_reply.started": "2023-01-30T21:28:01.666759Z"
    },
    "papermill": {
     "duration": 44.747894,
     "end_time": "2023-01-30T22:29:01.818272",
     "exception": false,
     "start_time": "2023-01-30T22:28:17.070378",
     "status": "completed"
    },
    "tags": []
   },
   "outputs": [
    {
     "name": "stdout",
     "output_type": "stream",
     "text": [
      "\u001b[33mWARNING: Running pip as the 'root' user can result in broken permissions and conflicting behaviour with the system package manager. It is recommended to use a virtual environment instead: https://pip.pypa.io/warnings/venv\u001b[0m\r\n"
     ]
    }
   ],
   "source": [
    "!pip install pyspark > /dev/null"
   ]
  },
  {
   "cell_type": "code",
   "execution_count": 20,
   "id": "3304fda8",
   "metadata": {
    "execution": {
     "iopub.execute_input": "2023-01-30T22:29:01.948713Z",
     "iopub.status.busy": "2023-01-30T22:29:01.948058Z",
     "iopub.status.idle": "2023-01-30T22:29:02.002477Z",
     "shell.execute_reply": "2023-01-30T22:29:02.001896Z",
     "shell.execute_reply.started": "2023-01-30T21:29:10.289047Z"
    },
    "papermill": {
     "duration": 0.123378,
     "end_time": "2023-01-30T22:29:02.002619",
     "exception": false,
     "start_time": "2023-01-30T22:29:01.879241",
     "status": "completed"
    },
    "tags": []
   },
   "outputs": [],
   "source": [
    "import pyspark\n",
    "\n",
    "from pyspark import SparkContext, SparkConf\n",
    "from pyspark.sql import SQLContext, SparkSession"
   ]
  },
  {
   "cell_type": "code",
   "execution_count": 21,
   "id": "1df362ea",
   "metadata": {
    "execution": {
     "iopub.execute_input": "2023-01-30T22:29:02.128845Z",
     "iopub.status.busy": "2023-01-30T22:29:02.128355Z",
     "iopub.status.idle": "2023-01-30T22:29:07.498153Z",
     "shell.execute_reply": "2023-01-30T22:29:07.497306Z",
     "shell.execute_reply.started": "2023-01-30T21:29:10.383297Z"
    },
    "papermill": {
     "duration": 5.434006,
     "end_time": "2023-01-30T22:29:07.498383",
     "exception": false,
     "start_time": "2023-01-30T22:29:02.064377",
     "status": "completed"
    },
    "tags": []
   },
   "outputs": [
    {
     "name": "stderr",
     "output_type": "stream",
     "text": [
      "Setting default log level to \"WARN\".\n",
      "To adjust logging level use sc.setLogLevel(newLevel). For SparkR, use setLogLevel(newLevel).\n"
     ]
    },
    {
     "name": "stdout",
     "output_type": "stream",
     "text": [
      "23/01/30 22:29:05 WARN NativeCodeLoader: Unable to load native-hadoop library for your platform... using builtin-java classes where applicable\n"
     ]
    }
   ],
   "source": [
    "conf = SparkConf().set(\"spark.ui.port\", \"4050\") \\\n",
    "                  .set('spark.executor.memory', '9G') \\\n",
    "                  .set('spark.driver.memory', '7G') \\\n",
    "                  .set('spark.sql.autoBroadcastJoinThreshold', '-1')\n",
    "\n",
    "sc = pyspark.SparkContext(conf=conf)\n",
    "spark = SparkSession.builder.getOrCreate()"
   ]
  },
  {
   "cell_type": "code",
   "execution_count": 22,
   "id": "09eab56a",
   "metadata": {
    "execution": {
     "iopub.execute_input": "2023-01-30T22:29:07.625632Z",
     "iopub.status.busy": "2023-01-30T22:29:07.625111Z",
     "iopub.status.idle": "2023-01-30T22:29:07.627564Z",
     "shell.execute_reply": "2023-01-30T22:29:07.627990Z",
     "shell.execute_reply.started": "2023-01-30T21:29:17.680261Z"
    },
    "papermill": {
     "duration": 0.066544,
     "end_time": "2023-01-30T22:29:07.628117",
     "exception": false,
     "start_time": "2023-01-30T22:29:07.561573",
     "status": "completed"
    },
    "tags": []
   },
   "outputs": [],
   "source": [
    "# from pyspark.ml.recommendation import ALS, ALSModel"
   ]
  },
  {
   "cell_type": "code",
   "execution_count": 23,
   "id": "18756d47",
   "metadata": {
    "execution": {
     "iopub.execute_input": "2023-01-30T22:29:07.753965Z",
     "iopub.status.busy": "2023-01-30T22:29:07.753421Z",
     "iopub.status.idle": "2023-01-30T22:29:09.639719Z",
     "shell.execute_reply": "2023-01-30T22:29:09.639015Z",
     "shell.execute_reply.started": "2023-01-30T21:29:17.689624Z"
    },
    "papermill": {
     "duration": 1.95049,
     "end_time": "2023-01-30T22:29:09.639859",
     "exception": false,
     "start_time": "2023-01-30T22:29:07.689369",
     "status": "completed"
    },
    "tags": []
   },
   "outputs": [],
   "source": [
    "# Mapping on whole dataset\n",
    "customer_map = transactions[[\"customer_id\"]].drop_duplicates().reset_index(drop=True)\n",
    "customer_map[\"USER\"] = customer_map.index\n",
    "\n",
    "item_map = transactions[[\"article_id\"]].drop_duplicates().reset_index(drop=True)\n",
    "item_map[\"ITEM\"] = item_map.index\n",
    "\n",
    "customer_map_dict = dict(zip(customer_map['USER'].values, customer_map['customer_id'].values))\n",
    "item_map_dict = dict(zip(item_map['ITEM'].values, item_map['article_id'].values))\n"
   ]
  },
  {
   "cell_type": "code",
   "execution_count": null,
   "id": "e27c0c20",
   "metadata": {
    "papermill": {
     "duration": 0.060313,
     "end_time": "2023-01-30T22:29:09.763593",
     "exception": false,
     "start_time": "2023-01-30T22:29:09.703280",
     "status": "completed"
    },
    "tags": []
   },
   "outputs": [],
   "source": []
  },
  {
   "cell_type": "code",
   "execution_count": 24,
   "id": "69496888",
   "metadata": {
    "execution": {
     "iopub.execute_input": "2023-01-30T22:29:09.892051Z",
     "iopub.status.busy": "2023-01-30T22:29:09.891351Z",
     "iopub.status.idle": "2023-01-30T22:29:14.200861Z",
     "shell.execute_reply": "2023-01-30T22:29:14.200207Z",
     "shell.execute_reply.started": "2023-01-30T21:29:21.328994Z"
    },
    "papermill": {
     "duration": 4.376699,
     "end_time": "2023-01-30T22:29:14.200994",
     "exception": false,
     "start_time": "2023-01-30T22:29:09.824295",
     "status": "completed"
    },
    "tags": []
   },
   "outputs": [],
   "source": [
    "transactions_train_als = (\n",
    "        transactions_train\n",
    "        .merge(customer_map, on=\"customer_id\", how=\"inner\")\n",
    "        .merge(item_map, on=\"article_id\", how=\"inner\")\n",
    "    )"
   ]
  },
  {
   "cell_type": "code",
   "execution_count": 25,
   "id": "d163cec5",
   "metadata": {
    "execution": {
     "iopub.execute_input": "2023-01-30T22:29:14.338796Z",
     "iopub.status.busy": "2023-01-30T22:29:14.337920Z",
     "iopub.status.idle": "2023-01-30T22:29:14.342772Z",
     "shell.execute_reply": "2023-01-30T22:29:14.342132Z",
     "shell.execute_reply.started": "2023-01-30T21:29:28.253077Z"
    },
    "papermill": {
     "duration": 0.080275,
     "end_time": "2023-01-30T22:29:14.342911",
     "exception": false,
     "start_time": "2023-01-30T22:29:14.262636",
     "status": "completed"
    },
    "tags": []
   },
   "outputs": [
    {
     "data": {
      "text/html": [
       "<div>\n",
       "<style scoped>\n",
       "    .dataframe tbody tr th:only-of-type {\n",
       "        vertical-align: middle;\n",
       "    }\n",
       "\n",
       "    .dataframe tbody tr th {\n",
       "        vertical-align: top;\n",
       "    }\n",
       "\n",
       "    .dataframe thead th {\n",
       "        text-align: right;\n",
       "    }\n",
       "</style>\n",
       "<table border=\"1\" class=\"dataframe\">\n",
       "  <thead>\n",
       "    <tr style=\"text-align: right;\">\n",
       "      <th></th>\n",
       "      <th>t_dat</th>\n",
       "      <th>customer_id</th>\n",
       "      <th>article_id</th>\n",
       "      <th>price</th>\n",
       "      <th>sales_channel_id</th>\n",
       "      <th>year_month</th>\n",
       "      <th>month</th>\n",
       "      <th>USER</th>\n",
       "      <th>ITEM</th>\n",
       "    </tr>\n",
       "  </thead>\n",
       "  <tbody>\n",
       "    <tr>\n",
       "      <th>0</th>\n",
       "      <td>2020-07-01</td>\n",
       "      <td>0001d44dbe7f6c4b35200abdb052c77a87596fe1bdcc37...</td>\n",
       "      <td>825577003</td>\n",
       "      <td>0.013542</td>\n",
       "      <td>2</td>\n",
       "      <td>2020-07</td>\n",
       "      <td>07</td>\n",
       "      <td>0</td>\n",
       "      <td>0</td>\n",
       "    </tr>\n",
       "    <tr>\n",
       "      <th>1</th>\n",
       "      <td>2020-07-01</td>\n",
       "      <td>a6b01c312b405648213358b2dabd281da24a41d614e1a6...</td>\n",
       "      <td>825577003</td>\n",
       "      <td>0.013542</td>\n",
       "      <td>2</td>\n",
       "      <td>2020-07</td>\n",
       "      <td>07</td>\n",
       "      <td>10926</td>\n",
       "      <td>0</td>\n",
       "    </tr>\n",
       "    <tr>\n",
       "      <th>2</th>\n",
       "      <td>2020-07-01</td>\n",
       "      <td>ad46e9981871bf1b30179b591f9e4c12905667f2b7b19b...</td>\n",
       "      <td>825577003</td>\n",
       "      <td>0.013542</td>\n",
       "      <td>2</td>\n",
       "      <td>2020-07</td>\n",
       "      <td>07</td>\n",
       "      <td>11300</td>\n",
       "      <td>0</td>\n",
       "    </tr>\n",
       "    <tr>\n",
       "      <th>3</th>\n",
       "      <td>2020-07-01</td>\n",
       "      <td>bce7727c6492066c74f9aa9fc7780ec83ae685da29e53c...</td>\n",
       "      <td>825577003</td>\n",
       "      <td>0.013542</td>\n",
       "      <td>2</td>\n",
       "      <td>2020-07</td>\n",
       "      <td>07</td>\n",
       "      <td>12342</td>\n",
       "      <td>0</td>\n",
       "    </tr>\n",
       "    <tr>\n",
       "      <th>4</th>\n",
       "      <td>2020-07-01</td>\n",
       "      <td>88ee51fed6c213029fbd2255a8ab5b5671194e3ef7c64b...</td>\n",
       "      <td>825577003</td>\n",
       "      <td>0.013542</td>\n",
       "      <td>2</td>\n",
       "      <td>2020-07</td>\n",
       "      <td>07</td>\n",
       "      <td>8975</td>\n",
       "      <td>0</td>\n",
       "    </tr>\n",
       "  </tbody>\n",
       "</table>\n",
       "</div>"
      ],
      "text/plain": [
       "        t_dat                                        customer_id article_id  \\\n",
       "0  2020-07-01  0001d44dbe7f6c4b35200abdb052c77a87596fe1bdcc37...  825577003   \n",
       "1  2020-07-01  a6b01c312b405648213358b2dabd281da24a41d614e1a6...  825577003   \n",
       "2  2020-07-01  ad46e9981871bf1b30179b591f9e4c12905667f2b7b19b...  825577003   \n",
       "3  2020-07-01  bce7727c6492066c74f9aa9fc7780ec83ae685da29e53c...  825577003   \n",
       "4  2020-07-01  88ee51fed6c213029fbd2255a8ab5b5671194e3ef7c64b...  825577003   \n",
       "\n",
       "      price  sales_channel_id year_month month   USER  ITEM  \n",
       "0  0.013542                 2    2020-07    07      0     0  \n",
       "1  0.013542                 2    2020-07    07  10926     0  \n",
       "2  0.013542                 2    2020-07    07  11300     0  \n",
       "3  0.013542                 2    2020-07    07  12342     0  \n",
       "4  0.013542                 2    2020-07    07   8975     0  "
      ]
     },
     "execution_count": 25,
     "metadata": {},
     "output_type": "execute_result"
    }
   ],
   "source": [
    "transactions_train_als.head()"
   ]
  },
  {
   "cell_type": "code",
   "execution_count": 26,
   "id": "fa335bee",
   "metadata": {
    "execution": {
     "iopub.execute_input": "2023-01-30T22:29:14.475954Z",
     "iopub.status.busy": "2023-01-30T22:29:14.474547Z",
     "iopub.status.idle": "2023-01-30T22:29:14.485187Z",
     "shell.execute_reply": "2023-01-30T22:29:14.484569Z",
     "shell.execute_reply.started": "2023-01-30T21:29:28.276493Z"
    },
    "papermill": {
     "duration": 0.079043,
     "end_time": "2023-01-30T22:29:14.485353",
     "exception": false,
     "start_time": "2023-01-30T22:29:14.406310",
     "status": "completed"
    },
    "tags": []
   },
   "outputs": [],
   "source": [
    "df_ratings = transactions_train_als.head(1000).groupby(['USER', 'ITEM']).count().reset_index()[[\"USER\", \"ITEM\", \"price\"]]\n",
    "df_ratings.columns = ['USER', 'ITEM', 'RATING']"
   ]
  },
  {
   "cell_type": "code",
   "execution_count": 27,
   "id": "b0cf1b7b",
   "metadata": {
    "execution": {
     "iopub.execute_input": "2023-01-30T22:29:14.620032Z",
     "iopub.status.busy": "2023-01-30T22:29:14.619416Z",
     "iopub.status.idle": "2023-01-30T22:29:14.622442Z",
     "shell.execute_reply": "2023-01-30T22:29:14.622920Z",
     "shell.execute_reply.started": "2023-01-30T21:29:28.300334Z"
    },
    "papermill": {
     "duration": 0.075782,
     "end_time": "2023-01-30T22:29:14.623063",
     "exception": false,
     "start_time": "2023-01-30T22:29:14.547281",
     "status": "completed"
    },
    "tags": []
   },
   "outputs": [
    {
     "data": {
      "text/html": [
       "<div>\n",
       "<style scoped>\n",
       "    .dataframe tbody tr th:only-of-type {\n",
       "        vertical-align: middle;\n",
       "    }\n",
       "\n",
       "    .dataframe tbody tr th {\n",
       "        vertical-align: top;\n",
       "    }\n",
       "\n",
       "    .dataframe thead th {\n",
       "        text-align: right;\n",
       "    }\n",
       "</style>\n",
       "<table border=\"1\" class=\"dataframe\">\n",
       "  <thead>\n",
       "    <tr style=\"text-align: right;\">\n",
       "      <th></th>\n",
       "      <th>USER</th>\n",
       "      <th>ITEM</th>\n",
       "      <th>RATING</th>\n",
       "    </tr>\n",
       "  </thead>\n",
       "  <tbody>\n",
       "    <tr>\n",
       "      <th>0</th>\n",
       "      <td>0</td>\n",
       "      <td>0</td>\n",
       "      <td>1</td>\n",
       "    </tr>\n",
       "    <tr>\n",
       "      <th>1</th>\n",
       "      <td>0</td>\n",
       "      <td>1</td>\n",
       "      <td>1</td>\n",
       "    </tr>\n",
       "    <tr>\n",
       "      <th>2</th>\n",
       "      <td>0</td>\n",
       "      <td>2</td>\n",
       "      <td>1</td>\n",
       "    </tr>\n",
       "    <tr>\n",
       "      <th>3</th>\n",
       "      <td>0</td>\n",
       "      <td>3</td>\n",
       "      <td>2</td>\n",
       "    </tr>\n",
       "    <tr>\n",
       "      <th>4</th>\n",
       "      <td>0</td>\n",
       "      <td>4</td>\n",
       "      <td>1</td>\n",
       "    </tr>\n",
       "    <tr>\n",
       "      <th>...</th>\n",
       "      <td>...</td>\n",
       "      <td>...</td>\n",
       "      <td>...</td>\n",
       "    </tr>\n",
       "    <tr>\n",
       "      <th>886</th>\n",
       "      <td>382409</td>\n",
       "      <td>4</td>\n",
       "      <td>1</td>\n",
       "    </tr>\n",
       "    <tr>\n",
       "      <th>887</th>\n",
       "      <td>383643</td>\n",
       "      <td>10</td>\n",
       "      <td>1</td>\n",
       "    </tr>\n",
       "    <tr>\n",
       "      <th>888</th>\n",
       "      <td>385210</td>\n",
       "      <td>7</td>\n",
       "      <td>1</td>\n",
       "    </tr>\n",
       "    <tr>\n",
       "      <th>889</th>\n",
       "      <td>385559</td>\n",
       "      <td>1</td>\n",
       "      <td>1</td>\n",
       "    </tr>\n",
       "    <tr>\n",
       "      <th>890</th>\n",
       "      <td>390755</td>\n",
       "      <td>8</td>\n",
       "      <td>1</td>\n",
       "    </tr>\n",
       "  </tbody>\n",
       "</table>\n",
       "<p>891 rows × 3 columns</p>\n",
       "</div>"
      ],
      "text/plain": [
       "       USER  ITEM  RATING\n",
       "0         0     0       1\n",
       "1         0     1       1\n",
       "2         0     2       1\n",
       "3         0     3       2\n",
       "4         0     4       1\n",
       "..      ...   ...     ...\n",
       "886  382409     4       1\n",
       "887  383643    10       1\n",
       "888  385210     7       1\n",
       "889  385559     1       1\n",
       "890  390755     8       1\n",
       "\n",
       "[891 rows x 3 columns]"
      ]
     },
     "execution_count": 27,
     "metadata": {},
     "output_type": "execute_result"
    }
   ],
   "source": [
    "df_ratings"
   ]
  },
  {
   "cell_type": "code",
   "execution_count": 28,
   "id": "9ad396ba",
   "metadata": {
    "execution": {
     "iopub.execute_input": "2023-01-30T22:29:14.753047Z",
     "iopub.status.busy": "2023-01-30T22:29:14.752406Z",
     "iopub.status.idle": "2023-01-30T22:29:20.072175Z",
     "shell.execute_reply": "2023-01-30T22:29:20.072610Z",
     "shell.execute_reply.started": "2023-01-30T21:29:28.320093Z"
    },
    "papermill": {
     "duration": 5.387353,
     "end_time": "2023-01-30T22:29:20.072764",
     "exception": false,
     "start_time": "2023-01-30T22:29:14.685411",
     "status": "completed"
    },
    "tags": []
   },
   "outputs": [
    {
     "name": "stdout",
     "output_type": "stream",
     "text": [
      "root\n",
      " |-- USER: long (nullable = true)\n",
      " |-- ITEM: long (nullable = true)\n",
      " |-- RATING: long (nullable = true)\n",
      "\n",
      "None\n"
     ]
    },
    {
     "name": "stderr",
     "output_type": "stream",
     "text": [
      "[Stage 0:>                                                          (0 + 1) / 1]\r"
     ]
    },
    {
     "name": "stdout",
     "output_type": "stream",
     "text": [
      "+----+-----+------+\n",
      "|USER| ITEM|RATING|\n",
      "+----+-----+------+\n",
      "|   0|    0|     1|\n",
      "|   0|    1|     1|\n",
      "|   0|    2|     1|\n",
      "|   0|    3|     2|\n",
      "|   0|    4|     1|\n",
      "|   0|    5|     1|\n",
      "|   0|    6|     1|\n",
      "|   0|    7|     1|\n",
      "|   0|    8|     1|\n",
      "|   0|    9|     1|\n",
      "|   0|   10|     1|\n",
      "|   0| 4654|     1|\n",
      "|   0| 8016|     2|\n",
      "|   0|11924|     1|\n",
      "|   0|13862|     1|\n",
      "|   0|19446|     1|\n",
      "|  10|    9|     1|\n",
      "| 167|13862|     1|\n",
      "| 262|    1|     1|\n",
      "| 321|    0|     1|\n",
      "+----+-----+------+\n",
      "only showing top 20 rows\n",
      "\n",
      "None\n"
     ]
    },
    {
     "name": "stderr",
     "output_type": "stream",
     "text": [
      "                                                                                \r"
     ]
    }
   ],
   "source": [
    "df_ratings_ps = spark.createDataFrame(df_ratings) \n",
    "print(df_ratings_ps.printSchema())\n",
    "print(df_ratings_ps.show())"
   ]
  },
  {
   "cell_type": "code",
   "execution_count": 29,
   "id": "a59725e2",
   "metadata": {
    "execution": {
     "iopub.execute_input": "2023-01-30T22:29:20.206487Z",
     "iopub.status.busy": "2023-01-30T22:29:20.205726Z",
     "iopub.status.idle": "2023-01-30T22:29:22.452166Z",
     "shell.execute_reply": "2023-01-30T22:29:22.451601Z",
     "shell.execute_reply.started": "2023-01-30T21:29:36.126448Z"
    },
    "papermill": {
     "duration": 2.315446,
     "end_time": "2023-01-30T22:29:22.452354",
     "exception": false,
     "start_time": "2023-01-30T22:29:20.136908",
     "status": "completed"
    },
    "tags": []
   },
   "outputs": [
    {
     "name": "stdout",
     "output_type": "stream",
     "text": [
      "The ratings dataframe is  93.57% sparse.\n"
     ]
    }
   ],
   "source": [
    "def get_mat_sparsity(ratings):\n",
    "    # Count the total number of ratings in the dataset\n",
    "    count_nonzero = ratings.select(\"RATING\").count()\n",
    "\n",
    "    # Count the number of distinct userIds and distinct articleIds\n",
    "    total_elements = ratings.select(\"USER\").distinct().count() * ratings.select(\"ITEM\").distinct().count()\n",
    "\n",
    "    # Divide the numerator by the denominator\n",
    "    sparsity = (1.0 - (count_nonzero *1.0)/total_elements)*100\n",
    "    print(\"The ratings dataframe is \", \"%.2f\" % sparsity + \"% sparse.\")\n",
    "    \n",
    "get_mat_sparsity(df_ratings_ps)"
   ]
  },
  {
   "cell_type": "code",
   "execution_count": 30,
   "id": "f4d95bed",
   "metadata": {
    "execution": {
     "iopub.execute_input": "2023-01-30T22:29:22.630550Z",
     "iopub.status.busy": "2023-01-30T22:29:22.629779Z",
     "iopub.status.idle": "2023-01-30T22:29:22.947423Z",
     "shell.execute_reply": "2023-01-30T22:29:22.946700Z",
     "shell.execute_reply.started": "2023-01-30T21:29:40.275784Z"
    },
    "papermill": {
     "duration": 0.410624,
     "end_time": "2023-01-30T22:29:22.947566",
     "exception": false,
     "start_time": "2023-01-30T22:29:22.536942",
     "status": "completed"
    },
    "tags": []
   },
   "outputs": [],
   "source": [
    "# Import the required functions\n",
    "from pyspark.ml.evaluation import RegressionEvaluator\n",
    "from pyspark.ml.recommendation import ALS\n",
    "from pyspark.ml.tuning import ParamGridBuilder, CrossValidator\n",
    "\n",
    "# Create ALS model\n",
    "als = ALS(\n",
    "         userCol=\"USER\", \n",
    "         itemCol=\"ITEM\",\n",
    "         ratingCol=\"RATING\", \n",
    "         nonnegative = True, \n",
    "         implicitPrefs = False,\n",
    "         coldStartStrategy=\"drop\"\n",
    ")"
   ]
  },
  {
   "cell_type": "code",
   "execution_count": 31,
   "id": "5a181ff1",
   "metadata": {
    "execution": {
     "iopub.execute_input": "2023-01-30T22:29:23.082594Z",
     "iopub.status.busy": "2023-01-30T22:29:23.082043Z",
     "iopub.status.idle": "2023-01-30T22:29:23.085530Z",
     "shell.execute_reply": "2023-01-30T22:29:23.084943Z",
     "shell.execute_reply.started": "2023-01-30T21:29:40.714863Z"
    },
    "papermill": {
     "duration": 0.072529,
     "end_time": "2023-01-30T22:29:23.085676",
     "exception": false,
     "start_time": "2023-01-30T22:29:23.013147",
     "status": "completed"
    },
    "tags": []
   },
   "outputs": [],
   "source": [
    "# Import the requisite packages\n",
    "from pyspark.ml.tuning import ParamGridBuilder, CrossValidator"
   ]
  },
  {
   "cell_type": "code",
   "execution_count": 32,
   "id": "8800fcf7",
   "metadata": {
    "execution": {
     "iopub.execute_input": "2023-01-30T22:29:23.219066Z",
     "iopub.status.busy": "2023-01-30T22:29:23.215363Z",
     "iopub.status.idle": "2023-01-30T22:29:23.221106Z",
     "shell.execute_reply": "2023-01-30T22:29:23.220604Z",
     "shell.execute_reply.started": "2023-01-30T21:29:41.130451Z"
    },
    "papermill": {
     "duration": 0.072957,
     "end_time": "2023-01-30T22:29:23.221278",
     "exception": false,
     "start_time": "2023-01-30T22:29:23.148321",
     "status": "completed"
    },
    "tags": []
   },
   "outputs": [],
   "source": [
    "# Add hyperparameters and their respective values to param_grid\n",
    "param_grid = ParamGridBuilder() \\\n",
    "            .addGrid(als.rank, [10, 50, 100, 150]) \\\n",
    "            .addGrid(als.regParam, [.01, .05, .1, .15]) \\\n",
    "            .build()"
   ]
  },
  {
   "cell_type": "code",
   "execution_count": 33,
   "id": "9a9402b3",
   "metadata": {
    "execution": {
     "iopub.execute_input": "2023-01-30T22:29:23.357302Z",
     "iopub.status.busy": "2023-01-30T22:29:23.356639Z",
     "iopub.status.idle": "2023-01-30T22:29:23.368699Z",
     "shell.execute_reply": "2023-01-30T22:29:23.368050Z",
     "shell.execute_reply.started": "2023-01-30T22:04:44.141824Z"
    },
    "papermill": {
     "duration": 0.082857,
     "end_time": "2023-01-30T22:29:23.368854",
     "exception": false,
     "start_time": "2023-01-30T22:29:23.285997",
     "status": "completed"
    },
    "tags": []
   },
   "outputs": [
    {
     "name": "stdout",
     "output_type": "stream",
     "text": [
      "Num models to be tested:  16\n"
     ]
    }
   ],
   "source": [
    "from pyspark.ml.evaluation import RegressionEvaluator\n",
    "\n",
    "# Define evaluator as RMSE and print length of evaluator\n",
    "evaluator = RegressionEvaluator(\n",
    "           metricName=\"rmse\", \n",
    "           labelCol=\"RATING\", \n",
    "           predictionCol=\"prediction\") \n",
    "print (\"Num models to be tested: \", len(param_grid))"
   ]
  },
  {
   "cell_type": "code",
   "execution_count": 34,
   "id": "876de7ca",
   "metadata": {
    "execution": {
     "iopub.execute_input": "2023-01-30T22:29:23.504954Z",
     "iopub.status.busy": "2023-01-30T22:29:23.504152Z",
     "iopub.status.idle": "2023-01-30T22:29:23.506965Z",
     "shell.execute_reply": "2023-01-30T22:29:23.506485Z",
     "shell.execute_reply.started": "2023-01-30T22:04:44.561320Z"
    },
    "papermill": {
     "duration": 0.071776,
     "end_time": "2023-01-30T22:29:23.507102",
     "exception": false,
     "start_time": "2023-01-30T22:29:23.435326",
     "status": "completed"
    },
    "tags": []
   },
   "outputs": [],
   "source": [
    "# Build cross validation using CrossValidator\n",
    "cv = CrossValidator(estimator=als, estimatorParamMaps=param_grid, evaluator=evaluator, numFolds=5)"
   ]
  },
  {
   "cell_type": "code",
   "execution_count": 35,
   "id": "024d387d",
   "metadata": {
    "execution": {
     "iopub.execute_input": "2023-01-30T22:29:23.641001Z",
     "iopub.status.busy": "2023-01-30T22:29:23.640340Z",
     "iopub.status.idle": "2023-01-30T22:33:14.416659Z",
     "shell.execute_reply": "2023-01-30T22:33:14.417481Z",
     "shell.execute_reply.started": "2023-01-30T22:04:44.829123Z"
    },
    "papermill": {
     "duration": 230.845398,
     "end_time": "2023-01-30T22:33:14.417886",
     "exception": false,
     "start_time": "2023-01-30T22:29:23.572488",
     "status": "completed"
    },
    "tags": []
   },
   "outputs": [],
   "source": [
    "# Fit cross validator to the 'train' dataset\n",
    "model = cv.fit(df_ratings_ps)\n",
    "\n",
    "# Extract best model from the cv model above\n",
    "best_model = model.bestModel"
   ]
  },
  {
   "cell_type": "code",
   "execution_count": 36,
   "id": "a2de7b76",
   "metadata": {
    "execution": {
     "iopub.execute_input": "2023-01-30T22:33:14.558830Z",
     "iopub.status.busy": "2023-01-30T22:33:14.558028Z",
     "iopub.status.idle": "2023-01-30T22:33:14.562207Z",
     "shell.execute_reply": "2023-01-30T22:33:14.562702Z",
     "shell.execute_reply.started": "2023-01-30T22:11:33.764012Z"
    },
    "papermill": {
     "duration": 0.073883,
     "end_time": "2023-01-30T22:33:14.562875",
     "exception": false,
     "start_time": "2023-01-30T22:33:14.488992",
     "status": "completed"
    },
    "tags": []
   },
   "outputs": [
    {
     "name": "stdout",
     "output_type": "stream",
     "text": [
      "Best Model\n",
      "Rank: 10\n",
      "MaxIter: 10\n",
      "RegParam: 0.1\n"
     ]
    }
   ],
   "source": [
    "print(\"Best Model\")\n",
    "print(\"Rank:\", best_model._java_obj.parent().getRank())\n",
    "print(\"MaxIter:\", best_model._java_obj.parent().getMaxIter())\n",
    "print(\"RegParam:\", best_model._java_obj.parent().getRegParam())"
   ]
  },
  {
   "cell_type": "code",
   "execution_count": 37,
   "id": "358e4c8d",
   "metadata": {
    "execution": {
     "iopub.execute_input": "2023-01-30T22:33:14.697235Z",
     "iopub.status.busy": "2023-01-30T22:33:14.694872Z",
     "iopub.status.idle": "2023-01-30T22:33:14.899774Z",
     "shell.execute_reply": "2023-01-30T22:33:14.899032Z",
     "shell.execute_reply.started": "2023-01-30T22:11:33.786455Z"
    },
    "papermill": {
     "duration": 0.2719,
     "end_time": "2023-01-30T22:33:14.899953",
     "exception": false,
     "start_time": "2023-01-30T22:33:14.628053",
     "status": "completed"
    },
    "tags": []
   },
   "outputs": [],
   "source": [
    "recommendations = best_model.recommendForAllUsers(5)"
   ]
  },
  {
   "cell_type": "code",
   "execution_count": 38,
   "id": "df3a22a3",
   "metadata": {
    "execution": {
     "iopub.execute_input": "2023-01-30T22:33:15.036469Z",
     "iopub.status.busy": "2023-01-30T22:33:15.035666Z",
     "iopub.status.idle": "2023-01-30T22:33:18.112444Z",
     "shell.execute_reply": "2023-01-30T22:33:18.112926Z",
     "shell.execute_reply.started": "2023-01-30T22:13:08.001125Z"
    },
    "papermill": {
     "duration": 3.145823,
     "end_time": "2023-01-30T22:33:18.113097",
     "exception": false,
     "start_time": "2023-01-30T22:33:14.967274",
     "status": "completed"
    },
    "tags": []
   },
   "outputs": [
    {
     "name": "stderr",
     "output_type": "stream",
     "text": [
      "[Stage 9537:=================================================>   (94 + 4) / 100]\r"
     ]
    },
    {
     "name": "stdout",
     "output_type": "stream",
     "text": [
      "+----+------------------------------------------------------------------------------------------+\n",
      "|USER|recommendations                                                                           |\n",
      "+----+------------------------------------------------------------------------------------------+\n",
      "|262 |[{1, 0.9135527}, {3, 0.77192265}, {0, 0.702261}, {8, 0.7012728}, {13862, 0.664732}]       |\n",
      "|321 |[{0, 0.91106945}, {3, 0.7471995}, {1, 0.7224341}, {8, 0.60241127}, {8016, 0.5999031}]     |\n",
      "|1136|[{9, 0.9168418}, {4, 0.8134418}, {8016, 0.7581417}, {7, 0.7286532}, {3, 0.6768819}]       |\n",
      "|1166|[{0, 0.91106945}, {3, 0.7471995}, {1, 0.7224341}, {8, 0.60241127}, {8016, 0.5999031}]     |\n",
      "|1167|[{0, 1.8221389}, {3, 1.494399}, {1, 1.4448682}, {8, 1.2048225}, {8016, 1.1998062}]        |\n",
      "|1644|[{0, 0.91106945}, {3, 0.7471995}, {1, 0.7224341}, {8, 0.60241127}, {8016, 0.5999031}]     |\n",
      "|1997|[{0, 1.8221389}, {3, 1.494399}, {1, 1.4448682}, {8, 1.2048225}, {8016, 1.1998062}]        |\n",
      "|2142|[{4, 0.9172826}, {9, 0.8091295}, {7, 0.75557643}, {8016, 0.7232781}, {11924, 0.6547631}]  |\n",
      "|2223|[{0, 0.91106945}, {3, 0.7471995}, {1, 0.7224341}, {8, 0.60241127}, {8016, 0.5999031}]     |\n",
      "|2521|[{13862, 0.92243}, {4654, 0.90293294}, {8016, 0.8359749}, {5, 0.7984638}, {3, 0.77925915}]|\n",
      "+----+------------------------------------------------------------------------------------------+\n",
      "only showing top 10 rows\n",
      "\n"
     ]
    },
    {
     "name": "stderr",
     "output_type": "stream",
     "text": [
      "                                                                                \r"
     ]
    }
   ],
   "source": [
    "recommendations.show(10, False)"
   ]
  },
  {
   "cell_type": "code",
   "execution_count": 39,
   "id": "42d89fd7",
   "metadata": {
    "execution": {
     "iopub.execute_input": "2023-01-30T22:33:18.278803Z",
     "iopub.status.busy": "2023-01-30T22:33:18.278048Z",
     "iopub.status.idle": "2023-01-30T22:33:18.280436Z",
     "shell.execute_reply": "2023-01-30T22:33:18.279925Z",
     "shell.execute_reply.started": "2023-01-30T22:11:34.179393Z"
    },
    "papermill": {
     "duration": 0.074656,
     "end_time": "2023-01-30T22:33:18.280549",
     "exception": false,
     "start_time": "2023-01-30T22:33:18.205893",
     "status": "completed"
    },
    "tags": []
   },
   "outputs": [],
   "source": [
    "# def history_basket_als(X_test, als):\n",
    "#     \"\"\"FIXME\"\"\"\n",
    "#     recommendations = als.recommendForAllUsers(5)"
   ]
  },
  {
   "cell_type": "code",
   "execution_count": 40,
   "id": "870becc8",
   "metadata": {
    "execution": {
     "iopub.execute_input": "2023-01-30T22:33:18.418347Z",
     "iopub.status.busy": "2023-01-30T22:33:18.417057Z",
     "iopub.status.idle": "2023-01-30T22:33:18.420512Z",
     "shell.execute_reply": "2023-01-30T22:33:18.419958Z",
     "shell.execute_reply.started": "2023-01-30T21:41:42.846598Z"
    },
    "papermill": {
     "duration": 0.074305,
     "end_time": "2023-01-30T22:33:18.420631",
     "exception": false,
     "start_time": "2023-01-30T22:33:18.346326",
     "status": "completed"
    },
    "tags": []
   },
   "outputs": [],
   "source": [
    "# transactions_test_als = (\n",
    "#         transactions_test\n",
    "#         .merge(customer_map, on=\"customer_id\", how=\"inner\")\n",
    "#         .merge(item_map, on=\"article_id\", how=\"inner\")\n",
    "#     )"
   ]
  },
  {
   "cell_type": "code",
   "execution_count": 41,
   "id": "63769716",
   "metadata": {
    "execution": {
     "iopub.execute_input": "2023-01-30T22:33:18.559594Z",
     "iopub.status.busy": "2023-01-30T22:33:18.558881Z",
     "iopub.status.idle": "2023-01-30T22:33:18.561680Z",
     "shell.execute_reply": "2023-01-30T22:33:18.561121Z",
     "shell.execute_reply.started": "2023-01-30T21:41:42.850737Z"
    },
    "papermill": {
     "duration": 0.073861,
     "end_time": "2023-01-30T22:33:18.561797",
     "exception": false,
     "start_time": "2023-01-30T22:33:18.487936",
     "status": "completed"
    },
    "tags": []
   },
   "outputs": [],
   "source": [
    "# transactions_test_als"
   ]
  },
  {
   "cell_type": "code",
   "execution_count": 42,
   "id": "95fe8c65",
   "metadata": {
    "execution": {
     "iopub.execute_input": "2023-01-30T22:33:18.697023Z",
     "iopub.status.busy": "2023-01-30T22:33:18.696153Z",
     "iopub.status.idle": "2023-01-30T22:33:18.699361Z",
     "shell.execute_reply": "2023-01-30T22:33:18.699879Z",
     "shell.execute_reply.started": "2023-01-30T21:41:42.854014Z"
    },
    "papermill": {
     "duration": 0.072544,
     "end_time": "2023-01-30T22:33:18.700059",
     "exception": false,
     "start_time": "2023-01-30T22:33:18.627515",
     "status": "completed"
    },
    "tags": []
   },
   "outputs": [],
   "source": [
    "# transactions_test_als.head(1000).groupby(['t_dat','customer_id', 'USER']).ITEM.apply(list).reset_index().head(1000)"
   ]
  },
  {
   "cell_type": "code",
   "execution_count": 43,
   "id": "52186bdd",
   "metadata": {
    "execution": {
     "iopub.execute_input": "2023-01-30T22:33:18.839034Z",
     "iopub.status.busy": "2023-01-30T22:33:18.838366Z",
     "iopub.status.idle": "2023-01-30T22:33:18.840564Z",
     "shell.execute_reply": "2023-01-30T22:33:18.840990Z",
     "shell.execute_reply.started": "2023-01-30T21:41:42.856916Z"
    },
    "papermill": {
     "duration": 0.073025,
     "end_time": "2023-01-30T22:33:18.841147",
     "exception": false,
     "start_time": "2023-01-30T22:33:18.768122",
     "status": "completed"
    },
    "tags": []
   },
   "outputs": [],
   "source": [
    "# # View the predictions\n",
    "# test_predictions = best_model.transform(test)\n",
    "# RMSE = evaluator.evaluate(test_predictions)\n",
    "# print(RMSE)"
   ]
  },
  {
   "cell_type": "code",
   "execution_count": null,
   "id": "6b406085",
   "metadata": {
    "papermill": {
     "duration": 0.06678,
     "end_time": "2023-01-30T22:33:18.975006",
     "exception": false,
     "start_time": "2023-01-30T22:33:18.908226",
     "status": "completed"
    },
    "tags": []
   },
   "outputs": [],
   "source": []
  },
  {
   "cell_type": "code",
   "execution_count": null,
   "id": "a8830fcd",
   "metadata": {
    "papermill": {
     "duration": 0.064827,
     "end_time": "2023-01-30T22:33:19.106596",
     "exception": false,
     "start_time": "2023-01-30T22:33:19.041769",
     "status": "completed"
    },
    "tags": []
   },
   "outputs": [],
   "source": []
  },
  {
   "cell_type": "code",
   "execution_count": 44,
   "id": "efdde1d4",
   "metadata": {
    "execution": {
     "iopub.execute_input": "2023-01-30T22:33:19.240189Z",
     "iopub.status.busy": "2023-01-30T22:33:19.239680Z",
     "iopub.status.idle": "2023-01-30T22:33:19.243120Z",
     "shell.execute_reply": "2023-01-30T22:33:19.243609Z",
     "shell.execute_reply.started": "2023-01-30T21:41:42.861502Z"
    },
    "papermill": {
     "duration": 0.071694,
     "end_time": "2023-01-30T22:33:19.243899",
     "exception": false,
     "start_time": "2023-01-30T22:33:19.172205",
     "status": "completed"
    },
    "tags": []
   },
   "outputs": [],
   "source": [
    "## OLD WORK\n",
    "# customer_map = transactions[[\"customer_id\"]].drop_duplicates().reset_index(drop=True)\n",
    "# customer_map[\"USER\"] = customer_map.index\n",
    "\n",
    "# item_map = df[[\"article_id\"]].drop_duplicates().reset_index(drop=True)\n",
    "# item_map[\"ITEM\"] = item_map.index\n",
    "\n",
    "# customer_map_dict = dict(zip(customer_map['USER'].values, customer_map['customer_id'].values))\n",
    "# item_map_dict = dict(zip(item_map['ITEM'].values, item_map['article_id'].values))"
   ]
  },
  {
   "cell_type": "code",
   "execution_count": 45,
   "id": "70abb446",
   "metadata": {
    "execution": {
     "iopub.execute_input": "2023-01-30T22:33:19.378926Z",
     "iopub.status.busy": "2023-01-30T22:33:19.378438Z",
     "iopub.status.idle": "2023-01-30T22:33:19.381653Z",
     "shell.execute_reply": "2023-01-30T22:33:19.382119Z",
     "shell.execute_reply.started": "2023-01-30T21:41:42.865292Z"
    },
    "papermill": {
     "duration": 0.072268,
     "end_time": "2023-01-30T22:33:19.382282",
     "exception": false,
     "start_time": "2023-01-30T22:33:19.310014",
     "status": "completed"
    },
    "tags": []
   },
   "outputs": [],
   "source": [
    "# transactions_train['article_id'] = transactions_train['article_id'].astype(str)\n",
    "# transactions_train.info()"
   ]
  },
  {
   "cell_type": "code",
   "execution_count": 46,
   "id": "b5fa0c0f",
   "metadata": {
    "execution": {
     "iopub.execute_input": "2023-01-30T22:33:19.521238Z",
     "iopub.status.busy": "2023-01-30T22:33:19.520746Z",
     "iopub.status.idle": "2023-01-30T22:33:19.523618Z",
     "shell.execute_reply": "2023-01-30T22:33:19.524017Z",
     "shell.execute_reply.started": "2023-01-30T21:41:42.875441Z"
    },
    "papermill": {
     "duration": 0.074854,
     "end_time": "2023-01-30T22:33:19.524143",
     "exception": false,
     "start_time": "2023-01-30T22:33:19.449289",
     "status": "completed"
    },
    "tags": []
   },
   "outputs": [],
   "source": [
    "# transactions_train_als = (\n",
    "#         transactions_train\n",
    "#         .merge(customer_map, on=\"customer_id\", how=\"inner\")\n",
    "#         .merge(item_map, on=\"article_id\", how=\"inner\")\n",
    "#     )\n",
    "# transactions_train_als[\"rating\"] = 1"
   ]
  },
  {
   "cell_type": "code",
   "execution_count": 47,
   "id": "8f11740b",
   "metadata": {
    "execution": {
     "iopub.execute_input": "2023-01-30T22:33:19.658459Z",
     "iopub.status.busy": "2023-01-30T22:33:19.657898Z",
     "iopub.status.idle": "2023-01-30T22:33:19.659899Z",
     "shell.execute_reply": "2023-01-30T22:33:19.660277Z",
     "shell.execute_reply.started": "2023-01-30T21:41:42.883340Z"
    },
    "papermill": {
     "duration": 0.070906,
     "end_time": "2023-01-30T22:33:19.660412",
     "exception": false,
     "start_time": "2023-01-30T22:33:19.589506",
     "status": "completed"
    },
    "tags": []
   },
   "outputs": [],
   "source": [
    "# transactions_train_als.head()"
   ]
  },
  {
   "cell_type": "code",
   "execution_count": 48,
   "id": "a4f0138d",
   "metadata": {
    "execution": {
     "iopub.execute_input": "2023-01-30T22:33:19.798102Z",
     "iopub.status.busy": "2023-01-30T22:33:19.797262Z",
     "iopub.status.idle": "2023-01-30T22:33:19.800553Z",
     "shell.execute_reply": "2023-01-30T22:33:19.800979Z",
     "shell.execute_reply.started": "2023-01-30T21:41:42.888218Z"
    },
    "papermill": {
     "duration": 0.074026,
     "end_time": "2023-01-30T22:33:19.801131",
     "exception": false,
     "start_time": "2023-01-30T22:33:19.727105",
     "status": "completed"
    },
    "tags": []
   },
   "outputs": [],
   "source": [
    "# mod = 10000000\n",
    "# transactions_train_als = transactions_train[[\"customer_id\", \"article_id\"]].head(1000)\n",
    "# transactions_train_als[\"rating\"] = 1\n",
    "# transactions_train_als['customer_id_hash'] = transactions_train_als['customer_id'].apply(lambda x : hash(x) % mod)\n",
    "# transactions_train_als['article_id_hash'] = transactions_train_als['article_id'].apply(lambda x : hash(x) % mod)"
   ]
  },
  {
   "cell_type": "code",
   "execution_count": 49,
   "id": "98897697",
   "metadata": {
    "execution": {
     "iopub.execute_input": "2023-01-30T22:33:19.940208Z",
     "iopub.status.busy": "2023-01-30T22:33:19.939566Z",
     "iopub.status.idle": "2023-01-30T22:33:19.942594Z",
     "shell.execute_reply": "2023-01-30T22:33:19.942006Z",
     "shell.execute_reply.started": "2023-01-30T21:41:42.891792Z"
    },
    "papermill": {
     "duration": 0.074111,
     "end_time": "2023-01-30T22:33:19.942743",
     "exception": false,
     "start_time": "2023-01-30T22:33:19.868632",
     "status": "completed"
    },
    "tags": []
   },
   "outputs": [],
   "source": [
    "# transactions_train_als_spark = spark.createDataFrame(transactions_train_als) "
   ]
  },
  {
   "cell_type": "code",
   "execution_count": 50,
   "id": "fb612d1a",
   "metadata": {
    "execution": {
     "iopub.execute_input": "2023-01-30T22:33:20.084548Z",
     "iopub.status.busy": "2023-01-30T22:33:20.083662Z",
     "iopub.status.idle": "2023-01-30T22:33:20.086467Z",
     "shell.execute_reply": "2023-01-30T22:33:20.085916Z",
     "shell.execute_reply.started": "2023-01-30T21:41:42.896535Z"
    },
    "papermill": {
     "duration": 0.076751,
     "end_time": "2023-01-30T22:33:20.086606",
     "exception": false,
     "start_time": "2023-01-30T22:33:20.009855",
     "status": "completed"
    },
    "tags": []
   },
   "outputs": [],
   "source": [
    "# transactions_train_als_spark.show()"
   ]
  },
  {
   "cell_type": "code",
   "execution_count": 51,
   "id": "f79eca63",
   "metadata": {
    "execution": {
     "iopub.execute_input": "2023-01-30T22:33:20.224132Z",
     "iopub.status.busy": "2023-01-30T22:33:20.223578Z",
     "iopub.status.idle": "2023-01-30T22:33:20.226977Z",
     "shell.execute_reply": "2023-01-30T22:33:20.227574Z",
     "shell.execute_reply.started": "2023-01-30T21:41:42.902404Z"
    },
    "papermill": {
     "duration": 0.075368,
     "end_time": "2023-01-30T22:33:20.227764",
     "exception": false,
     "start_time": "2023-01-30T22:33:20.152396",
     "status": "completed"
    },
    "tags": []
   },
   "outputs": [],
   "source": [
    "# als = ALS(userCol=\"customer_id_hash\", itemCol=\"article_id_hash\", ratingCol=\"rating\", coldStartStrategy=\"drop\")\n",
    "\n",
    "# # param_grid = ParamGridBuilder().addGrid(als.rank, [25]) \\\n",
    "# #                                .addGrid(als.regParam, [0.1, 0.15]) \\\n",
    "# #                                .addGrid(als.maxIter, [10]) \\\n",
    "# #                                .build()"
   ]
  },
  {
   "cell_type": "code",
   "execution_count": 52,
   "id": "4c214b6c",
   "metadata": {
    "execution": {
     "iopub.execute_input": "2023-01-30T22:33:20.365274Z",
     "iopub.status.busy": "2023-01-30T22:33:20.364691Z",
     "iopub.status.idle": "2023-01-30T22:33:20.367732Z",
     "shell.execute_reply": "2023-01-30T22:33:20.368178Z",
     "shell.execute_reply.started": "2023-01-30T21:41:42.907777Z"
    },
    "papermill": {
     "duration": 0.073904,
     "end_time": "2023-01-30T22:33:20.368353",
     "exception": false,
     "start_time": "2023-01-30T22:33:20.294449",
     "status": "completed"
    },
    "tags": []
   },
   "outputs": [],
   "source": [
    "# model = als.fit(transactions_train_als_spark)"
   ]
  },
  {
   "cell_type": "code",
   "execution_count": 53,
   "id": "4b8635d8",
   "metadata": {
    "execution": {
     "iopub.execute_input": "2023-01-30T22:33:20.506673Z",
     "iopub.status.busy": "2023-01-30T22:33:20.506056Z",
     "iopub.status.idle": "2023-01-30T22:33:20.509303Z",
     "shell.execute_reply": "2023-01-30T22:33:20.509758Z",
     "shell.execute_reply.started": "2023-01-30T21:41:42.911684Z"
    },
    "papermill": {
     "duration": 0.07392,
     "end_time": "2023-01-30T22:33:20.509945",
     "exception": false,
     "start_time": "2023-01-30T22:33:20.436025",
     "status": "completed"
    },
    "tags": []
   },
   "outputs": [],
   "source": [
    "# transactions_test_als = transactions_test[[\"customer_id\", \"article_id\"]].head(1000)\n",
    "# #transactions_test_als[\"rating\"] = 1\n",
    "# transactions_test_als['customer_id_hash'] = transactions_test_als['customer_id'].apply(lambda x : hash(x) % mod)\n",
    "# transactions_test_als['article_id_hash'] = transactions_test_als['article_id'].apply(lambda x : hash(x) % mod)\n",
    "# transactions_test_als_spark = spark.createDataFrame(transactions_test_als) "
   ]
  },
  {
   "cell_type": "code",
   "execution_count": 54,
   "id": "5b627b0b",
   "metadata": {
    "execution": {
     "iopub.execute_input": "2023-01-30T22:33:20.648390Z",
     "iopub.status.busy": "2023-01-30T22:33:20.647724Z",
     "iopub.status.idle": "2023-01-30T22:33:20.651515Z",
     "shell.execute_reply": "2023-01-30T22:33:20.650854Z",
     "shell.execute_reply.started": "2023-01-30T21:41:42.916109Z"
    },
    "papermill": {
     "duration": 0.07546,
     "end_time": "2023-01-30T22:33:20.651656",
     "exception": false,
     "start_time": "2023-01-30T22:33:20.576196",
     "status": "completed"
    },
    "tags": []
   },
   "outputs": [],
   "source": [
    "# predictions = model.transform(transactions_test_als_spark)"
   ]
  },
  {
   "cell_type": "code",
   "execution_count": 55,
   "id": "2b30059e",
   "metadata": {
    "execution": {
     "iopub.execute_input": "2023-01-30T22:33:20.789402Z",
     "iopub.status.busy": "2023-01-30T22:33:20.788622Z",
     "iopub.status.idle": "2023-01-30T22:33:20.790768Z",
     "shell.execute_reply": "2023-01-30T22:33:20.791149Z",
     "shell.execute_reply.started": "2023-01-30T21:41:42.920432Z"
    },
    "papermill": {
     "duration": 0.073224,
     "end_time": "2023-01-30T22:33:20.791317",
     "exception": false,
     "start_time": "2023-01-30T22:33:20.718093",
     "status": "completed"
    },
    "tags": []
   },
   "outputs": [],
   "source": [
    "# predictions.show()"
   ]
  },
  {
   "cell_type": "code",
   "execution_count": null,
   "id": "7856b773",
   "metadata": {
    "papermill": {
     "duration": 0.06627,
     "end_time": "2023-01-30T22:33:20.924099",
     "exception": false,
     "start_time": "2023-01-30T22:33:20.857829",
     "status": "completed"
    },
    "tags": []
   },
   "outputs": [],
   "source": []
  },
  {
   "cell_type": "code",
   "execution_count": 56,
   "id": "fe2d738f",
   "metadata": {
    "execution": {
     "iopub.execute_input": "2023-01-30T22:33:21.061119Z",
     "iopub.status.busy": "2023-01-30T22:33:21.060397Z",
     "iopub.status.idle": "2023-01-30T22:33:21.063543Z",
     "shell.execute_reply": "2023-01-30T22:33:21.064019Z",
     "shell.execute_reply.started": "2023-01-30T21:41:42.924428Z"
    },
    "papermill": {
     "duration": 0.073933,
     "end_time": "2023-01-30T22:33:21.064202",
     "exception": false,
     "start_time": "2023-01-30T22:33:20.990269",
     "status": "completed"
    },
    "tags": []
   },
   "outputs": [],
   "source": [
    "# !pip install --upgrade implicit"
   ]
  },
  {
   "cell_type": "code",
   "execution_count": 57,
   "id": "87799e59",
   "metadata": {
    "execution": {
     "iopub.execute_input": "2023-01-30T22:33:21.199482Z",
     "iopub.status.busy": "2023-01-30T22:33:21.198847Z",
     "iopub.status.idle": "2023-01-30T22:33:21.202617Z",
     "shell.execute_reply": "2023-01-30T22:33:21.202190Z",
     "shell.execute_reply.started": "2023-01-30T21:41:42.928674Z"
    },
    "papermill": {
     "duration": 0.073062,
     "end_time": "2023-01-30T22:33:21.202729",
     "exception": false,
     "start_time": "2023-01-30T22:33:21.129667",
     "status": "completed"
    },
    "tags": []
   },
   "outputs": [],
   "source": [
    "# import implicit"
   ]
  },
  {
   "cell_type": "code",
   "execution_count": 58,
   "id": "70ba82cb",
   "metadata": {
    "execution": {
     "iopub.execute_input": "2023-01-30T22:33:21.340085Z",
     "iopub.status.busy": "2023-01-30T22:33:21.339134Z",
     "iopub.status.idle": "2023-01-30T22:33:21.340837Z",
     "shell.execute_reply": "2023-01-30T22:33:21.341272Z",
     "shell.execute_reply.started": "2023-01-30T21:41:42.932901Z"
    },
    "papermill": {
     "duration": 0.072125,
     "end_time": "2023-01-30T22:33:21.341437",
     "exception": false,
     "start_time": "2023-01-30T22:33:21.269312",
     "status": "completed"
    },
    "tags": []
   },
   "outputs": [],
   "source": [
    "# model = implicit.als.AlternatingLeastSquares(factors=10, iterations=2)\n",
    "# model.fit(coo_train)"
   ]
  },
  {
   "cell_type": "code",
   "execution_count": 59,
   "id": "d804c19f",
   "metadata": {
    "execution": {
     "iopub.execute_input": "2023-01-30T22:33:21.492102Z",
     "iopub.status.busy": "2023-01-30T22:33:21.491391Z",
     "iopub.status.idle": "2023-01-30T22:33:21.494088Z",
     "shell.execute_reply": "2023-01-30T22:33:21.494630Z",
     "shell.execute_reply.started": "2023-01-30T21:41:42.939431Z"
    },
    "papermill": {
     "duration": 0.086759,
     "end_time": "2023-01-30T22:33:21.494775",
     "exception": false,
     "start_time": "2023-01-30T22:33:21.408016",
     "status": "completed"
    },
    "tags": []
   },
   "outputs": [],
   "source": [
    "# transactions_train.head()"
   ]
  },
  {
   "cell_type": "code",
   "execution_count": 60,
   "id": "fdd87ee4",
   "metadata": {
    "execution": {
     "iopub.execute_input": "2023-01-30T22:33:21.632477Z",
     "iopub.status.busy": "2023-01-30T22:33:21.631947Z",
     "iopub.status.idle": "2023-01-30T22:33:21.635643Z",
     "shell.execute_reply": "2023-01-30T22:33:21.635007Z",
     "shell.execute_reply.started": "2023-01-30T21:41:42.944917Z"
    },
    "papermill": {
     "duration": 0.07232,
     "end_time": "2023-01-30T22:33:21.635795",
     "exception": false,
     "start_time": "2023-01-30T22:33:21.563475",
     "status": "completed"
    },
    "tags": []
   },
   "outputs": [],
   "source": [
    "# transactions_train_als = transactions_train[[\"customer_id\", \"article_id\"]].head(1000)\n",
    "# transactions_train_als[\"rating\"] = 1"
   ]
  },
  {
   "cell_type": "code",
   "execution_count": 61,
   "id": "774ebf94",
   "metadata": {
    "execution": {
     "iopub.execute_input": "2023-01-30T22:33:21.773703Z",
     "iopub.status.busy": "2023-01-30T22:33:21.773009Z",
     "iopub.status.idle": "2023-01-30T22:33:21.774289Z",
     "shell.execute_reply": "2023-01-30T22:33:21.774695Z",
     "shell.execute_reply.started": "2023-01-30T21:41:42.949378Z"
    },
    "papermill": {
     "duration": 0.07298,
     "end_time": "2023-01-30T22:33:21.774854",
     "exception": false,
     "start_time": "2023-01-30T22:33:21.701874",
     "status": "completed"
    },
    "tags": []
   },
   "outputs": [],
   "source": [
    "# !pip install pyspark"
   ]
  },
  {
   "cell_type": "code",
   "execution_count": 62,
   "id": "48b467c5",
   "metadata": {
    "execution": {
     "iopub.execute_input": "2023-01-30T22:33:21.914702Z",
     "iopub.status.busy": "2023-01-30T22:33:21.913991Z",
     "iopub.status.idle": "2023-01-30T22:33:21.916346Z",
     "shell.execute_reply": "2023-01-30T22:33:21.916812Z",
     "shell.execute_reply.started": "2023-01-30T21:41:42.953374Z"
    },
    "papermill": {
     "duration": 0.0743,
     "end_time": "2023-01-30T22:33:21.916972",
     "exception": false,
     "start_time": "2023-01-30T22:33:21.842672",
     "status": "completed"
    },
    "tags": []
   },
   "outputs": [],
   "source": [
    "# import pyspark\n",
    "\n",
    "# from pyspark.ml.recommendation import ALS\n",
    "\n",
    "# als = ALS(maxIter=5, regParam=0.01, userCol=\"customer_id\", itemCol=\"article_id\", ratingCol=\"rating\", coldStartStrategy=\"drop\")\n",
    "# # model = als.fit(transactions_train_als)"
   ]
  },
  {
   "cell_type": "code",
   "execution_count": 63,
   "id": "fa67ada8",
   "metadata": {
    "execution": {
     "iopub.execute_input": "2023-01-30T22:33:22.054285Z",
     "iopub.status.busy": "2023-01-30T22:33:22.053432Z",
     "iopub.status.idle": "2023-01-30T22:33:22.056948Z",
     "shell.execute_reply": "2023-01-30T22:33:22.056486Z",
     "shell.execute_reply.started": "2023-01-30T21:41:42.956515Z"
    },
    "papermill": {
     "duration": 0.072938,
     "end_time": "2023-01-30T22:33:22.057079",
     "exception": false,
     "start_time": "2023-01-30T22:33:21.984141",
     "status": "completed"
    },
    "tags": []
   },
   "outputs": [],
   "source": [
    "# from pyspark.ml.recommendation import ALS\n",
    "\n",
    "# als = ALS(maxIter=10, regParam=1, userCol=\"USER\", itemCol=\"ITEM\", ratingCol=\"RATING\", coldStartStrategy=\"drop\", implicitPrefs=True, alpha=100, rank=200, seed=1)"
   ]
  },
  {
   "cell_type": "markdown",
   "id": "f1282d87",
   "metadata": {
    "papermill": {
     "duration": 0.067494,
     "end_time": "2023-01-30T22:33:22.190956",
     "exception": false,
     "start_time": "2023-01-30T22:33:22.123462",
     "status": "completed"
    },
    "tags": []
   },
   "source": [
    "# Evaluating recommenders"
   ]
  },
  {
   "cell_type": "code",
   "execution_count": 64,
   "id": "13c7c90e",
   "metadata": {
    "execution": {
     "iopub.execute_input": "2023-01-30T22:33:22.332365Z",
     "iopub.status.busy": "2023-01-30T22:33:22.331018Z",
     "iopub.status.idle": "2023-01-30T22:33:22.333343Z",
     "shell.execute_reply": "2023-01-30T22:33:22.333863Z",
     "shell.execute_reply.started": "2023-01-30T22:13:33.938097Z"
    },
    "papermill": {
     "duration": 0.076652,
     "end_time": "2023-01-30T22:33:22.334028",
     "exception": false,
     "start_time": "2023-01-30T22:33:22.257376",
     "status": "completed"
    },
    "tags": []
   },
   "outputs": [],
   "source": [
    "def is_predicted(customer_id, order, model, k, debug=False):\n",
    "    \"\"\"FIXME\"\"\"\n",
    "    if debug:\n",
    "        print(\"##\")\n",
    "        print(\"order:\", order)\n",
    "    order_ = order.copy()\n",
    "    hidden_article_id = order_.pop(random.randrange(len(order_)))\n",
    "    visible_order = order_\n",
    "    \n",
    "    start_time = time.time()\n",
    "    predictions = model.predict(visible_order, k)\n",
    "    if debug:\n",
    "        print(time.time() - start_time)\n",
    "    \n",
    "    if debug:\n",
    "        print(\"visible_order:\", visible_order)\n",
    "        print(\"predictions:\", predictions)\n",
    "        print(\"hidden_article_id:\", hidden_article_id)\n",
    "    \n",
    "    if hidden_article_id in predictions:\n",
    "        if debug:\n",
    "            print(1)\n",
    "        return 1\n",
    "    else:\n",
    "        if debug:\n",
    "            print(0)\n",
    "        return 0"
   ]
  },
  {
   "cell_type": "code",
   "execution_count": 65,
   "id": "d16dee39",
   "metadata": {
    "execution": {
     "iopub.execute_input": "2023-01-30T22:33:22.481519Z",
     "iopub.status.busy": "2023-01-30T22:33:22.480807Z",
     "iopub.status.idle": "2023-01-30T22:33:22.488776Z",
     "shell.execute_reply": "2023-01-30T22:33:22.489410Z",
     "shell.execute_reply.started": "2023-01-30T22:13:34.256315Z"
    },
    "papermill": {
     "duration": 0.088786,
     "end_time": "2023-01-30T22:33:22.489636",
     "exception": false,
     "start_time": "2023-01-30T22:33:22.400850",
     "status": "completed"
    },
    "tags": []
   },
   "outputs": [],
   "source": [
    "def history_basket_performance(X, model, k=10):\n",
    "    \"\"\"FIXME\"\"\"\n",
    "    # Grouping to have orders by day\n",
    "    X_orders = X.groupby(['t_dat', 'customer_id'])['article_id'].apply(list).reset_index()    \n",
    "    \n",
    "    # Keeping only orders where we can hide at least one article and have at least one item in our basket\n",
    "    X_orders['is_long_enough'] = X_orders['article_id'].apply(lambda x: 1 if(len(x)>1) else 0)\n",
    "    X_orders = X_orders[X_orders['is_long_enough']==1]\n",
    "        \n",
    "    v_is_predicted = np.vectorize(lambda x, y, model, k: is_predicted(x, y, model, k))\n",
    "\n",
    "    X_orders['predicted'] = v_is_predicted(X_orders.customer_id, X_orders.article_id, model, k)\n",
    "\n",
    "    is_predicted_count = X_orders[X_orders['predicted']==1].shape[0]\n",
    "    count = X_orders.shape[0]\n",
    "    \n",
    "    return (count, is_predicted_count/count)"
   ]
  },
  {
   "cell_type": "code",
   "execution_count": 66,
   "id": "e26cf59f",
   "metadata": {
    "execution": {
     "iopub.execute_input": "2023-01-30T22:33:22.632513Z",
     "iopub.status.busy": "2023-01-30T22:33:22.631824Z",
     "iopub.status.idle": "2023-01-30T22:33:22.655636Z",
     "shell.execute_reply": "2023-01-30T22:33:22.656157Z",
     "shell.execute_reply.started": "2023-01-30T22:13:34.700949Z"
    },
    "papermill": {
     "duration": 0.093371,
     "end_time": "2023-01-30T22:33:22.656349",
     "exception": false,
     "start_time": "2023-01-30T22:33:22.562978",
     "status": "completed"
    },
    "tags": []
   },
   "outputs": [
    {
     "data": {
      "text/plain": [
       "(230, 0.017391304347826087)"
      ]
     },
     "execution_count": 66,
     "metadata": {},
     "output_type": "execute_result"
    }
   ],
   "source": [
    "history_basket_performance(transactions_test.head(1000), bs_model)"
   ]
  },
  {
   "cell_type": "code",
   "execution_count": 67,
   "id": "8524fa46",
   "metadata": {
    "execution": {
     "iopub.execute_input": "2023-01-30T22:33:22.795029Z",
     "iopub.status.busy": "2023-01-30T22:33:22.794424Z",
     "iopub.status.idle": "2023-01-30T22:33:35.300675Z",
     "shell.execute_reply": "2023-01-30T22:33:35.300073Z",
     "shell.execute_reply.started": "2023-01-30T22:13:35.070387Z"
    },
    "papermill": {
     "duration": 12.576466,
     "end_time": "2023-01-30T22:33:35.300807",
     "exception": false,
     "start_time": "2023-01-30T22:33:22.724341",
     "status": "completed"
    },
    "tags": []
   },
   "outputs": [
    {
     "data": {
      "text/plain": [
       "(230, 0.021739130434782608)"
      ]
     },
     "execution_count": 67,
     "metadata": {},
     "output_type": "execute_result"
    }
   ],
   "source": [
    "history_basket_performance(transactions_test.head(1000), cs_model)"
   ]
  },
  {
   "cell_type": "code",
   "execution_count": 68,
   "id": "4ce25018",
   "metadata": {
    "execution": {
     "iopub.execute_input": "2023-01-30T22:33:35.441584Z",
     "iopub.status.busy": "2023-01-30T22:33:35.440474Z",
     "iopub.status.idle": "2023-01-30T22:33:35.442366Z",
     "shell.execute_reply": "2023-01-30T22:33:35.442800Z",
     "shell.execute_reply.started": "2023-01-30T21:41:42.971246Z"
    },
    "papermill": {
     "duration": 0.074224,
     "end_time": "2023-01-30T22:33:35.442963",
     "exception": false,
     "start_time": "2023-01-30T22:33:35.368739",
     "status": "completed"
    },
    "tags": []
   },
   "outputs": [],
   "source": [
    "# (205, 0.24878048780487805)"
   ]
  },
  {
   "cell_type": "markdown",
   "id": "ae40f46f",
   "metadata": {
    "papermill": {
     "duration": 0.066606,
     "end_time": "2023-01-30T22:33:35.577623",
     "exception": false,
     "start_time": "2023-01-30T22:33:35.511017",
     "status": "completed"
    },
    "tags": []
   },
   "source": [
    "# Evaluating top_n in cosine_sim"
   ]
  },
  {
   "cell_type": "code",
   "execution_count": 69,
   "id": "1104659b",
   "metadata": {
    "execution": {
     "iopub.execute_input": "2023-01-30T22:33:35.713425Z",
     "iopub.status.busy": "2023-01-30T22:33:35.712783Z",
     "iopub.status.idle": "2023-01-30T22:47:45.065518Z",
     "shell.execute_reply": "2023-01-30T22:47:45.065937Z",
     "shell.execute_reply.started": "2023-01-30T21:41:42.973863Z"
    },
    "papermill": {
     "duration": 849.422745,
     "end_time": "2023-01-30T22:47:45.066089",
     "exception": false,
     "start_time": "2023-01-30T22:33:35.643344",
     "status": "completed"
    },
    "tags": []
   },
   "outputs": [
    {
     "name": "stdout",
     "output_type": "stream",
     "text": [
      "##\n",
      "350\n",
      "--- 0.8520350456237793 seconds ---\n",
      "--- 5.242396116256714 seconds ---\n",
      "--- 0.1661379337310791 seconds ---\n",
      "--- 0.34273386001586914 seconds ---\n",
      "--- 0.16624951362609863 seconds ---\n",
      "--- 0.12357592582702637 seconds ---\n",
      "--- 0.10404372215270996 seconds ---\n",
      "--- 4.254295110702515 seconds ---\n",
      "--- 5.52678918838501 seconds ---\n",
      "(688, 0.010174418604651164)\n",
      "##\n",
      "500\n",
      "--- 0.7843461036682129 seconds ---\n",
      "--- 7.9958226680755615 seconds ---\n",
      "--- 0.2137155532836914 seconds ---\n",
      "--- 0.4921739101409912 seconds ---\n",
      "--- 0.2559926509857178 seconds ---\n",
      "--- 0.18002724647521973 seconds ---\n",
      "--- 0.1705458164215088 seconds ---\n",
      "--- 6.269280910491943 seconds ---\n",
      "--- 8.372557878494263 seconds ---\n",
      "(688, 0.0188953488372093)\n",
      "##\n",
      "750\n",
      "--- 0.8687756061553955 seconds ---\n",
      "--- 7.5851686000823975 seconds ---\n",
      "--- 0.26464319229125977 seconds ---\n",
      "--- 0.7463462352752686 seconds ---\n",
      "--- 0.39125752449035645 seconds ---\n",
      "--- 0.2918221950531006 seconds ---\n",
      "--- 0.2474498748779297 seconds ---\n",
      "--- 10.090497016906738 seconds ---\n",
      "--- 12.797839641571045 seconds ---\n",
      "(688, 0.020348837209302327)\n",
      "##\n",
      "1000\n",
      "--- 0.7939813137054443 seconds ---\n",
      "--- 8.447873592376709 seconds ---\n",
      "--- 0.30037808418273926 seconds ---\n",
      "--- 0.9474313259124756 seconds ---\n",
      "--- 0.5230329036712646 seconds ---\n",
      "--- 0.4028284549713135 seconds ---\n",
      "--- 0.34700918197631836 seconds ---\n",
      "--- 13.513721942901611 seconds ---\n",
      "--- 17.40388584136963 seconds ---\n",
      "(688, 0.024709302325581394)\n",
      "##\n",
      "1250\n",
      "--- 0.8605849742889404 seconds ---\n",
      "--- 10.535156488418579 seconds ---\n",
      "--- 0.33895277976989746 seconds ---\n",
      "--- 1.158724069595337 seconds ---\n",
      "--- 0.6648092269897461 seconds ---\n",
      "--- 0.5029587745666504 seconds ---\n",
      "--- 0.44280099868774414 seconds ---\n",
      "--- 17.286569833755493 seconds ---\n",
      "--- 21.8148193359375 seconds ---\n",
      "(688, 0.020348837209302327)\n",
      "##\n",
      "1500\n",
      "--- 0.920799970626831 seconds ---\n",
      "--- 9.694453716278076 seconds ---\n",
      "--- 0.36434054374694824 seconds ---\n",
      "--- 1.356785535812378 seconds ---\n",
      "--- 0.8320705890655518 seconds ---\n",
      "--- 0.6144874095916748 seconds ---\n",
      "--- 0.5537106990814209 seconds ---\n",
      "--- 20.749659299850464 seconds ---\n",
      "--- 26.664993047714233 seconds ---\n",
      "(688, 0.024709302325581394)\n",
      "##\n",
      "2000\n",
      "--- 0.9051027297973633 seconds ---\n",
      "--- 10.790748119354248 seconds ---\n",
      "--- 0.4069221019744873 seconds ---\n",
      "--- 1.8005948066711426 seconds ---\n",
      "--- 1.074613332748413 seconds ---\n",
      "--- 0.8330504894256592 seconds ---\n",
      "--- 0.7390487194061279 seconds ---\n",
      "--- 27.72814106941223 seconds ---\n",
      "--- 35.33755612373352 seconds ---\n",
      "(688, 0.024709302325581394)\n"
     ]
    }
   ],
   "source": [
    "# [100, 200, 300, 400, 500, 600, 700, 800, 900, 1000]\n",
    "l_top_n = [350, 500, 750, 1000, 1250, 1500, 2000]\n",
    "l_perf = []\n",
    "for top_n in l_top_n:\n",
    "    print(\"##\")\n",
    "    print(top_n)\n",
    "    cs_model = CosineSim().fit(transactions_train, top_n)\n",
    "    perf = history_basket_performance(transactions_test.head(3000), cs_model)\n",
    "    l_perf.append(perf[1])\n",
    "    print(perf)"
   ]
  },
  {
   "cell_type": "code",
   "execution_count": 70,
   "id": "4309929b",
   "metadata": {
    "execution": {
     "iopub.execute_input": "2023-01-30T22:47:45.242501Z",
     "iopub.status.busy": "2023-01-30T22:47:45.241941Z",
     "iopub.status.idle": "2023-01-30T22:47:45.634750Z",
     "shell.execute_reply": "2023-01-30T22:47:45.635222Z",
     "shell.execute_reply.started": "2023-01-30T21:41:42.977609Z"
    },
    "papermill": {
     "duration": 0.484121,
     "end_time": "2023-01-30T22:47:45.635423",
     "exception": false,
     "start_time": "2023-01-30T22:47:45.151302",
     "status": "completed"
    },
    "tags": []
   },
   "outputs": [
    {
     "data": {
      "image/png": "[encoded data removed]",
      "text/plain": [
       "<Figure size 1080x360 with 1 Axes>"
      ]
     },
     "metadata": {
      "needs_background": "light"
     },
     "output_type": "display_data"
    }
   ],
   "source": [
    "from scipy.interpolate import make_interp_spline\n",
    "\n",
    "x = np.array(l_top_n)\n",
    "y = np.array(l_perf)\n",
    "\n",
    "X_Y_Spline = make_interp_spline(x, y)\n",
    " \n",
    "# Returns evenly spaced numbers over a specified interval.\n",
    "X_ = np.linspace(x.min(), x.max(), 100)\n",
    "Y_ = X_Y_Spline(X_)\n",
    "\n",
    "_ = plt.plot(X_, Y_)\n",
    "_ = plt.xticks(rotation=90)"
   ]
  },
  {
   "cell_type": "code",
   "execution_count": null,
   "id": "907459a4",
   "metadata": {
    "papermill": {
     "duration": 0.08441,
     "end_time": "2023-01-30T22:47:45.805106",
     "exception": false,
     "start_time": "2023-01-30T22:47:45.720696",
     "status": "completed"
    },
    "tags": []
   },
   "outputs": [],
   "source": []
  },
  {
   "cell_type": "code",
   "execution_count": null,
   "id": "894c0de7",
   "metadata": {
    "papermill": {
     "duration": 0.085227,
     "end_time": "2023-01-30T22:47:45.977945",
     "exception": false,
     "start_time": "2023-01-30T22:47:45.892718",
     "status": "completed"
    },
    "tags": []
   },
   "outputs": [],
   "source": []
  },
  {
   "cell_type": "code",
   "execution_count": null,
   "id": "adac50a4",
   "metadata": {
    "papermill": {
     "duration": 0.084906,
     "end_time": "2023-01-30T22:47:46.148466",
     "exception": false,
     "start_time": "2023-01-30T22:47:46.063560",
     "status": "completed"
    },
    "tags": []
   },
   "outputs": [],
   "source": []
  },
  {
   "cell_type": "code",
   "execution_count": null,
   "id": "cdb69e42",
   "metadata": {
    "papermill": {
     "duration": 0.085884,
     "end_time": "2023-01-30T22:47:46.319872",
     "exception": false,
     "start_time": "2023-01-30T22:47:46.233988",
     "status": "completed"
    },
    "tags": []
   },
   "outputs": [],
   "source": []
  },
  {
   "cell_type": "code",
   "execution_count": null,
   "id": "ca9018bf",
   "metadata": {
    "papermill": {
     "duration": 0.086457,
     "end_time": "2023-01-30T22:47:46.491894",
     "exception": false,
     "start_time": "2023-01-30T22:47:46.405437",
     "status": "completed"
    },
    "tags": []
   },
   "outputs": [],
   "source": []
  },
  {
   "cell_type": "code",
   "execution_count": null,
   "id": "14e60f1d",
   "metadata": {
    "papermill": {
     "duration": 0.090685,
     "end_time": "2023-01-30T22:47:46.683535",
     "exception": false,
     "start_time": "2023-01-30T22:47:46.592850",
     "status": "completed"
    },
    "tags": []
   },
   "outputs": [],
   "source": []
  }
 ],
 "metadata": {
  "kernelspec": {
   "display_name": "Python 3",
   "language": "python",
   "name": "python3"
  },
  "language_info": {
   "codemirror_mode": {
    "name": "ipython",
    "version": 3
   },
   "file_extension": ".py",
   "mimetype": "text/x-python",
   "name": "python",
   "nbconvert_exporter": "python",
   "pygments_lexer": "ipython3",
   "version": "3.7.12"
  },
  "papermill": {
   "default_parameters": {},
   "duration": 1746.456348,
   "end_time": "2023-01-30T22:47:49.897649",
   "environment_variables": {},
   "exception": null,
   "input_path": "__notebook__.ipynb",
   "output_path": "__notebook__.ipynb",
   "parameters": {},
   "start_time": "2023-01-30T22:18:43.441301",
   "version": "2.3.3"
  }
 },
 "nbformat": 4,
 "nbformat_minor": 5
}
